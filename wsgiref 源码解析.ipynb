{
 "cells": [
  {
   "cell_type": "markdown",
   "metadata": {
    "collapsed": true
   },
   "source": [
    "# wsgiref 源码解析\n",
    "http://cizixs.com/2014/11/09/dive-into-wsgiref\n",
    "\n",
    "Note: use python 2.7"
   ]
  },
  {
   "cell_type": "markdown",
   "metadata": {},
   "source": [
    "wsgiref 是 PEP 333 定义的 wsgi 规范的范例实现，里面的功能包括了：\n",
    "\n",
    "* 操作 wsgi 的环境变量\n",
    "* 应答头部的处理\n",
    "* 实现简单的 HTTP server\n",
    "* 简单的对程序端和服务器端校验函数"
   ]
  },
  {
   "cell_type": "raw",
   "metadata": {
    "collapsed": true
   },
   "source": [
    "# app.py\n",
    "\n",
    "# pep333 定义的程序端可调用对象\n",
    "\n",
    "def hello_world_app(environ, start_response):\n",
    "    status = '200 OK' # HTTP Status\n",
    "    headers = [('Content-type', 'text/plain')] # HTTP Headers\n",
    "    start_response(status, headers)\n",
    "\n",
    "    # The returned object is going to be printed\n",
    "    return [\"Hello World\"]"
   ]
  },
  {
   "cell_type": "raw",
   "metadata": {
    "collapsed": false
   },
   "source": [
    "# server.py\n",
    "\n",
    "from wsgiref_example.app import hello_world_app\n",
    "from wsgiref.simple_server import make_server\n",
    "\n",
    "httpd = make_server('', 8000, hello_world_app)\n",
    "print \"Serving on port 8000...\"\n",
    "\n",
    "# Serve until process is killed\n",
    "httpd.serve_forever(1)"
   ]
  },
  {
   "cell_type": "raw",
   "metadata": {
    "collapsed": true
   },
   "source": [
    "! python wsgiref_example/server.py"
   ]
  },
  {
   "cell_type": "markdown",
   "metadata": {},
   "source": [
    "Output"
   ]
  },
  {
   "cell_type": "raw",
   "metadata": {},
   "source": [
    "Serving on port 8000...\n",
    "127.0.0.1 - - [21/Feb/2017 21:43:07] \"GET / HTTP/1.1\" 200 11\n",
    "127.0.0.1 - - [21/Feb/2017 21:43:14] \"GET / HTTP/1.1\" 200 11\n",
    "127.0.0.1 - - [21/Feb/2017 21:43:57] \"GET / HTTP/1.1\" 200 11"
   ]
  },
  {
   "cell_type": "raw",
   "metadata": {
    "collapsed": true
   },
   "source": [
    "! curl -i http://localhost:8000/"
   ]
  },
  {
   "cell_type": "markdown",
   "metadata": {},
   "source": [
    "Output"
   ]
  },
  {
   "cell_type": "raw",
   "metadata": {
    "collapsed": true
   },
   "source": [
    "HTTP/1.0 200 OK\n",
    "Date: Wed, 22 Feb 2017 02:43:14 GMT\n",
    "Server: WSGIServer/0.1 Python/2.7.10\n",
    "Content-type: text/plain\n",
    "Content-Length: 11\n",
    "\n",
    "Hello World%"
   ]
  },
  {
   "cell_type": "markdown",
   "metadata": {},
   "source": [
    "## 源码分析"
   ]
  },
  {
   "cell_type": "code",
   "execution_count": 1,
   "metadata": {
    "collapsed": false
   },
   "outputs": [
    {
     "name": "stdout",
     "output_type": "stream",
     "text": [
      "Help on package wsgiref:\n",
      "\n",
      "NAME\n",
      "    wsgiref - wsgiref -- a WSGI (PEP 3333) Reference Library\n",
      "\n",
      "MODULE REFERENCE\n",
      "    https://docs.python.org/3.5/library/wsgiref.html\n",
      "    \n",
      "    The following documentation is automatically generated from the Python\n",
      "    source files.  It may be incomplete, incorrect or include features that\n",
      "    are considered implementation detail and may vary between Python\n",
      "    implementations.  When in doubt, consult the module reference at the\n",
      "    location listed above.\n",
      "\n",
      "DESCRIPTION\n",
      "    Current Contents:\n",
      "    \n",
      "    * util -- Miscellaneous useful functions and wrappers\n",
      "    \n",
      "    * headers -- Manage response headers\n",
      "    \n",
      "    * handlers -- base classes for server/gateway implementations\n",
      "    \n",
      "    * simple_server -- a simple BaseHTTPServer that supports WSGI\n",
      "    \n",
      "    * validate -- validation wrapper that sits between an app and a server\n",
      "      to detect errors in either\n",
      "    \n",
      "    To-Do:\n",
      "    \n",
      "    * cgi_gateway -- Run WSGI apps under CGI (pending a deployment standard)\n",
      "    \n",
      "    * cgi_wrapper -- Run CGI apps under WSGI\n",
      "    \n",
      "    * router -- a simple middleware component that handles URL traversal\n",
      "\n",
      "PACKAGE CONTENTS\n",
      "    handlers\n",
      "    headers\n",
      "    simple_server\n",
      "    util\n",
      "    validate\n",
      "\n",
      "FILE\n",
      "    /Users/binyang/anaconda/envs/py3.5/lib/python3.5/wsgiref/__init__.py\n",
      "\n",
      "\n"
     ]
    }
   ],
   "source": [
    "import wsgiref\n",
    "help(wsgiref)"
   ]
  },
  {
   "cell_type": "code",
   "execution_count": 2,
   "metadata": {
    "collapsed": false
   },
   "outputs": [
    {
     "data": {
      "text/plain": [
       "['/Users/binyang/anaconda/envs/py3.5/lib/python3.5/wsgiref']"
      ]
     },
     "execution_count": 2,
     "metadata": {},
     "output_type": "execute_result"
    }
   ],
   "source": [
    "wsgiref.__path__"
   ]
  },
  {
   "cell_type": "code",
   "execution_count": 3,
   "metadata": {
    "collapsed": false
   },
   "outputs": [
    {
     "name": "stdout",
     "output_type": "stream",
     "text": [
      "/Users/binyang/anaconda/envs/py3.5/lib/python3.5/wsgiref\r\n",
      "├── __init__.py\r\n",
      "├── handlers.py\r\n",
      "├── headers.py\r\n",
      "├── simple_server.py\r\n",
      "├── util.py\r\n",
      "└── validate.py\r\n",
      "\r\n",
      "0 directories, 6 files\r\n"
     ]
    }
   ],
   "source": [
    "!tree -I __pycache__ /Users/binyang/anaconda/envs/py3.5/lib/python3.5/wsgiref "
   ]
  },
  {
   "cell_type": "markdown",
   "metadata": {},
   "source": [
    "主要的代码结构如下图所示："
   ]
  },
  {
   "cell_type": "markdown",
   "metadata": {},
   "source": [
    "![](wsgiref_example/wsgiref_pic.jpg)"
   ]
  },
  {
   "cell_type": "markdown",
   "metadata": {
    "collapsed": true
   },
   "source": [
    "# simple_server.py\n",
    "\n",
    "我们先看一下 make_server 是怎么启动一个 wsgi 服务器的："
   ]
  },
  {
   "cell_type": "raw",
   "metadata": {
    "collapsed": true
   },
   "source": [
    "def make_server(\n",
    "    host, port, app, server_class=WSGIServer, handler_class=WSGIRequestHandler\n",
    "):\n",
    "    \"\"\"Create a new WSGI server listening on `host` and `port` for `app`\"\"\"\n",
    "    server = server_class((host, port), handler_class)\n",
    "    server.set_app(app)\n",
    "    return server"
   ]
  },
  {
   "cell_type": "markdown",
   "metadata": {
    "collapsed": true
   },
   "source": [
    "这个函数做的事情就是：监听在本地的端口上，接受来自客户端的请求，通过 WSGIServer 和 WSGIRequestHandler 处理后，把请求交给程序的的可调用对象 app，然后返回 app 的结果给客户端。"
   ]
  },
  {
   "cell_type": "markdown",
   "metadata": {
    "collapsed": true
   },
   "source": [
    "这里有两个重要的类：WSGIServer 和 WSGIRequestHandler。下面分别看一下它们的代码和执行的功能。"
   ]
  },
  {
   "cell_type": "markdown",
   "metadata": {
    "collapsed": true
   },
   "source": [
    "### WSGIServer \n",
    "WSGIServer 在原来的 HTTPServer 上面封装了一层，在原来的 HTTPServer 的基础上又额外做了下面的事情：\n",
    "\n",
    "* 覆写原来的 server_bind 函数，添加初始化 environ 变量的动作\n",
    "* 添加了处理满足 wsgi 的 app 函数：set_app 和 get_app"
   ]
  },
  {
   "cell_type": "raw",
   "metadata": {},
   "source": [
    "class WSGIServer(HTTPServer):\n",
    " \n",
    "    \"\"\"BaseHTTPServer that implements the Python WSGI protocol\"\"\"\n",
    " \n",
    "    application = None\n",
    " \n",
    "    def server_bind(self):\n",
    "        \"\"\"Override server_bind to store the server name.\"\"\"\n",
    "        HTTPServer.server_bind(self)\n",
    "        self.setup_environ()\n",
    " \n",
    "    def setup_environ(self):\n",
    "        # Set up base environment\n",
    "        env = self.base_environ = {}\n",
    "        env['SERVER_NAME'] = self.server_name\n",
    "        env['GATEWAY_INTERFACE'] = 'CGI/1.1'\n",
    "        env['SERVER_PORT'] = str(self.server_port)\n",
    "        env['REMOTE_HOST']=''\n",
    "        env['CONTENT_LENGTH']=''\n",
    "        env['SCRIPT_NAME'] = ''\n",
    " \n",
    "    def get_app(self):\n",
    "        return self.application\n",
    " \n",
    "    def set_app(self,application):\n",
    "        self.application = application"
   ]
  },
  {
   "cell_type": "markdown",
   "metadata": {},
   "source": [
    "### WSGIRequestHandler\n",
    "这个类从名字就能知道它的功能——处理客户端的 HTTP 请求，它也是在原来处理 http 请求的BaseHTTPRequestHandler 类上添加了 wsgi 规范相关的内容。\n",
    "\n",
    "* get_environ： 解析 environ 变量\n",
    "* handle： 处理请求，把封装的环境变量交给 ServerHandler，然后由 ServerHandler 调用 wsgi app，ServerHandler 类会在下面介绍。"
   ]
  },
  {
   "cell_type": "raw",
   "metadata": {},
   "source": [
    "class WSGIRequestHandler(BaseHTTPRequestHandler):\n",
    " \n",
    "    server_version = \"WSGIServer/\" + __version__\n",
    " \n",
    "    def get_environ(self):\n",
    "        env = self.server.base_environ.copy()\n",
    "        env['SERVER_PROTOCOL'] = self.request_version\n",
    "        env['REQUEST_METHOD'] = self.command\n",
    "        if '?' in self.path:\n",
    "            path,query = self.path.split('?',1)\n",
    "        else:\n",
    "            path,query = self.path,''\n",
    " \n",
    "        env['PATH_INFO'] = urllib.unquote(path)\n",
    "        env['QUERY_STRING'] = query\n",
    " \n",
    "        host = self.address_string()\n",
    "        if host != self.client_address[0]:\n",
    "            env['REMOTE_HOST'] = host\n",
    "        env['REMOTE_ADDR'] = self.client_address[0]\n",
    " \n",
    "        if self.headers.typeheader is None:\n",
    "            env['CONTENT_TYPE'] = self.headers.type\n",
    "        else:\n",
    "            env['CONTENT_TYPE'] = self.headers.typeheader\n",
    " \n",
    "        length = self.headers.getheader('content-length')\n",
    "        if length:\n",
    "            env['CONTENT_LENGTH'] = length\n",
    " \n",
    "        for h in self.headers.headers:\n",
    "            k,v = h.split(':',1)\n",
    "            k=k.replace('-','_').upper(); v=v.strip()\n",
    "            if k in env:\n",
    "                continue                    # skip content length, type,etc.\n",
    "            if 'HTTP_'+k in env:\n",
    "                env['HTTP_'+k] += ','+v     # comma-separate multiple headers\n",
    "            else:\n",
    "                env['HTTP_'+k] = v\n",
    "        return env\n",
    " \n",
    "    def get_stderr(self):\n",
    "        return sys.stderr\n",
    " \n",
    "    def handle(self):\n",
    "        \"\"\"Handle a single HTTP request\"\"\"\n",
    " \n",
    "        self.raw_requestline = self.rfile.readline()\n",
    "        if not self.parse_request(): # An error code has been sent, just exit\n",
    "            return\n",
    " \n",
    "        handler = ServerHandler(\n",
    "            self.rfile, self.wfile, self.get_stderr(), self.get_environ()\n",
    "        )\n",
    "        handler.request_handler = self      # backpointer for logging\n",
    "        handler.run(self.server.get_app())\n"
   ]
  },
  {
   "cell_type": "markdown",
   "metadata": {},
   "source": [
    "## handler.py\n",
    "\n",
    "这个文件主要是 wsgi server 的处理过程，定义 start_response、调用 wsgi app 、处理 content-length 等等。"
   ]
  },
  {
   "cell_type": "markdown",
   "metadata": {
    "collapsed": true
   },
   "source": [
    "![](wsgiref_example/wsgi_2.jpg)"
   ]
  },
  {
   "cell_type": "markdown",
   "metadata": {
    "collapsed": true
   },
   "source": [
    "## 一条 HTTP 请求的旅程\n",
    "\n",
    "服务器端启动服务，等到客户端输入 curl -i http://localhost:8000/ 命令，摁下回车键，看到终端上的输出，整个过程中，wsgi 的服务器端发生了什么呢？\n",
    "\n",
    "1. 服务器程序创建 socket，并监听在特定的端口，等待客户端的连接\n",
    "2. 客户端发送 http 请求\n",
    "3. socket server 读取请求的数据，交给 http server\n",
    "4. http server 根据 http 的规范解析请求，然后把请求交给 WSGIServer\n",
    "5. WSGIServer 把客户端的信息存放在 environ 变量里，然后交给绑定的 handler 处理请求\n",
    "6. HTTPHandler 解析请求，把 method、path 等放在 environ，然后 WSGIRequestHandler 把服务器端的信息也放到 environ 里\n",
    "7. WSGIRequestHandler 调用绑定的 wsgi ServerHandler，把上面包含了服务器信息，客户端信息，本次请求信息得 environ 传递过去\n",
    "8. wsgi ServerHandler 调用注册的 wsgi app，把 environ 和 start_response 传递过去\n",
    "9. wsgi app 将reponse header、status、body 回传给 wsgi handler\n",
    "10. 然后 handler 逐层传递，最后把这些信息通过 socket 发送到客户端\n",
    "11. 客户端的程序接到应答，解析应答，并把结果打印出来。"
   ]
  }
 ],
 "metadata": {
  "kernelspec": {
   "display_name": "Python 3",
   "language": "python",
   "name": "python3"
  },
  "language_info": {
   "codemirror_mode": {
    "name": "ipython",
    "version": 3
   },
   "file_extension": ".py",
   "mimetype": "text/x-python",
   "name": "python",
   "nbconvert_exporter": "python",
   "pygments_lexer": "ipython3",
   "version": "3.5.2"
  }
 },
 "nbformat": 4,
 "nbformat_minor": 2
}
