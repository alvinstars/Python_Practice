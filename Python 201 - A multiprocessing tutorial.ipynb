{
 "cells": [
  {
   "cell_type": "markdown",
   "metadata": {},
   "source": [
    "# Python 201: A multiprocessing tutorial\n",
    "http://www.blog.pythonlibrary.org/2016/08/02/python-201-a-multiprocessing-tutorial/       "
   ]
  },
  {
   "cell_type": "markdown",
   "metadata": {},
   "source": [
    "## multiprocessing"
   ]
  },
  {
   "cell_type": "code",
   "execution_count": 1,
   "metadata": {
    "collapsed": false
   },
   "outputs": [
    {
     "name": "stdout",
     "output_type": "stream",
     "text": [
      "  2 doubled to   4 by process id: 38080\n",
      "  3 doubled to   6 by process id: 38081\n",
      "  7 doubled to  14 by process id: 38083\n",
      "  5 doubled to  10 by process id: 38082\n",
      " 11 doubled to  22 by process id: 38084\n",
      " 13 doubled to  26 by process id: 38085\n"
     ]
    }
   ],
   "source": [
    "# version 1\n",
    "import os\n",
    "\n",
    "from multiprocessing import Process\n",
    "\n",
    "def doubler(number):\n",
    "    \"\"\"\n",
    "    A doubling function that can be used by a process\n",
    "    \"\"\"\n",
    "    result = number * 2\n",
    "    proc = os.getpid()\n",
    "    print('{0: >3} doubled to {1: >3} by process id: {2}'.format(number, result, proc))\n",
    "\n",
    "if __name__ == '__main__':\n",
    "    numbers = [2,3,5,7,11,13]\n",
    "    procs = []\n",
    "    \n",
    "    \n",
    "    for index, number in enumerate(numbers):\n",
    "        proc = Process(target = doubler, args = (number,))\n",
    "        procs.append(proc)\n",
    "        proc.start()\n",
    "        \n",
    "    for proc in procs:\n",
    "        proc.join()  # the join() tells python to wait for the process to terminate"
   ]
  },
  {
   "cell_type": "markdown",
   "metadata": {},
   "source": [
    "## current_process().name"
   ]
  },
  {
   "cell_type": "code",
   "execution_count": 2,
   "metadata": {
    "collapsed": false
   },
   "outputs": [
    {
     "name": "stdout",
     "output_type": "stream",
     "text": [
      "Index[ 0]   2 doubled to   4 by process id: Process-7\n",
      "Index[ 1]   3 doubled to   6 by process id: Process-8\n",
      "Index[ 2]   5 doubled to  10 by process id: Process-9\n",
      "Index[ 3]   7 doubled to  14 by process id: Process-10\n",
      "Index[ 4]  11 doubled to  22 by process id: Process-11\n",
      "Index[ 5]  13 doubled to  26 by process id: Process-12\n",
      "Index[-1]   2 doubled to   4 by process id: Test\n"
     ]
    }
   ],
   "source": [
    "# version 2\n",
    "\n",
    "import os\n",
    "\n",
    "from multiprocessing import Process, current_process\n",
    "\n",
    "def doubler(number, index = -1):\n",
    "    \"\"\"\n",
    "    A doubling function that can be used by a process\n",
    "    \"\"\"\n",
    "    result = number * 2\n",
    "    proc_name = current_process().name # current_process is the same thing as current_thread\n",
    "    print('Index[{3: >2}] {0: >3} doubled to {1: >3} by process id: {2}'.format(number, result, proc_name, index))\n",
    "\n",
    "if __name__ == '__main__':\n",
    "    numbers = [2,3,5,7,11,13]\n",
    "    procs = []\n",
    "#     proc = Process(target=doubler, args = (5,))\n",
    "    \n",
    "    for index, number in enumerate(numbers):\n",
    "        proc = Process(target = doubler, args = (number, index))\n",
    "        procs.append(proc)\n",
    "        proc.start()\n",
    "        \n",
    "    proc = Process(target=doubler, name='Test', args=(2,))\n",
    "    proc.start()\n",
    "    procs.append(proc)\n",
    "    \n",
    "    for proc in procs:\n",
    "        proc.join()  # the join() tells python to wait for the process to terminate"
   ]
  },
  {
   "cell_type": "markdown",
   "metadata": {},
   "source": [
    "## Locks\n",
    "The multiprocessing module supports locks in much the same way as the threading module does. All you need to do is import Lock, acquire it, do something and release it.\n",
    "\n",
    "To prevent the threads from interfering with each other, we use a Lock object. This code will loop over our list of three items and create a process for each of them. Each process will call our function and pass it one of the items from the iterable. Because we’re using locks, the next process in line will wait for the lock to release before it can continue."
   ]
  },
  {
   "cell_type": "code",
   "execution_count": 3,
   "metadata": {
    "collapsed": false
   },
   "outputs": [
    {
     "name": "stdout",
     "output_type": "stream",
     "text": [
      "a\n",
      "b\n",
      "c\n",
      "d\n",
      "e\n",
      "1\n",
      "2\n",
      "3\n",
      "4\n",
      "5\n"
     ]
    }
   ],
   "source": [
    "# with Lock\n",
    "\n",
    "from multiprocessing import Process, Lock\n",
    "\n",
    "def printer(item, lock):\n",
    "    \"\"\"\n",
    "    Prints out items\n",
    "    \"\"\"\n",
    "    lock.acquire()\n",
    "    try:\n",
    "        print(item)\n",
    "    finally:\n",
    "        lock.release()\n",
    "        \n",
    "if __name__ == '__main__':\n",
    "    lock = Lock()\n",
    "    items = ['a','b','c','d','e',1,2,3,4,5]\n",
    "    for item in items:\n",
    "        p = Process(target=printer, args = (item, lock))\n",
    "        p.start()"
   ]
  },
  {
   "cell_type": "code",
   "execution_count": 9,
   "metadata": {
    "collapsed": false
   },
   "outputs": [
    {
     "name": "stdout",
     "output_type": "stream",
     "text": [
      "b\n",
      "a\n",
      "c\n",
      "d\n",
      "e\n",
      "1\n",
      "2\n",
      "3\n",
      "4\n",
      "5\n"
     ]
    }
   ],
   "source": [
    "# without Lock\n",
    "\n",
    "from multiprocessing import Process, Lock\n",
    "\n",
    "def printer(item, lock):\n",
    "    \"\"\"\n",
    "    Prints out items\n",
    "    \"\"\"\n",
    "#     lock.acquire()\n",
    "    print(item)\n",
    "#     finally:\n",
    "#         lock.release()\n",
    "\n",
    "if __name__ == '__main__':\n",
    "#     lock = Lock()\n",
    "    items = ['a','b','c','d','e',1,2,3,4,5]\n",
    "    for item in items:\n",
    "        p = Process(target=printer, args = (item, lock))\n",
    "        p.start()"
   ]
  },
  {
   "cell_type": "markdown",
   "metadata": {},
   "source": [
    "## Logging\n",
    "Logging processes is a little different than logging threads. The reason for this is that Python’s logging packages doesn’t use process shared locks, so it’s possible for you to end up with messages from different processes getting mixed up. "
   ]
  },
  {
   "cell_type": "code",
   "execution_count": 5,
   "metadata": {
    "collapsed": false
   },
   "outputs": [
    {
     "name": "stderr",
     "output_type": "stream",
     "text": [
      "[INFO/Process-34] child process calling self.run()\n"
     ]
    },
    {
     "name": "stdout",
     "output_type": "stream",
     "text": [
      "a\n"
     ]
    },
    {
     "name": "stderr",
     "output_type": "stream",
     "text": [
      "[INFO/Process-34] process shutting down\n",
      "[INFO/Process-35] child process calling self.run()\n",
      "[INFO/Process-34] process exiting with exitcode 0\n"
     ]
    },
    {
     "name": "stdout",
     "output_type": "stream",
     "text": [
      "b\n"
     ]
    },
    {
     "name": "stderr",
     "output_type": "stream",
     "text": [
      "[INFO/Process-35] process shutting down\n",
      "[INFO/Process-36] child process calling self.run()\n"
     ]
    },
    {
     "name": "stdout",
     "output_type": "stream",
     "text": [
      "c\n"
     ]
    },
    {
     "name": "stderr",
     "output_type": "stream",
     "text": [
      "[INFO/Process-35] process exiting with exitcode 0\n",
      "[INFO/Process-36] process shutting down\n",
      "[INFO/Process-36] process exiting with exitcode 0\n"
     ]
    }
   ],
   "source": [
    "import logging\n",
    "import multiprocessing\n",
    "\n",
    "from multiprocessing import Process, Lock\n",
    "\n",
    "def printer(item, lock):\n",
    "    lock.acquire()\n",
    "    try:\n",
    "        print(item)\n",
    "    finally:\n",
    "        lock.release()\n",
    "        \n",
    "if __name__ == '__main__':\n",
    "    lock = Lock()\n",
    "    items = ['a','b','c']\n",
    "    multiprocessing.log_to_stderr() # the simplest way to send log to stderr\n",
    "    logger = multiprocessing.get_logger() # get access to logger\n",
    "    logger.setLevel(logging.INFO)\n",
    "    for item in items:\n",
    "        p = Process(target=printer, args = (item, lock))\n",
    "        p.start()\n",
    "        # join() is called implicitly when the parent thread exits\n",
    "    logger.setLevel(logging.WARNING) # raise logging level  \n"
   ]
  },
  {
   "cell_type": "markdown",
   "metadata": {},
   "source": [
    "## The Pool Class\n",
    "\n",
    "The Pool class is used to represent a pool of worker processes. It has methods which can allow you to offload tasks to the worker processes. "
   ]
  },
  {
   "cell_type": "code",
   "execution_count": 6,
   "metadata": {
    "collapsed": false
   },
   "outputs": [
    {
     "name": "stdout",
     "output_type": "stream",
     "text": [
      "[10, 20, 40]\n"
     ]
    }
   ],
   "source": [
    "from multiprocessing import Pool\n",
    "\n",
    "def doubler(number):\n",
    "    return number * 2\n",
    "\n",
    "if __name__ == '__main__':\n",
    "    numbers = [5,10,20]\n",
    "    pool = Pool(processes = 3) # create an instance pool having 3 worker processes\n",
    "    print(pool.map(doubler, numbers))"
   ]
  },
  {
   "cell_type": "markdown",
   "metadata": {
    "collapsed": true
   },
   "source": [
    "can also get the result using apply_async, and print with get()"
   ]
  },
  {
   "cell_type": "code",
   "execution_count": 7,
   "metadata": {
    "collapsed": false
   },
   "outputs": [
    {
     "name": "stdout",
     "output_type": "stream",
     "text": [
      "10\n"
     ]
    }
   ],
   "source": [
    "from multiprocessing import Pool\n",
    "\n",
    "def doubler(number):\n",
    "    return number * 2\n",
    "\n",
    "if __name__ == '__main__':\n",
    "    numbers = [5,10,20]\n",
    "    pool = Pool(processes = 3) # create an instance pool having 3 worker processes\n",
    "    result = pool.apply_async(doubler, (5,))\n",
    "    print(result.get(timeout=5))"
   ]
  },
  {
   "cell_type": "markdown",
   "metadata": {
    "collapsed": true
   },
   "source": [
    "## Process Communication\n",
    "\n",
    "When it comes to communicating between processes, the multiprocessing modules has two primary methods: Queues and Pipes. The Queue implementation is actually both thread and process safe."
   ]
  },
  {
   "cell_type": "code",
   "execution_count": 8,
   "metadata": {
    "collapsed": false
   },
   "outputs": [
    {
     "name": "stdout",
     "output_type": "stream",
     "text": [
      "creating data and putting it on the queue: [5, 10, 13, -1]\n",
      "data found to be processed: 5\n",
      "processed:  10\n",
      "data found to be processed: 10\n",
      "processed:  20\n",
      "data found to be processed: 13\n",
      "processed:  26\n",
      "data found to be processed: -1\n",
      "processed:  -2\n",
      "queue is about to close\n"
     ]
    }
   ],
   "source": [
    "from multiprocessing import Process, Queue\n",
    "\n",
    "sentinel = -1\n",
    "\n",
    "def creator(data, q):\n",
    "    print('creating data and putting it on the queue: {}'.format(data))\n",
    "    for item in data:\n",
    "        q.put(item)\n",
    "        \n",
    "def my_consumer(q):\n",
    "    while True:\n",
    "        data = q.get()\n",
    "        print('data found to be processed: {}'.format(data))\n",
    "        processed = data * 2\n",
    "        print('processed: ',processed)\n",
    "        \n",
    "        if data is sentinel:\n",
    "            break\n",
    "\n",
    "if __name__ == '__main__':\n",
    "    q = Queue()\n",
    "    data = [5,10,13,-1]\n",
    "    process_one = Process(target=creator, args = (data, q))\n",
    "    process_two = Process(target=my_consumer, args = (q,))\n",
    "    process_one.start()\n",
    "    process_two.start()\n",
    "    print('queue is about to close')\n",
    "    q.close()\n",
    "    q.join_thread()\n",
    "    process_one.join()\n",
    "    process_two.join()"
   ]
  }
 ],
 "metadata": {
  "kernelspec": {
   "display_name": "Python 3",
   "language": "python",
   "name": "python3"
  },
  "language_info": {
   "codemirror_mode": {
    "name": "ipython",
    "version": 3
   },
   "file_extension": ".py",
   "mimetype": "text/x-python",
   "name": "python",
   "nbconvert_exporter": "python",
   "pygments_lexer": "ipython3",
   "version": "3.5.2"
  }
 },
 "nbformat": 4,
 "nbformat_minor": 2
}
