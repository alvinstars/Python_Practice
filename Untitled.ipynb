{
 "cells": [
  {
   "cell_type": "code",
   "execution_count": 1,
   "metadata": {
    "collapsed": false
   },
   "outputs": [
    {
     "name": "stdout",
     "output_type": "stream",
     "text": [
      "Would register class <class '__main__.MyObject'> now.\n",
      "<type 'NoneType'> None\n",
      "Would register class <class '__main__.Example'> now.\n",
      "Would unregister class <class '__main__.Example'> now.\n",
      "<__main__.Example object at 0x10430aed0>\n",
      "Would register class <class '__main__.Sibling'> now.\n",
      "Would register class <class '__main__.AutoClass'> now.\n",
      "<class '__main__.AutoClass'>\n",
      "(<class '__main__.AutoClass'>, <class '__main__.Example'>, <class '__main__.Sibling'>, <class '__main__.MyObject'>, <type 'object'>)\n"
     ]
    }
   ],
   "source": [
    "#Python 2.7\n",
    "def make_hook(f):\n",
    "    \"\"\"Decorator to turn 'foo' method into '__foo__'\"\"\"\n",
    "    f.is_hook = 1\n",
    "    return f\n",
    "\n",
    "class MyType(type):\n",
    "    def __new__(cls, name, bases, attrs):\n",
    "\n",
    "        if name.startswith('None'):\n",
    "            return None\n",
    "\n",
    "        # Go over attributes and see if they should be renamed.\n",
    "        newattrs = {}\n",
    "        for attrname, attrvalue in attrs.iteritems():\n",
    "            if getattr(attrvalue, 'is_hook', 0):\n",
    "                newattrs['__%s__' % attrname] = attrvalue\n",
    "            else:\n",
    "                newattrs[attrname] = attrvalue\n",
    "\n",
    "        return super(MyType, cls).__new__(cls, name, bases, newattrs)\n",
    "\n",
    "    def __init__(self, name, bases, attrs):\n",
    "        super(MyType, self).__init__(name, bases, attrs)\n",
    "\n",
    "        # classregistry.register(self, self.interfaces)\n",
    "        print \"Would register class %s now.\" % self\n",
    "\n",
    "    def __add__(self, other):\n",
    "        class AutoClass(self, other):\n",
    "            pass\n",
    "        return AutoClass\n",
    "        # Alternatively, to autogenerate the classname as well as the class:\n",
    "        # return type(self.__name__ + other.__name__, (self, other), {})\n",
    "\n",
    "    def unregister(self):\n",
    "        # classregistry.unregister(self)\n",
    "        print \"Would unregister class %s now.\" % self\n",
    "\n",
    "class MyObject:\n",
    "    __metaclass__ = MyType\n",
    "\n",
    "\n",
    "class NoneSample(MyObject):\n",
    "    pass\n",
    "\n",
    "# Will print \"NoneType None\"\n",
    "print type(NoneSample), repr(NoneSample)\n",
    "\n",
    "class Example(MyObject):\n",
    "    def __init__(self, value):\n",
    "        self.value = value\n",
    "    @make_hook\n",
    "    def add(self, other):\n",
    "        return self.__class__(self.value + other.value)\n",
    "\n",
    "# Will unregister the class\n",
    "Example.unregister()\n",
    "\n",
    "inst = Example(10)\n",
    "# Will fail with an AttributeError\n",
    "#inst.unregister()\n",
    "\n",
    "print inst + inst\n",
    "class Sibling(MyObject):\n",
    "    pass\n",
    "\n",
    "ExampleSibling = Example + Sibling\n",
    "# ExampleSibling is now a subclass of both Example and Sibling (with no\n",
    "# content of its own) although it will believe it's called 'AutoClass'\n",
    "print ExampleSibling\n",
    "print ExampleSibling.__mro__"
   ]
  }
 ],
 "metadata": {
  "kernelspec": {
   "display_name": "Python 2",
   "language": "python",
   "name": "python2"
  },
  "language_info": {
   "codemirror_mode": {
    "name": "ipython",
    "version": 2
   },
   "file_extension": ".py",
   "mimetype": "text/x-python",
   "name": "python",
   "nbconvert_exporter": "python",
   "pygments_lexer": "ipython2",
   "version": "2.7.12"
  }
 },
 "nbformat": 4,
 "nbformat_minor": 2
}
