{
 "cells": [
  {
   "cell_type": "markdown",
   "metadata": {},
   "source": [
    "# Python 作用域(scope) 和 LEGB\n",
    "http://python.jobbole.com/87280/"
   ]
  },
  {
   "cell_type": "raw",
   "metadata": {},
   "source": [
    "名字和实体的绑定, 我们可以理解成赋值. num = int_obj, 当我们执行这句代码时, 实际上我们已经得到一个(‘num’, int_obj)的关联关系, 我们也能将称之为约束, 这个约束也将存在名字空间(name space)里面, 名字空间也将是LEGB查找的依据.\n",
    "\n",
    "而每个名字空间, 也将对应一个作用域, 作用域是代码正文中的一段代码区域, 作用域的有效范围更多是这段代码区域去衡量,一个作用域可以有多个名字空间, 一个名字空间也能有多个约束(多个赋值语句)"
   ]
  },
  {
   "cell_type": "markdown",
   "metadata": {},
   "source": [
    "## sys._getframe"
   ]
  },
  {
   "cell_type": "code",
   "execution_count": 3,
   "metadata": {
    "collapsed": true
   },
   "outputs": [],
   "source": [
    "# 可以通过sys._getframe().f_code.co_name 查看代码所处的作用域\n",
    "# 从函数的定义可以看到, sys._getframe将返回一个frameobject对象\n",
    "\n",
    "# sys module\n",
    "def _getframe(depth=None): # real signature unknown; restored from __doc__\n",
    "    \"\"\"\n",
    "    _getframe([depth]) -> frameobject\n",
    "    \n",
    "    Return a frame object from the call stack.  If optional integer depth is\n",
    "    given, return the frame object that many calls below the top of the stack.\n",
    "    If that is deeper than the call stack, ValueError is raised.  The default\n",
    "    for depth is zero, returning the frame at the top of the call stack.\n",
    "    \n",
    "    This function should be used for internal and specialized\n",
    "    purposes only.\n",
    "    \"\"\"\n",
    "    pass"
   ]
  },
  {
   "cell_type": "markdown",
   "metadata": {},
   "source": [
    "## frameobejct"
   ]
  },
  {
   "cell_type": "raw",
   "metadata": {},
   "source": [
    "frameobjec实际上就是python虚拟机上所维护的每个栈帧, 这和我们常规理解的栈帧多点差别, 因为python在原有栈帧的基础上, 在封装一层形成自己的栈帧. 虽然是有些不同, 但是我们还是能近似看成常规理解的栈帧, 包括入栈,出栈 局部变量等等"
   ]
  },
  {
   "cell_type": "raw",
   "metadata": {},
   "source": [
    "# 那么frameobejct里面究竟有什么?\n",
    "\n",
    "# help(sys._getframe())\n",
    "# Output:\n",
    "class frame(object)\n",
    " .....            # 省略\n",
    " |  Data descriptors defined here:\n",
    " |  f_back        # 上一个栈帧对象(谁调用自己)\n",
    " |  f_builtins    # 内置名字空间\n",
    " |  f_locals      # 本地名字空间\n",
    " |  f_globals     # 全局名字空间\n",
    " |  f_code        # 帧指向的 codeObject对象\n",
    " .....            # 省略"
   ]
  },
  {
   "cell_type": "raw",
   "metadata": {},
   "source": [
    "# print help(sys._getframe().f_code)\n",
    "# Output:\n",
    "class code(object)\n",
    " ......        # 省略\n",
    " |  Data descriptors defined here:\n",
    " |  \n",
    " |  co_name    # code block的名字, 通常是类名或者函数名 /* string (name, for reference) */ \n",
    " |  \n",
    " |  co_names   # code block中所有的名字 /* list of strings (names used) */\n",
    " |\n",
    " ......        # 省略"
   ]
  },
  {
   "cell_type": "markdown",
   "metadata": {},
   "source": [
    "## 约束 和 作用域的关系"
   ]
  },
  {
   "cell_type": "raw",
   "metadata": {},
   "source": [
    "每个约束一旦创建, 将会持续的影响后面代码的执行, 但是约束也只能在名字空间内生效, 也就是说,一旦出了名字空间/作用域. 约束也将失效"
   ]
  },
  {
   "cell_type": "code",
   "execution_count": 9,
   "metadata": {
    "collapsed": false
   },
   "outputs": [
    {
     "name": "stdout",
     "output_type": "stream",
     "text": [
      "6\n",
      "3\n"
     ]
    }
   ],
   "source": [
    "a = 3\n",
    "def f():\n",
    "    a = 6\n",
    "    print(a)    # 输出 6\n",
    "f()\n",
    "print(a)        # 输出 3"
   ]
  },
  {
   "cell_type": "raw",
   "metadata": {},
   "source": [
    "一个变量名, 可能有多次改变其绑定的实体对象的机会, 但是最终显示是哪个实体, 完全就是从作用域->名字空间->约束 来决定"
   ]
  },
  {
   "cell_type": "markdown",
   "metadata": {},
   "source": [
    "## LEGB"
   ]
  },
  {
   "cell_type": "raw",
   "metadata": {},
   "source": [
    "LEGB 分别是:\n",
    "\n",
    "locals 是函数内的名字空间，包括局部变量和形参\n",
    "enclosing 外部嵌套函数的名字空间（闭包中常见）\n",
    "globals 全局变量，函数定义所在模块的名字空间\n",
    "builtins 内置模块的名字空间\n",
    "\n",
    "而查找的优先顺序从左到右以此是: L -> E -> G -> B"
   ]
  },
  {
   "cell_type": "code",
   "execution_count": 18,
   "metadata": {
    "collapsed": false
   },
   "outputs": [
    {
     "name": "stdout",
     "output_type": "stream",
     "text": [
      "func f1:  4\n",
      "<built-in function open>\n",
      "func v:  4\n"
     ]
    }
   ],
   "source": [
    "a = 3\n",
    "def f1():\n",
    "    a = 4\n",
    "    print('func f1: ', a)\n",
    "    print(open)\n",
    "    def v():\n",
    "        print('func v: ', a)\n",
    "    return v\n",
    "test = f1()\n",
    "test()          # 输出 3"
   ]
  },
  {
   "cell_type": "code",
   "execution_count": 20,
   "metadata": {
    "collapsed": false
   },
   "outputs": [
    {
     "name": "stdout",
     "output_type": "stream",
     "text": [
      "4\n"
     ]
    }
   ],
   "source": [
    "a = 3\n",
    "def f():\n",
    "    a = 4\n",
    "    def v():\n",
    "        print(a)\n",
    "    return v\n",
    "test = f()\n",
    "test()     # 输出 4 Why?"
   ]
  },
  {
   "cell_type": "markdown",
   "metadata": {},
   "source": [
    "#### Question: a=4是在函数f里面定义的, 但是返回v的时候, 函数已经退出,理应释放了, 为什么test()还能输出4呢? \n",
    "其实原因很简单, 首先这个已经是闭包函数了, 同样的还是遵循LEGB的原则, 函数v已经能够在外层嵌套作用域找到a的定义, 又因为闭包函数有个特点, 在构建的时候, 能够将需要的约束也一并绑定到自身里头, 所以即使函数f退出了, 变量a释放了, 但是不要紧, 函数v已经绑定好了相应的约束了, 自然而然也就能输出4。"
   ]
  }
 ],
 "metadata": {
  "kernelspec": {
   "display_name": "Python 3",
   "language": "python",
   "name": "python3"
  },
  "language_info": {
   "codemirror_mode": {
    "name": "ipython",
    "version": 3
   },
   "file_extension": ".py",
   "mimetype": "text/x-python",
   "name": "python",
   "nbconvert_exporter": "python",
   "pygments_lexer": "ipython3",
   "version": "3.5.2"
  }
 },
 "nbformat": 4,
 "nbformat_minor": 2
}
