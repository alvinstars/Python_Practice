{
 "cells": [
  {
   "cell_type": "markdown",
   "metadata": {},
   "source": [
    "# Python 单元测试之 unittest\n",
    "http://python.jobbole.com/87490/"
   ]
  },
  {
   "cell_type": "markdown",
   "metadata": {},
   "source": [
    "Python 常用 unittest module 编写单元测试，它包含四个概念：\n",
    "\n",
    "* test fixture：初始化和清理测试环境，比如创建临时的数据库，文件和目录等，其中 setUp() 和 tearDown() 是最常用的方法\n",
    "* test case：单元测试用例，TestCase 是编写单元测试用例最常用的类\n",
    "* test suite：单元测试用例的集合，TestSuite 是最常用的类\n",
    "* test runner：执行单元测试"
   ]
  },
  {
   "cell_type": "raw",
   "metadata": {},
   "source": [
    "# testdemo.py\n",
    "import unittest\n",
    " \n",
    "class TestStringMethods(unittest.TestCase):\n",
    " \n",
    "    def test_upper(self):\n",
    "        self.assertEqual('foo'.upper(), 'FOO')\n",
    " \n",
    "    def test_isupper(self):\n",
    "        self.assertTrue('FOO'.isupper())\n",
    "        self.assertFalse('Foo'.isupper())\n",
    " \n",
    "if __name__ == '__main__':\n",
    "    unittest.main()"
   ]
  },
  {
   "cell_type": "code",
   "execution_count": 1,
   "metadata": {
    "collapsed": false
   },
   "outputs": [
    {
     "name": "stdout",
     "output_type": "stream",
     "text": [
      "..\n",
      "----------------------------------------------------------------------\n",
      "Ran 2 tests in 0.000s\n",
      "\n",
      "OK\n"
     ]
    }
   ],
   "source": [
    "!python3 unittest/testdemo.py"
   ]
  },
  {
   "cell_type": "markdown",
   "metadata": {},
   "source": [
    "## Add fixture\n",
    "\n",
    "setUp() 和 tearDown() 允许执行每个测试用例前分别初始化和清理测试环境，"
   ]
  },
  {
   "cell_type": "raw",
   "metadata": {},
   "source": [
    "import unittest\n",
    " \n",
    "class TestStringMethods(unittest.TestCase):\n",
    " \n",
    "    def setUp(self):\n",
    "        # Do something to initiate the test environment here.\n",
    "        pass\n",
    " \n",
    "    def tearDown(self):\n",
    "        # Do something to clear the test environment here.\n",
    "        pass\n",
    " \n",
    "    def test_upper(self):\n",
    "        self.assertEqual('foo'.upper(), 'FOO')\n",
    " \n",
    "    def test_isupper(self):\n",
    "        self.assertTrue('FOO'.isupper())\n",
    "        self.assertFalse('Foo'.isupper())\n",
    " \n",
    "if __name__ == '__main__':\n",
    "    unittest.main()"
   ]
  },
  {
   "cell_type": "markdown",
   "metadata": {},
   "source": [
    "## Ignore some testcases\n",
    "\n",
    "有时希望某些用例不被执行，unittest.skip() 提供了忽略某个测试用例的功能"
   ]
  },
  {
   "cell_type": "raw",
   "metadata": {},
   "source": [
    "# testdemo_1.py\n",
    "import unittest\n",
    " \n",
    "class TestStringMethods(unittest.TestCase):\n",
    " \n",
    "    def test_upper(self):\n",
    "        self.assertEqual('foo'.upper(), 'FOO')\n",
    " \n",
    "    @unittest.skip('skip is upper.')\n",
    "    def test_isupper(self):\n",
    "        self.assertTrue('FOO'.isupper())\n",
    "        self.assertFalse('Foo'.isupper())\n",
    " \n",
    "if __name__ == '__main__':\n",
    "    unittest.main()"
   ]
  },
  {
   "cell_type": "code",
   "execution_count": 2,
   "metadata": {
    "collapsed": false
   },
   "outputs": [
    {
     "name": "stdout",
     "output_type": "stream",
     "text": [
      "s.\r\n",
      "----------------------------------------------------------------------\r\n",
      "Ran 2 tests in 0.000s\r\n",
      "\r\n",
      "OK (skipped=1)\r\n"
     ]
    }
   ],
   "source": [
    "!python3 unittest/testdemo_1.py"
   ]
  },
  {
   "cell_type": "markdown",
   "metadata": {},
   "source": [
    "## Command Line Interface\n",
    "\n",
    "unittest 提供了丰富的命令行入口，可以根据需要执行某些特定的用例。有了命令行的支持，上述例子的最后两行代码就显得冗余，应当被移除："
   ]
  },
  {
   "cell_type": "raw",
   "metadata": {},
   "source": [
    "# 删除以下代码\n",
    "if __name__ == '__main__':\n",
    "    unittest.main()"
   ]
  },
  {
   "cell_type": "markdown",
   "metadata": {},
   "source": [
    "## Test Discovery\n",
    "\n",
    "unittest 提供了自动匹配发现并执行测试用例的功能，随着项目代码结构越发庞大，势必有多个测试文件，自动匹配发现并测试用例的功能在此就显得非常有用，只要满足 load_tests protocol 的测试用例都会被 unittest 发现并执行，测试用例文件的默认匹配规则为 test*.py。通过一条命令即可执行所有的测试用例，如此就很容易被 tox 等测试工具所集成。"
   ]
  },
  {
   "cell_type": "code",
   "execution_count": 3,
   "metadata": {
    "collapsed": false
   },
   "outputs": [
    {
     "name": "stdout",
     "output_type": "stream",
     "text": [
      "\r\n",
      "----------------------------------------------------------------------\r\n",
      "Ran 0 tests in 0.000s\r\n",
      "\r\n",
      "OK\r\n"
     ]
    }
   ],
   "source": [
    "!python -m unittest discover"
   ]
  },
  {
   "cell_type": "raw",
   "metadata": {},
   "source": [
    "-v, --verbose\n",
    "Verbose output\n",
    " \n",
    "-s, --start-directory directory\n",
    "Directory to start discovery (. default)\n",
    " \n",
    "-p, --pattern pattern\n",
    "Pattern to match test files (test*.py default)\n",
    " \n",
    "-t, --top-level-directory directory\n",
    "Top level directory of project (defaults to start directory)"
   ]
  },
  {
   "cell_type": "code",
   "execution_count": 4,
   "metadata": {
    "collapsed": false
   },
   "outputs": [
    {
     "name": "stdout",
     "output_type": "stream",
     "text": [
      "unittest\r\n",
      "├── __pycache__\r\n",
      "│   ├── testdemo.cpython-35.pyc\r\n",
      "│   ├── testdemo_1.cpython-35.pyc\r\n",
      "│   └── testdemo_2.cpython-35.pyc\r\n",
      "├── testdemo.py\r\n",
      "├── testdemo_1.py\r\n",
      "└── testdemo_2.py\r\n",
      "\r\n",
      "1 directory, 6 files\r\n"
     ]
    }
   ],
   "source": [
    "!tree unittest"
   ]
  },
  {
   "cell_type": "code",
   "execution_count": 5,
   "metadata": {
    "collapsed": false
   },
   "outputs": [
    {
     "name": "stdout",
     "output_type": "stream",
     "text": [
      "test_isupper (testdemo.TestStringMethods) ... ok\r\n",
      "test_upper (testdemo.TestStringMethods) ... ok\r\n",
      "test_isupper (testdemo_1.TestStringMethods) ... skipped 'skip is upper.'\r\n",
      "test_upper (testdemo_1.TestStringMethods) ... ok\r\n",
      "test_isupper (testdemo_2.TestStringMethods) ... ok\r\n",
      "test_upper (testdemo_2.TestStringMethods) ... ok\r\n",
      "\r\n",
      "----------------------------------------------------------------------\r\n",
      "Ran 6 tests in 0.001s\r\n",
      "\r\n",
      "OK (skipped=1)\r\n"
     ]
    }
   ],
   "source": [
    "!python3 -m unittest discover -s unittest -v"
   ]
  },
  {
   "cell_type": "markdown",
   "metadata": {},
   "source": [
    "## A Collection of Assertion"
   ]
  },
  {
   "cell_type": "code",
   "execution_count": null,
   "metadata": {
    "collapsed": true
   },
   "outputs": [],
   "source": [
    "+--------------------------------+-------------------------------------------------------+-------+\n",
    "| Method                         |Checks that                                            |New in |\n",
    "+--------------------------------+-------------------------------------------------------+-------+\n",
    "| assertEqual(a, b)              | a == b                                                |       |\n",
    "| assertNotEqual(a, b)           | a != b                                                |       |\n",
    "| assertTrue(x)                  | bool(x) is True                                       |       |\n",
    "| assertFalse(x)                 | bool(x) is False                                      |       |\n",
    "| assertIs(a, b)                 | a is b                                                | 2.7   |\n",
    "| assertIsNot(a, b)              | a is not b                                            | 2.7   |\n",
    "| assertIsNone(x)                | x is None                                             | 2.7   |\n",
    "| assertIsNotNone(x)             | x is not None                                         | 2.7   |\n",
    "| assertIn(a, b)                 | a in b                                                | 2.7   |\n",
    "| assertNotIn(a, b)              | a not in b                                            | 2.7   |\n",
    "| assertIsInstance(a, b)         | isinstance(a, b)                                      | 2.7   |\n",
    "| assertNotIsInstance(a, b)      | not isinstance(a, b)                                  | 2.7   |\n",
    "| assertAlmostEqual(a, b)        | round(a-b, 7) == 0                                    |       |\n",
    "| assertNotAlmostEqual(a, b)     | round(a-b, 7) != 0                                    |       |\n",
    "| assertGreater(a, b)            | a > b                                                 | 2.7   |\n",
    "| assertGreaterEqual(a, b)       | a >= b                                                | 2.7   |\n",
    "| assertLess(a, b)               | a < b                                                 | 2.7   |\n",
    "| assertLessEqual(a, b)          | a <= b                                                | 2.7   |\n",
    "| assertRegexpMatches(s, r)      | r.search(s)                                           | 2.7   |\n",
    "| assertNotRegexpMatches(s, r)   | not r.search(s)                                       | 2.7   |\n",
    "| assertItemsEqual(a, b)         | sorted(a) == sorted(b) and works with unhashable objs | 2.7   |\n",
    "| assertDictContainsSubset(a, b) | all the key/value pairs in a exist in b               | 2.7   |\n",
    "| assertMultiLineEqual(a, b)     | strings                                               | 2.7   |\n",
    "| assertSequenceEqual(a, b)      | sequences                                             | 2.7   |\n",
    "| assertListEqual(a, b)          | lists                                                 | 2.7   |\n",
    "| assertTupleEqual(a, b)         | tuples                                                | 2.7   |\n",
    "| assertSetEqual(a, b)           | sets or frozensets                                    | 2.7   |\n",
    "| assertDictEqual(a, b)          | dicts                                                 | 2.7   |\n",
    "+--------------------------------+-------------------------------------------------------+-------+r"
   ]
  },
  {
   "cell_type": "markdown",
   "metadata": {},
   "source": [
    "## Testtools\n",
    "\n",
    "testtools is a set of extensions to the Python standard library’s unit testing framework.\n",
    "testtools 是一个功能类似 unittest 的库，它集合众家标准测试库之所长，和 unittest 相比，功能更为强大，使用更为简单，OpenStack 广泛的利用它编写单元测试。由于在用法上 testtools 和 unittest 类似，所以本节简要介绍 testtols 的特点：\n",
    "\n",
    "* Better assertion methods: 支持 assertIn, assertIs, assertIsInstance 等 assertion\n",
    "* More debugging info: 更为详细的 debug 信息\n",
    "* Extend unittest, but stay compatible and re-usable: 兼容 unittest\n",
    "* Cross-Python compatibility: 支持多种 Python 版本 2.7, 3.3, 3.4, 3.5"
   ]
  }
 ],
 "metadata": {
  "kernelspec": {
   "display_name": "Python 3",
   "language": "python",
   "name": "python3"
  },
  "language_info": {
   "codemirror_mode": {
    "name": "ipython",
    "version": 3
   },
   "file_extension": ".py",
   "mimetype": "text/x-python",
   "name": "python",
   "nbconvert_exporter": "python",
   "pygments_lexer": "ipython3",
   "version": "3.5.2"
  }
 },
 "nbformat": 4,
 "nbformat_minor": 2
}
