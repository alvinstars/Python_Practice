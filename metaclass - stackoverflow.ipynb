{
 "cells": [
  {
   "cell_type": "markdown",
   "metadata": {},
   "source": [
    "# 深刻理解Python中的元类(metaclass)\n",
    "http://python.jobbole.com/21351/"
   ]
  },
  {
   "cell_type": "code",
   "execution_count": 8,
   "metadata": {
    "collapsed": false
   },
   "outputs": [
    {
     "data": {
      "text/plain": [
       "<method '__subclasses__' of 'type' objects>"
      ]
     },
     "execution_count": 8,
     "metadata": {},
     "output_type": "execute_result"
    }
   ],
   "source": [
    "type.__subclasses__"
   ]
  },
  {
   "cell_type": "markdown",
   "metadata": {},
   "source": [
    "## Stackoverflow: What's metaclass\n",
    "http://stackoverflow.com/questions/100003/what-is-a-metaclass-in-python"
   ]
  },
  {
   "cell_type": "raw",
   "metadata": {},
   "source": [
    "A metaclass is the class of a class. Like a class defines how an instance of the class behaves, a metaclass defines how a class behaves. A class is an instance of a metaclass.\n",
    "\n",
    "While in Python you can use arbitrary callables for metaclasses (like Jerub shows), the more useful approach is actually to make it an actual class itself. type is the usual metaclass in Python. In case you're wondering, yes, type is itself a class, and it is its own type. You won't be able to recreate something like type purely in Python, but Python cheats a little. To create your own metaclass in Python you really just want to subclass type.\n",
    "\n",
    "A metaclass is most commonly used as a class-factory. Like you create an instance of the class by calling the class, Python creates a new class (when it executes the 'class' statement) by calling the metaclass. Combined with the normal __init__ and __new__ methods, metaclasses therefore allow you to do 'extra things' when creating a class, like registering the new class with some registry, or even replace the class with something else entirely.\n",
    "\n",
    "When the class statement is executed, Python first executes the body of the class statement as a normal block of code. The resulting namespace (a dict) holds the attributes of the class-to-be. The metaclass is determined by looking at the baseclasses of the class-to-be (metaclasses are inherited), at the __metaclass__ attribute of the class-to-be (if any) or the __metaclass__ global variable. The metaclass is then called with the name, bases and attributes of the class to instantiate it.\n",
    "\n",
    "However, metaclasses actually define the type of a class, not just a factory for it, so you can do much more with them. You can, for instance, define normal methods on the metaclass. These metaclass-methods are like classmethods, in that they can be called on the class without an instance, but they are also not like classmethods in that they cannot be called on an instance of the class. type.__subclasses__() is an example of a method on the type metaclass. You can also define the normal 'magic' methods, like __add__, __iter__ and __getattr__, to implement or change how the class behaves.\n"
   ]
  },
  {
   "cell_type": "code",
   "execution_count": 10,
   "metadata": {
    "collapsed": false
   },
   "outputs": [
    {
     "name": "stdout",
     "output_type": "stream",
     "text": [
      "Would register class <class '__main__.MyObject'> now.\n",
      "<type 'NoneType'> None\n",
      "Would register class <class '__main__.Example'> now.\n",
      "Would unregister class <class '__main__.Example'> now.\n",
      "<__main__.Example object at 0x10420e310>\n",
      "Would register class <class '__main__.Sibling'> now.\n",
      "Would register class <class '__main__.AutoClass'> now.\n",
      "<class '__main__.AutoClass'>\n",
      "(<class '__main__.AutoClass'>, <class '__main__.Example'>, <class '__main__.Sibling'>, <class '__main__.MyObject'>, <type 'object'>)\n"
     ]
    }
   ],
   "source": [
    "#python 2.7\n",
    "def make_hook(f):\n",
    "    \"\"\"Decorator to turn 'foo' method into '__foo__'\"\"\"\n",
    "    f.is_hook = 1\n",
    "    return f\n",
    "\n",
    "class MyType(type):\n",
    "    def __new__(cls, name, bases, attrs):\n",
    "\n",
    "        if name.startswith('None'):\n",
    "            return None\n",
    "\n",
    "        # Go over attributes and see if they should be renamed.\n",
    "        newattrs = {}\n",
    "        for attrname, attrvalue in attrs.iteritems():\n",
    "            if getattr(attrvalue, 'is_hook', 0):\n",
    "                newattrs['__%s__' % attrname] = attrvalue\n",
    "            else:\n",
    "                newattrs[attrname] = attrvalue\n",
    "\n",
    "        return super(MyType, cls).__new__(cls, name, bases, newattrs)\n",
    "\n",
    "    def __init__(self, name, bases, attrs):\n",
    "        super(MyType, self).__init__(name, bases, attrs)\n",
    "\n",
    "        # classregistry.register(self, self.interfaces)\n",
    "        print \"Would register class %s now.\" % self\n",
    "\n",
    "    def __add__(self, other):\n",
    "        class AutoClass(self, other):\n",
    "            pass\n",
    "        return AutoClass\n",
    "        # Alternatively, to autogenerate the classname as well as the class:\n",
    "        # return type(self.__name__ + other.__name__, (self, other), {})\n",
    "\n",
    "    def unregister(self):\n",
    "        # classregistry.unregister(self)\n",
    "        print \"Would unregister class %s now.\" % self\n",
    "\n",
    "class MyObject:\n",
    "    __metaclass__ = MyType\n",
    "\n",
    "\n",
    "class NoneSample(MyObject):\n",
    "    pass\n",
    "\n",
    "# Will print \"NoneType None\"\n",
    "print type(NoneSample), repr(NoneSample)\n",
    "\n",
    "class Example(MyObject):\n",
    "    def __init__(self, value):\n",
    "        self.value = value\n",
    "    @make_hook\n",
    "    def add(self, other):\n",
    "        return self.__class__(self.value + other.value)\n",
    "\n",
    "# Will unregister the class\n",
    "Example.unregister()\n",
    "\n",
    "inst = Example(10)\n",
    "# Will fail with an AttributeError\n",
    "#inst.unregister()\n",
    "\n",
    "print inst + inst\n",
    "class Sibling(MyObject):\n",
    "    pass\n",
    "\n",
    "ExampleSibling = Example + Sibling\n",
    "# ExampleSibling is now a subclass of both Example and Sibling (with no\n",
    "# content of its own) although it will believe it's called 'AutoClass'\n",
    "print ExampleSibling\n",
    "print ExampleSibling.__mro__"
   ]
  },
  {
   "cell_type": "markdown",
   "metadata": {
    "collapsed": true
   },
   "source": [
    "## Classes as objects"
   ]
  },
  {
   "cell_type": "code",
   "execution_count": 12,
   "metadata": {
    "collapsed": true
   },
   "outputs": [],
   "source": [
    "#In most languages, classes are just pieces of code that describe how to produce an object. \n",
    "class ObjectCreator(object):\n",
    "    pass\n",
    "my_object = ObjectCreator()"
   ]
  },
  {
   "cell_type": "code",
   "execution_count": 13,
   "metadata": {
    "collapsed": false
   },
   "outputs": [
    {
     "data": {
      "text/plain": [
       "<__main__.ObjectCreator at 0x10435fa90>"
      ]
     },
     "execution_count": 13,
     "metadata": {},
     "output_type": "execute_result"
    }
   ],
   "source": [
    "my_object"
   ]
  },
  {
   "cell_type": "raw",
   "metadata": {
    "collapsed": true
   },
   "source": [
    "But classes are more than that in Python. Classes are objects too.\n",
    "As soon as you use the keyword class, Python executes it and creates an OBJECT. \n",
    "This object (the class) is itself capable of creating objects (the instances), and this is why it's a class.\n",
    "But still, it's an object, and therefore:\n",
    "\n",
    "you can assign it to a variable\n",
    "you can copy it\n",
    "you can add attributes to it\n",
    "you can pass it as a function parameter"
   ]
  },
  {
   "cell_type": "markdown",
   "metadata": {},
   "source": [
    "#### you can pass a class as a parameter"
   ]
  },
  {
   "cell_type": "code",
   "execution_count": 18,
   "metadata": {
    "collapsed": false
   },
   "outputs": [
    {
     "name": "stdout",
     "output_type": "stream",
     "text": [
      "<class '__main__.ObjectCreator'>\n"
     ]
    }
   ],
   "source": [
    "print(ObjectCreator)"
   ]
  },
  {
   "cell_type": "code",
   "execution_count": 23,
   "metadata": {
    "collapsed": true
   },
   "outputs": [],
   "source": [
    "def echo(o):\n",
    "    print(o)"
   ]
  },
  {
   "cell_type": "code",
   "execution_count": 17,
   "metadata": {
    "collapsed": false
   },
   "outputs": [
    {
     "name": "stdout",
     "output_type": "stream",
     "text": [
      "<class '__main__.ObjectCreator'>\n"
     ]
    }
   ],
   "source": [
    "echo(ObjectCreator)"
   ]
  },
  {
   "cell_type": "markdown",
   "metadata": {},
   "source": [
    "#### you can add attributes to a class"
   ]
  },
  {
   "cell_type": "code",
   "execution_count": 19,
   "metadata": {
    "collapsed": false,
    "scrolled": true
   },
   "outputs": [
    {
     "name": "stdout",
     "output_type": "stream",
     "text": [
      "False\n"
     ]
    }
   ],
   "source": [
    "print(hasattr(ObjectCreator,'new_attribute'))"
   ]
  },
  {
   "cell_type": "code",
   "execution_count": 24,
   "metadata": {
    "collapsed": true
   },
   "outputs": [],
   "source": [
    "ObjectCreator.new_attribute = 'foo'"
   ]
  },
  {
   "cell_type": "code",
   "execution_count": 22,
   "metadata": {
    "collapsed": false
   },
   "outputs": [
    {
     "name": "stdout",
     "output_type": "stream",
     "text": [
      "True\n"
     ]
    }
   ],
   "source": [
    "print(hasattr(ObjectCreator,'new_attribute'))"
   ]
  },
  {
   "cell_type": "code",
   "execution_count": 25,
   "metadata": {
    "collapsed": false
   },
   "outputs": [
    {
     "name": "stdout",
     "output_type": "stream",
     "text": [
      "foo\n"
     ]
    }
   ],
   "source": [
    "print(ObjectCreator.new_attribute)"
   ]
  },
  {
   "cell_type": "markdown",
   "metadata": {
    "collapsed": true
   },
   "source": [
    "#### you can assign a class to a variable"
   ]
  },
  {
   "cell_type": "code",
   "execution_count": 26,
   "metadata": {
    "collapsed": true
   },
   "outputs": [],
   "source": [
    "ObjectCreatorMirror = ObjectCreator"
   ]
  },
  {
   "cell_type": "code",
   "execution_count": 28,
   "metadata": {
    "collapsed": false
   },
   "outputs": [
    {
     "name": "stdout",
     "output_type": "stream",
     "text": [
      "foo\n"
     ]
    }
   ],
   "source": [
    "print(ObjectCreatorMirror.new_attribute)"
   ]
  },
  {
   "cell_type": "code",
   "execution_count": 29,
   "metadata": {
    "collapsed": false
   },
   "outputs": [
    {
     "name": "stdout",
     "output_type": "stream",
     "text": [
      "<class '__main__.ObjectCreator'>\n"
     ]
    }
   ],
   "source": [
    "print(ObjectCreatorMirror)"
   ]
  },
  {
   "cell_type": "markdown",
   "metadata": {
    "collapsed": true
   },
   "source": [
    "## Creating classes dynamically"
   ]
  },
  {
   "cell_type": "raw",
   "metadata": {
    "collapsed": true
   },
   "source": [
    "Since classes are objects, you can create them on the fly, like any object.\n",
    "\n",
    "First, you can create a class in a function using class:"
   ]
  },
  {
   "cell_type": "code",
   "execution_count": 32,
   "metadata": {
    "collapsed": true
   },
   "outputs": [],
   "source": [
    "def choose_class(name):\n",
    "    if name == 'foo':\n",
    "        class Foo(object):\n",
    "            pass\n",
    "        return Foo  # return the class, not an instance\n",
    "    else:\n",
    "        class Bar(object):\n",
    "            pass\n",
    "        return Bar"
   ]
  },
  {
   "cell_type": "code",
   "execution_count": 35,
   "metadata": {
    "collapsed": false
   },
   "outputs": [
    {
     "name": "stdout",
     "output_type": "stream",
     "text": [
      "<class '__main__.Foo'>\n"
     ]
    }
   ],
   "source": [
    "MyClass = choose_class('foo')\n",
    "print(MyClass)"
   ]
  },
  {
   "cell_type": "code",
   "execution_count": 36,
   "metadata": {
    "collapsed": false
   },
   "outputs": [
    {
     "name": "stdout",
     "output_type": "stream",
     "text": [
      "<__main__.Foo object at 0x103ea3350>\n"
     ]
    }
   ],
   "source": [
    "print(MyClass())"
   ]
  },
  {
   "cell_type": "raw",
   "metadata": {
    "collapsed": true
   },
   "source": [
    "#type works this way\n",
    "type(name of the class, \n",
    "     tuple of the parent class (for inheritance, can be empty), \n",
    "     dictionary containing attributes names and values)"
   ]
  },
  {
   "cell_type": "code",
   "execution_count": 39,
   "metadata": {
    "collapsed": false
   },
   "outputs": [],
   "source": [
    "#e.g.\n",
    "class MyShinyClass(object):\n",
    "    pass"
   ]
  },
  {
   "cell_type": "code",
   "execution_count": 40,
   "metadata": {
    "collapsed": true
   },
   "outputs": [],
   "source": [
    "#can be created manually this way\n",
    "MyShinyClass1 = type('MyShinyClass1',(),{})"
   ]
  },
  {
   "cell_type": "code",
   "execution_count": 45,
   "metadata": {
    "collapsed": false
   },
   "outputs": [
    {
     "name": "stdout",
     "output_type": "stream",
     "text": [
      "<class '__main__.MyShinyClass1'>\n"
     ]
    }
   ],
   "source": [
    "#You'll notice that we use \"MyShinyClass\" as the name of the class and as the variable to hold the class reference. \n",
    "print(MyShinyClass1)"
   ]
  },
  {
   "cell_type": "code",
   "execution_count": 46,
   "metadata": {
    "collapsed": false
   },
   "outputs": [
    {
     "name": "stdout",
     "output_type": "stream",
     "text": [
      "<__main__.MyShinyClass1 object at 0x1045e7210>\n"
     ]
    }
   ],
   "source": [
    "print(MyShinyClass1())"
   ]
  },
  {
   "cell_type": "code",
   "execution_count": 47,
   "metadata": {
    "collapsed": true
   },
   "outputs": [],
   "source": [
    "# type accepts a dictionary to define the attributes of the class\n",
    "#>>> class Foo(object):\n",
    "#...       bar = True\n",
    "Foo = type('Foo', (), {'bar':True})"
   ]
  },
  {
   "cell_type": "code",
   "execution_count": 48,
   "metadata": {
    "collapsed": false
   },
   "outputs": [
    {
     "name": "stdout",
     "output_type": "stream",
     "text": [
      "<class '__main__.Foo'>\n"
     ]
    }
   ],
   "source": [
    "print(Foo)"
   ]
  },
  {
   "cell_type": "code",
   "execution_count": 49,
   "metadata": {
    "collapsed": false
   },
   "outputs": [
    {
     "name": "stdout",
     "output_type": "stream",
     "text": [
      "True\n"
     ]
    }
   ],
   "source": [
    "print(Foo.bar)"
   ]
  },
  {
   "cell_type": "code",
   "execution_count": 51,
   "metadata": {
    "collapsed": false
   },
   "outputs": [
    {
     "name": "stdout",
     "output_type": "stream",
     "text": [
      "<__main__.Foo object at 0x1045e7210>\n"
     ]
    }
   ],
   "source": [
    "f = Foo()\n",
    "print(f)"
   ]
  },
  {
   "cell_type": "code",
   "execution_count": 52,
   "metadata": {
    "collapsed": false
   },
   "outputs": [
    {
     "name": "stdout",
     "output_type": "stream",
     "text": [
      "True\n"
     ]
    }
   ],
   "source": [
    "print(f.bar)"
   ]
  },
  {
   "cell_type": "code",
   "execution_count": 54,
   "metadata": {
    "collapsed": false
   },
   "outputs": [],
   "source": [
    "#you can inherit from it, so:\n",
    "#>>>   class FooChild(Foo):\n",
    "#...         pass\n",
    "#would be:\n",
    "FooChild = type('FooChild',(Foo,),{})"
   ]
  },
  {
   "cell_type": "code",
   "execution_count": 55,
   "metadata": {
    "collapsed": false
   },
   "outputs": [
    {
     "name": "stdout",
     "output_type": "stream",
     "text": [
      "<class '__main__.FooChild'>\n"
     ]
    }
   ],
   "source": [
    "print(FooChild)"
   ]
  },
  {
   "cell_type": "code",
   "execution_count": 60,
   "metadata": {
    "collapsed": false
   },
   "outputs": [],
   "source": [
    "#Eventually you'll want to add methods to your class. \n",
    "#Just define a function with the proper signature and assign it as an attribute.\n",
    "def echo_bar(self):\n",
    "    print(self.bar)\n",
    "FooChild = type('FooChild',(Foo,),{'echo_bar':echo_bar})    "
   ]
  },
  {
   "cell_type": "code",
   "execution_count": 61,
   "metadata": {
    "collapsed": false
   },
   "outputs": [
    {
     "data": {
      "text/plain": [
       "False"
      ]
     },
     "execution_count": 61,
     "metadata": {},
     "output_type": "execute_result"
    }
   ],
   "source": [
    "hasattr(Foo,'echo_bar')"
   ]
  },
  {
   "cell_type": "code",
   "execution_count": 62,
   "metadata": {
    "collapsed": false
   },
   "outputs": [
    {
     "data": {
      "text/plain": [
       "True"
      ]
     },
     "execution_count": 62,
     "metadata": {},
     "output_type": "execute_result"
    }
   ],
   "source": [
    "hasattr(FooChild,'echo_bar')"
   ]
  },
  {
   "cell_type": "code",
   "execution_count": null,
   "metadata": {
    "collapsed": true
   },
   "outputs": [],
   "source": [
    "#And you can add even more methods after you dynamically create the class, \n",
    "#just like adding methods to a normally created class object."
   ]
  },
  {
   "cell_type": "markdown",
   "metadata": {
    "collapsed": true
   },
   "source": [
    "# What are metaclasses (finally)\n",
    "type is the metaclass Python uses to create all classes behind the scenes.\n",
    "\n",
    "It's a matter of consistency with str, the class that creates strings objects, and int the class that creates integer objects. type is just the class that creates class objects.\n",
    "\n",
    "You see that by checking the __class__ attribute.\n",
    "\n",
    "Everything, and I mean everything, is an object in Python. That includes ints, strings, functions and classes. All of them are objects. And all of them have been created from a class:\n",
    "\n"
   ]
  },
  {
   "cell_type": "code",
   "execution_count": 63,
   "metadata": {
    "collapsed": false
   },
   "outputs": [
    {
     "data": {
      "text/plain": [
       "int"
      ]
     },
     "execution_count": 63,
     "metadata": {},
     "output_type": "execute_result"
    }
   ],
   "source": [
    "age = 35\n",
    "age.__class__"
   ]
  },
  {
   "cell_type": "code",
   "execution_count": 64,
   "metadata": {
    "collapsed": false
   },
   "outputs": [
    {
     "data": {
      "text/plain": [
       "str"
      ]
     },
     "execution_count": 64,
     "metadata": {},
     "output_type": "execute_result"
    }
   ],
   "source": [
    "name = 'Bin'\n",
    "name.__class__"
   ]
  },
  {
   "cell_type": "code",
   "execution_count": 65,
   "metadata": {
    "collapsed": false
   },
   "outputs": [
    {
     "data": {
      "text/plain": [
       "function"
      ]
     },
     "execution_count": 65,
     "metadata": {},
     "output_type": "execute_result"
    }
   ],
   "source": [
    "def foo():pass\n",
    "foo.__class__"
   ]
  },
  {
   "cell_type": "code",
   "execution_count": 66,
   "metadata": {
    "collapsed": false
   },
   "outputs": [
    {
     "data": {
      "text/plain": [
       "type"
      ]
     },
     "execution_count": 66,
     "metadata": {},
     "output_type": "execute_result"
    }
   ],
   "source": [
    "class Bar(object):pass\n",
    "Bar.__class__"
   ]
  },
  {
   "cell_type": "code",
   "execution_count": 67,
   "metadata": {
    "collapsed": false
   },
   "outputs": [
    {
     "data": {
      "text/plain": [
       "__main__.Bar"
      ]
     },
     "execution_count": 67,
     "metadata": {},
     "output_type": "execute_result"
    }
   ],
   "source": [
    "b = Bar()\n",
    "b.__class__"
   ]
  },
  {
   "cell_type": "code",
   "execution_count": 70,
   "metadata": {
    "collapsed": false
   },
   "outputs": [
    {
     "data": {
      "text/plain": [
       "type"
      ]
     },
     "execution_count": 70,
     "metadata": {},
     "output_type": "execute_result"
    }
   ],
   "source": [
    "#now, what is the __class__ of any __class__ ?\n",
    "age.__class__.__class__"
   ]
  },
  {
   "cell_type": "code",
   "execution_count": 71,
   "metadata": {
    "collapsed": false
   },
   "outputs": [
    {
     "data": {
      "text/plain": [
       "type"
      ]
     },
     "execution_count": 71,
     "metadata": {},
     "output_type": "execute_result"
    }
   ],
   "source": [
    "name.__class__.__class__"
   ]
  },
  {
   "cell_type": "code",
   "execution_count": 72,
   "metadata": {
    "collapsed": false
   },
   "outputs": [
    {
     "data": {
      "text/plain": [
       "type"
      ]
     },
     "execution_count": 72,
     "metadata": {},
     "output_type": "execute_result"
    }
   ],
   "source": [
    "foo.__class__.__class__"
   ]
  },
  {
   "cell_type": "code",
   "execution_count": 73,
   "metadata": {
    "collapsed": false
   },
   "outputs": [
    {
     "data": {
      "text/plain": [
       "type"
      ]
     },
     "execution_count": 73,
     "metadata": {},
     "output_type": "execute_result"
    }
   ],
   "source": [
    "b.__class__.__class__"
   ]
  },
  {
   "cell_type": "raw",
   "metadata": {
    "collapsed": true
   },
   "source": [
    "a metaclass is just the stuff that creates class objects.\n",
    "\n",
    "You can call it a 'class factory' if you wish.\n",
    "\n",
    "type is the built-in metaclass Python uses, but of course, you can create your own metaclass."
   ]
  },
  {
   "cell_type": "markdown",
   "metadata": {
    "collapsed": true
   },
   "source": [
    "# The __metaclass__ attribute"
   ]
  },
  {
   "cell_type": "raw",
   "metadata": {
    "collapsed": true
   },
   "source": [
    "You can add a __metaclass__ attribute when you write a class:\n",
    "\n",
    "class Foo(object):\n",
    "  __metaclass__ = something...\n",
    "  [...]\n",
    "If you do so, Python will use the metaclass to create the class Foo."
   ]
  },
  {
   "cell_type": "markdown",
   "metadata": {},
   "source": [
    "# Custom metaclasses\n",
    "\n",
    "The main purpose of a metaclass is to change the class automatically, when it's created.\n",
    "\n",
    "You usually do this for APIs, where you want to create classes matching the current context.\n",
    "\n"
   ]
  },
  {
   "cell_type": "raw",
   "metadata": {},
   "source": [
    "magine a stupid example, where you decide that all classes in your module should have their attributes written in uppercase. There are several ways to do this, but one way is to set __metaclass__ at the module level.\n",
    "\n",
    "This way, all classes of this module will be created using this metaclass, and we just have to tell the metaclass to turn all attributes to uppercase.\n",
    "\n",
    "Luckily, __metaclass__ can actually be any callable, it doesn't need to be a formal class (I know, something with 'class' in its name doesn't need to be a class, go figure... but it's helpful).\n"
   ]
  },
  {
   "cell_type": "code",
   "execution_count": 74,
   "metadata": {
    "collapsed": false
   },
   "outputs": [
    {
     "name": "stdout",
     "output_type": "stream",
     "text": [
      "False\n",
      "True\n",
      "bip\n"
     ]
    }
   ],
   "source": [
    "# the metaclass will automatically get passed the same argument\n",
    "# that you usually pass to `type`\n",
    "def upper_attr(future_class_name, future_class_parents, future_class_attr):\n",
    "  \"\"\"\n",
    "    Return a class object, with the list of its attribute turned \n",
    "    into uppercase.\n",
    "  \"\"\"\n",
    "\n",
    "  # pick up any attribute that doesn't start with '__' and uppercase it\n",
    "  uppercase_attr = {}\n",
    "  for name, val in future_class_attr.items():\n",
    "      if not name.startswith('__'):\n",
    "          uppercase_attr[name.upper()] = val\n",
    "      else:\n",
    "          uppercase_attr[name] = val\n",
    "\n",
    "  # let `type` do the class creation\n",
    "  return type(future_class_name, future_class_parents, uppercase_attr)\n",
    "\n",
    "__metaclass__ = upper_attr # this will affect all classes in the module\n",
    "\n",
    "class Foo(): # global __metaclass__ won't work with \"object\" though\n",
    "  # but we can define __metaclass__ here instead to affect only this class\n",
    "  # and this will work with \"object\" children\n",
    "  bar = 'bip'\n",
    "\n",
    "print(hasattr(Foo, 'bar'))\n",
    "# Out: False\n",
    "print(hasattr(Foo, 'BAR'))\n",
    "# Out: True\n",
    "\n",
    "f = Foo()\n",
    "print(f.BAR)\n",
    "# Out: 'bip'"
   ]
  },
  {
   "cell_type": "code",
   "execution_count": 75,
   "metadata": {
    "collapsed": true
   },
   "outputs": [],
   "source": [
    "#let's do exactly the same, but using a real class for a metaclass:\n",
    "# remember that `type` is actually a class like `str` and `int`\n",
    "# so you can inherit from it\n",
    "class UpperAttrMetaclass(type): \n",
    "    # __new__ is the method called before __init__\n",
    "    # it's the method that creates the object and returns it\n",
    "    # while __init__ just initializes the object passed as parameter\n",
    "    # you rarely use __new__, except when you want to control how the object\n",
    "    # is created.\n",
    "    # here the created object is the class, and we want to customize it\n",
    "    # so we override __new__\n",
    "    # you can do some stuff in __init__ too if you wish\n",
    "    # some advanced use involves overriding __call__ as well, but we won't\n",
    "    # see this\n",
    "    def __new__(upperattr_metaclass, future_class_name, \n",
    "                future_class_parents, future_class_attr):\n",
    "\n",
    "        uppercase_attr = {}\n",
    "        for name, val in future_class_attr.items():\n",
    "            if not name.startswith('__'):\n",
    "                uppercase_attr[name.upper()] = val\n",
    "            else:\n",
    "                uppercase_attr[name] = val\n",
    "\n",
    "        return type(future_class_name, future_class_parents, uppercase_attr)"
   ]
  },
  {
   "cell_type": "code",
   "execution_count": 76,
   "metadata": {
    "collapsed": true
   },
   "outputs": [],
   "source": [
    "# We call type directly and we don't override or call the parent __new__. \n",
    "class UpperAttrMetaclass(type): \n",
    "\n",
    "    def __new__(upperattr_metaclass, future_class_name, \n",
    "                future_class_parents, future_class_attr):\n",
    "\n",
    "        uppercase_attr = {}\n",
    "        for name, val in future_class_attr.items():\n",
    "            if not name.startswith('__'):\n",
    "                uppercase_attr[name.upper()] = val\n",
    "            else:\n",
    "                uppercase_attr[name] = val\n",
    "\n",
    "        # reuse the type.__new__ method\n",
    "        # this is basic OOP, nothing magic in there\n",
    "        # There is nothing special about it: __new__ always receives the class it's defined in, as first parameter. \n",
    "        # Just like you have self for ordinary methods which receive the instance as first parameter, \n",
    "        # or the defining class for class methods.\n",
    "        return type.__new__(upperattr_metaclass, future_class_name, \n",
    "                            future_class_parents, uppercase_attr)"
   ]
  },
  {
   "cell_type": "code",
   "execution_count": 78,
   "metadata": {
    "collapsed": true
   },
   "outputs": [],
   "source": [
    "# So a real production metaclass would look like this:\n",
    "\n",
    "class UpperAttrMetaclass(type): \n",
    "\n",
    "    def __new__(cls, clsname, bases, dct):\n",
    "\n",
    "        uppercase_attr = {}\n",
    "        for name, val in dct.items():\n",
    "            if not name.startswith('__'):\n",
    "                uppercase_attr[name.upper()] = val\n",
    "            else:\n",
    "                uppercase_attr[name] = val\n",
    "\n",
    "        return type.__new__(cls, clsname, bases, uppercase_attr)"
   ]
  },
  {
   "cell_type": "code",
   "execution_count": 80,
   "metadata": {
    "collapsed": true
   },
   "outputs": [],
   "source": [
    "# We can make it even cleaner by using super, which will ease inheritance \n",
    "# (because yes, you can have metaclasses, inheriting from metaclasses, inheriting from type):\n",
    "\n",
    "class UpperAttrMetaclass(type): \n",
    "\n",
    "    def __new__(cls, clsname, bases, dct):\n",
    "\n",
    "        uppercase_attr = {}\n",
    "        for name, val in dct.items():\n",
    "            if not name.startswith('__'):\n",
    "                uppercase_attr[name.upper()] = val\n",
    "            else:\n",
    "                uppercase_attr[name] = val\n",
    "\n",
    "        return super(UpperAttrMetaclass, cls).__new__(cls, clsname, bases, uppercase_attr)"
   ]
  },
  {
   "cell_type": "markdown",
   "metadata": {},
   "source": [
    "# Why would you use metaclasses classes instead of functions?\n",
    "There are several reasons to do so:\n",
    "\n",
    "* The intention is clear. When you read UpperAttrMetaclass(type), you know what's going to follow\n",
    "* You can use OOP. Metaclass can inherit from metaclass, override parent methods. Metaclasses can even use metaclasses.\n",
    "* You can structure your code better. You never use metaclasses for something as trivial as the above example. It's usually for something complicated. Having the ability to make several methods and group them in one class is very useful to make the code easier to read.\n",
    "* You can hook on __new__, __init__ and __call__. Which will allow you to do different stuff. Even if usually you can do it all in __new__, some people are just more comfortable using __init__.\n",
    "* These are called metaclasses, damn it! It must mean something!"
   ]
  },
  {
   "cell_type": "markdown",
   "metadata": {},
   "source": [
    "# Why would you use metaclasses?\n",
    "The main use case for a metaclass is creating an API. A typical example of this is the Django ORM."
   ]
  },
  {
   "cell_type": "raw",
   "metadata": {},
   "source": [
    "It allows you to define something like this:\n",
    "\n",
    "class Person(models.Model):\n",
    "  name = models.CharField(max_length=30)\n",
    "  age = models.IntegerField()\n",
    "  \n",
    "But if you do this:\n",
    "\n",
    "guy = Person(name='bob', age='35')\n",
    "    print(guy.age)\n",
    "    \n",
    "It won't return an IntegerField object. It will return an int, and can even take it directly from the database.\n",
    "\n",
    "This is possible because models.Model defines __metaclass__ and it uses some magic that will turn the Person you just defined with simple statements into a complex hook to a database field.\n",
    "\n",
    "Django makes something complex look simple by exposing a simple API and using metaclasses, recreating code from this API to do the real job behind the scenes.\n",
    "\n",
    " "
   ]
  }
 ],
 "metadata": {
  "kernelspec": {
   "display_name": "Python 2",
   "language": "python",
   "name": "python2"
  },
  "language_info": {
   "codemirror_mode": {
    "name": "ipython",
    "version": 2
   },
   "file_extension": ".py",
   "mimetype": "text/x-python",
   "name": "python",
   "nbconvert_exporter": "python",
   "pygments_lexer": "ipython2",
   "version": "2.7.12"
  }
 },
 "nbformat": 4,
 "nbformat_minor": 2
}
