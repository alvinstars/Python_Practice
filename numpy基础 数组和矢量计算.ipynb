{
 "cells": [
  {
   "cell_type": "markdown",
   "metadata": {},
   "source": [
    "# numpy基础 数组和矢量计算\n",
    "http://python.jobbole.com/87352/"
   ]
  },
  {
   "cell_type": "code",
   "execution_count": 1,
   "metadata": {
    "collapsed": false
   },
   "outputs": [
    {
     "name": "stdout",
     "output_type": "stream",
     "text": [
      "[2 5 6 8 3]\n"
     ]
    }
   ],
   "source": [
    "import numpy as np \n",
    " \n",
    "data=np.array([2,5,6,8,3]) #构造一个简单的数组\n",
    " \n",
    "print(data)"
   ]
  },
  {
   "cell_type": "code",
   "execution_count": 2,
   "metadata": {
    "collapsed": false
   },
   "outputs": [
    {
     "name": "stdout",
     "output_type": "stream",
     "text": [
      "[[2 5 6 8 3]\n",
      " [0 1 2 3 4]]\n"
     ]
    }
   ],
   "source": [
    "data1=np.array([[2,5,6,8,3],np.arange(5)])  #构建一个二维数组\n",
    " \n",
    "print(data1)"
   ]
  },
  {
   "cell_type": "markdown",
   "metadata": {},
   "source": [
    "我们也可以通过shape和dtype方法查看数组的维度和数据格式"
   ]
  },
  {
   "cell_type": "code",
   "execution_count": 3,
   "metadata": {
    "collapsed": false
   },
   "outputs": [
    {
     "name": "stdout",
     "output_type": "stream",
     "text": [
      "(5,)\n",
      "int64\n",
      "(2, 5)\n",
      "int64\n"
     ]
    }
   ],
   "source": [
    "print(data.shape)\n",
    "print(data.dtype)\n",
    "print(data1.shape)\n",
    "print(data1.dtype)"
   ]
  },
  {
   "cell_type": "markdown",
   "metadata": {},
   "source": [
    "其他的数组属性方法还有：\n",
    "\n",
    "array.ndim   数组的维数，一维数组结果为1，二维数组打印结果为2\n",
    "\n",
    "array.size     数组的元素个数\n",
    "\n",
    "array.itemsiz   数组每个元素的字节大小"
   ]
  },
  {
   "cell_type": "markdown",
   "metadata": {},
   "source": [
    "#### NumPy中的基本数据类型\n",
    "\n",
    "| 名称                | 描述                                              |\n",
    "|---------------------|---------------------------------------------------|\n",
    "| bool                | 用一个字节存储的布尔类型（True或False）           |\n",
    "| inti                | 由所在平台决定其大小的整数（一般为int32或int64）  |\n",
    "| int8                | 一个字节大小，-128 至 127                         |\n",
    "| int16               | 整数，-32768 至 32767                             |\n",
    "| int32               | 整数，-2 ** 31 至 2 ** 32 -1                      |\n",
    "| int64               | 整数，-2 ** 63 至 2 ** 63 – 1                     |\n",
    "| uint8               | 无符号整数，0 至 255                              |\n",
    "| uint16              | 无符号整数，0 至 65535                            |\n",
    "| uint32              | 无符号整数，0 至 2 ** 32 – 1                      |\n",
    "| uint64              | 无符号整数，0 至 2 ** 64 – 1                      |\n",
    "| float16             | 半精度浮点数：16位，正负号1位，指数5位，精度10位  |\n",
    "| float32             | 单精度浮点数：32位，正负号1位，指数8位，精度23位  |\n",
    "| float64或float      | 双精度浮点数：64位，正负号1位，指数11位，精度52位 |\n",
    "| complex64           | 复数，分别用两个32位浮点数表示实部和虚部          |\n",
    "| complex128或complex | 复数，分别用两个64位浮点数表示实部和虚部          |"
   ]
  },
  {
   "cell_type": "markdown",
   "metadata": {},
   "source": [
    "## 基础的数组运算\n",
    "\n",
    "数组也可以进行我们常用的加减乘除运算"
   ]
  },
  {
   "cell_type": "code",
   "execution_count": 4,
   "metadata": {
    "collapsed": false
   },
   "outputs": [
    {
     "name": "stdout",
     "output_type": "stream",
     "text": [
      "[ 0  2  4  6  8 10 12 14 16 18]\n"
     ]
    }
   ],
   "source": [
    "arr=np.array(np.arange(10))\n",
    "print(arr*2)"
   ]
  },
  {
   "cell_type": "code",
   "execution_count": 5,
   "metadata": {
    "collapsed": false
   },
   "outputs": [
    {
     "name": "stdout",
     "output_type": "stream",
     "text": [
      "[0 1 2 3 4 5 6 7 8 9]\n",
      "[ 1  2  3  4  5  6  7  8  9 10]\n",
      "[ 1  3  5  7  9 11 13 15 17 19]\n"
     ]
    }
   ],
   "source": [
    "arr1=np.array(np.arange(1,11))\n",
    "print(arr)\n",
    "print(arr1)\n",
    "print(arr+arr1)"
   ]
  },
  {
   "cell_type": "markdown",
   "metadata": {},
   "source": [
    "### 数组索引"
   ]
  },
  {
   "cell_type": "code",
   "execution_count": 6,
   "metadata": {
    "collapsed": false
   },
   "outputs": [
    {
     "name": "stdout",
     "output_type": "stream",
     "text": [
      "5\n"
     ]
    }
   ],
   "source": [
    "arr=np.arange(10)\n",
    "print(arr[5])"
   ]
  },
  {
   "cell_type": "markdown",
   "metadata": {},
   "source": [
    "### 切片索引"
   ]
  },
  {
   "cell_type": "code",
   "execution_count": 7,
   "metadata": {
    "collapsed": false
   },
   "outputs": [
    {
     "name": "stdout",
     "output_type": "stream",
     "text": [
      "[5 6 7]\n"
     ]
    }
   ],
   "source": [
    "print(arr[5:8])"
   ]
  },
  {
   "cell_type": "markdown",
   "metadata": {},
   "source": [
    "可以利用索引对数据进行更改操作"
   ]
  },
  {
   "cell_type": "code",
   "execution_count": 8,
   "metadata": {
    "collapsed": false
   },
   "outputs": [
    {
     "name": "stdout",
     "output_type": "stream",
     "text": [
      "[  0   1   2   3   4 120   6   7   8   9]\n"
     ]
    }
   ],
   "source": [
    "arr[5]=120\n",
    "print(arr)"
   ]
  },
  {
   "cell_type": "markdown",
   "metadata": {},
   "source": [
    "### 布尔操作"
   ]
  },
  {
   "cell_type": "code",
   "execution_count": 9,
   "metadata": {
    "collapsed": false
   },
   "outputs": [
    {
     "name": "stdout",
     "output_type": "stream",
     "text": [
      "[ True False False False  True]\n"
     ]
    }
   ],
   "source": [
    "arr=np.arange(5)\n",
    "name=np.array(['a','b','b','c','a'])\n",
    "print(name=='a')"
   ]
  },
  {
   "cell_type": "markdown",
   "metadata": {},
   "source": [
    "可以利用name数组设置条件后的布尔值对arr数组进行相关操作"
   ]
  },
  {
   "cell_type": "code",
   "execution_count": 10,
   "metadata": {
    "collapsed": false
   },
   "outputs": [
    {
     "name": "stdout",
     "output_type": "stream",
     "text": [
      "[0 4]\n"
     ]
    }
   ],
   "source": [
    "print(arr[name=='a'])"
   ]
  },
  {
   "cell_type": "markdown",
   "metadata": {},
   "source": [
    "### 多条件操作"
   ]
  },
  {
   "cell_type": "code",
   "execution_count": 11,
   "metadata": {
    "collapsed": false
   },
   "outputs": [
    {
     "name": "stdout",
     "output_type": "stream",
     "text": [
      "[ True False False  True  True]\n",
      "['a' 'c' 'a']\n"
     ]
    }
   ],
   "source": [
    "result=(name=='a')|(name=='c')\n",
    "print(result)\n",
    "print(name[result])"
   ]
  },
  {
   "cell_type": "markdown",
   "metadata": {},
   "source": [
    "### 相关的函数方法使用"
   ]
  },
  {
   "cell_type": "markdown",
   "metadata": {},
   "source": [
    "#### np.meshgrid 用于生成多维矩阵"
   ]
  },
  {
   "cell_type": "code",
   "execution_count": 12,
   "metadata": {
    "collapsed": false
   },
   "outputs": [
    {
     "name": "stdout",
     "output_type": "stream",
     "text": [
      "[[1 2 3 4]\n",
      " [1 2 3 4]\n",
      " [1 2 3 4]]\n",
      "\n",
      "[[2 2 2 2]\n",
      " [3 3 3 3]\n",
      " [4 4 4 4]]\n"
     ]
    }
   ],
   "source": [
    "a,b=np.meshgrid(np.arange(1,5),np.arange(2,5))\n",
    "print(a)\n",
    "print()\n",
    "print(b)"
   ]
  },
  {
   "cell_type": "markdown",
   "metadata": {},
   "source": [
    "np.where 是三元表达式  x if  condition  else y的矢量化版本"
   ]
  },
  {
   "cell_type": "code",
   "execution_count": 13,
   "metadata": {
    "collapsed": false
   },
   "outputs": [
    {
     "name": "stdout",
     "output_type": "stream",
     "text": [
      "[0 1 2 3 4]\n",
      "[20 21 22 23 24]\n",
      "[ 0 21  2 23 24]\n"
     ]
    }
   ],
   "source": [
    "arr1=np.arange(5)\n",
    "arr2=np.arange(20,25)\n",
    "condition=np.array([1,0,1,0,0]) \n",
    "result=np.where(condition,arr1,arr2)\n",
    "print(arr1)\n",
    "print(arr2)\n",
    "print(result)"
   ]
  },
  {
   "cell_type": "markdown",
   "metadata": {},
   "source": [
    "### 数学统计方法\n",
    "\n",
    "在数组中我们也可以使用数学统计方法进行计数，例如sum mean  std  等"
   ]
  },
  {
   "cell_type": "code",
   "execution_count": 14,
   "metadata": {
    "collapsed": false
   },
   "outputs": [
    {
     "name": "stdout",
     "output_type": "stream",
     "text": [
      "[ 6 11  6  9 13 12  1 17 18  5]\n",
      "9.8\n",
      "98\n",
      "5.15363949069\n"
     ]
    }
   ],
   "source": [
    "arr=np.random.randint(1,20,10)\n",
    "print(arr)\n",
    "print(np.mean(arr))\n",
    "print(np.sum(arr))\n",
    "print(np.std(arr))"
   ]
  },
  {
   "cell_type": "markdown",
   "metadata": {},
   "source": [
    "### 布尔型数组的相关统计方法"
   ]
  },
  {
   "cell_type": "code",
   "execution_count": 15,
   "metadata": {
    "collapsed": false
   },
   "outputs": [
    {
     "name": "stdout",
     "output_type": "stream",
     "text": [
      "[-20 -19 -18 -17 -16 -15 -14 -13 -12 -11 -10  -9  -8  -7  -6  -5  -4  -3\n",
      "  -2  -1   0   1   2   3   4   5   6   7   8   9]\n",
      "\n",
      "[False False False False False False False False False False False False\n",
      " False False False False False False False False False False False False\n",
      " False False  True  True  True  True]\n",
      "\n",
      "4\n"
     ]
    }
   ],
   "source": [
    "arr=np.arange(-20,10)\n",
    "result=(arr>5).sum()\n",
    "print(arr)\n",
    "print()\n",
    "print(arr>5)\n",
    "print()\n",
    "print(result)"
   ]
  },
  {
   "cell_type": "markdown",
   "metadata": {},
   "source": [
    "#### 线性函数的常用方法"
   ]
  },
  {
   "cell_type": "code",
   "execution_count": 16,
   "metadata": {
    "collapsed": false
   },
   "outputs": [
    {
     "name": "stdout",
     "output_type": "stream",
     "text": [
      "[[ 5  4  6  6  3]\n",
      " [12 17 17 12 11]]\n",
      "[[10  8 12 12  6]\n",
      " [24 34 34 24 22]]\n"
     ]
    }
   ],
   "source": [
    "arr=np.array([np.random.randint(1,10,5),np.random.randint(10,20,5)])\n",
    "print(arr)\n",
    "print(np.dot(arr,2))\n"
   ]
  },
  {
   "cell_type": "markdown",
   "metadata": {},
   "source": [
    "#### 随机数生成方法"
   ]
  },
  {
   "cell_type": "code",
   "execution_count": 17,
   "metadata": {
    "collapsed": false
   },
   "outputs": [
    {
     "name": "stdout",
     "output_type": "stream",
     "text": [
      "[ 0.79893773  0.40965751  0.83821298  0.95949433  0.20252982  0.75947237\n",
      "  0.0198154   0.25163058  0.97925011  0.71490336]\n"
     ]
    }
   ],
   "source": [
    "arr=np.random.random(10)\n",
    "print(arr)"
   ]
  }
 ],
 "metadata": {
  "kernelspec": {
   "display_name": "Python 3",
   "language": "python",
   "name": "python3"
  },
  "language_info": {
   "codemirror_mode": {
    "name": "ipython",
    "version": 3
   },
   "file_extension": ".py",
   "mimetype": "text/x-python",
   "name": "python",
   "nbconvert_exporter": "python",
   "pygments_lexer": "ipython3",
   "version": "3.5.2"
  }
 },
 "nbformat": 4,
 "nbformat_minor": 2
}
