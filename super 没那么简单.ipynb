{
 "cells": [
  {
   "cell_type": "markdown",
   "metadata": {},
   "source": [
    "## super 没那么简单\n",
    "http://python.jobbole.com/87291/"
   ]
  },
  {
   "cell_type": "markdown",
   "metadata": {},
   "source": [
    "Python 3 和 Python 2 的另一个区别是: Python 3 可以使用直接使用 super().xxx 代替 super(Class, self).xxx "
   ]
  },
  {
   "cell_type": "code",
   "execution_count": 2,
   "metadata": {
    "collapsed": true
   },
   "outputs": [],
   "source": [
    "# 默认， Python 3\n",
    "class A:\n",
    "    pass\n",
    "\n",
    "# 默认，Python 3\n",
    "class B(A):\n",
    "    def add(self, x):\n",
    "        super().add(x)"
   ]
  },
  {
   "cell_type": "markdown",
   "metadata": {},
   "source": [
    "## 单继承\n",
    "\n",
    "在单继承中 super 就像大家所想的那样，主要是用来调用父类的方法的。"
   ]
  },
  {
   "cell_type": "code",
   "execution_count": 19,
   "metadata": {
    "collapsed": true
   },
   "outputs": [],
   "source": [
    "class A:\n",
    "    def __init__(self):\n",
    "        self.n = 2\n",
    " \n",
    "    def add(self, m):\n",
    "        print('self is {0} @A.add and self.n = {1}'.format(self, self.n))\n",
    "        self.n += m\n",
    " \n",
    " \n",
    "class B(A):\n",
    "    def __init__(self):\n",
    "        self.n = 3\n",
    " \n",
    "    def add(self, m):\n",
    "        print('self is {0} @B.add and self.n = {1}'.format(self, self.n))\n",
    "        super().add(m)\n",
    "        print('between super().add and self.add: self.n = {}'.format(self.n))\n",
    "        self.n += 3"
   ]
  },
  {
   "cell_type": "code",
   "execution_count": 17,
   "metadata": {
    "collapsed": false
   },
   "outputs": [
    {
     "name": "stdout",
     "output_type": "stream",
     "text": [
      "3\n",
      "self is <__main__.B object at 0x1045a2320> @B.add and self.n = 3\n",
      "self is <__main__.B object at 0x1045a2320> @A.add and self.n = 3\n",
      "between super().add and self.add: self.n = 5\n",
      "8\n"
     ]
    }
   ],
   "source": [
    "b = B()\n",
    "print(b.n)\n",
    "b.add(2)\n",
    "print(b.n)"
   ]
  },
  {
   "cell_type": "markdown",
   "metadata": {},
   "source": [
    "## 多继承\n",
    "\n",
    "这次我们再定义一个 class C，一个 class D:"
   ]
  },
  {
   "cell_type": "code",
   "execution_count": 20,
   "metadata": {
    "collapsed": true
   },
   "outputs": [],
   "source": [
    "class C(A):\n",
    "    def __init__(self):\n",
    "        self.n = 4\n",
    " \n",
    "    def add(self, m):\n",
    "        print('self is {0} @C.add'.format(self))\n",
    "        super().add(m)\n",
    "        self.n += 4\n",
    " \n",
    " \n",
    "class D(B, C):\n",
    "    def __init__(self):\n",
    "        self.n = 5\n",
    " \n",
    "    def add(self, m):\n",
    "        print('self is {0} @D.add'.format(self))\n",
    "        super().add(m)\n",
    "        self.n += 5"
   ]
  },
  {
   "cell_type": "code",
   "execution_count": 21,
   "metadata": {
    "collapsed": false
   },
   "outputs": [
    {
     "name": "stdout",
     "output_type": "stream",
     "text": [
      "self is <__main__.D object at 0x1048308d0> @D.add\n",
      "self is <__main__.D object at 0x1048308d0> @B.add and self.n = 5\n",
      "self is <__main__.D object at 0x1048308d0> @C.add\n",
      "self is <__main__.D object at 0x1048308d0> @A.add and self.n = 5\n",
      "between super().add and self.add: self.n = 11\n",
      "19\n"
     ]
    }
   ],
   "source": [
    "d = D()\n",
    "d.add(2)\n",
    "print(d.n)"
   ]
  },
  {
   "cell_type": "markdown",
   "metadata": {
    "collapsed": true
   },
   "source": [
    "## super 是个类\n",
    "\n",
    "当我们调用 super() 的时候，实际上是实例化了一个 super 类。你没看错， super 是个类，既不是关键字也不是函数等其他数据结构:"
   ]
  },
  {
   "cell_type": "code",
   "execution_count": 1,
   "metadata": {
    "collapsed": false
   },
   "outputs": [
    {
     "data": {
      "text/plain": [
       "super"
      ]
     },
     "execution_count": 1,
     "metadata": {},
     "output_type": "execute_result"
    }
   ],
   "source": [
    "class A: pass\n",
    "s = super(A)\n",
    "type(s)"
   ]
  },
  {
   "cell_type": "markdown",
   "metadata": {
    "collapsed": true
   },
   "source": [
    "在大多数情况下， super 包含了两个非常重要的信息: 一个 MRO 以及 MRO 中的一个类。\n",
    "\n",
    "当以如下方式调用 super 时, MRO 指的是 type(obj) 的 MRO, MRO 中的那个类就是 a_type , 同时 isinstance(obj, a_type) == True 。"
   ]
  },
  {
   "cell_type": "raw",
   "metadata": {
    "collapsed": true
   },
   "source": [
    "super(a_type, obj)"
   ]
  },
  {
   "cell_type": "markdown",
   "metadata": {
    "collapsed": true
   },
   "source": [
    "当这样调用时, MRO 指的是 type2 的 MRO, MRO 中的那个类就是 type1 ，同时 issubclass(type2, type1) == True 。"
   ]
  },
  {
   "cell_type": "raw",
   "metadata": {
    "collapsed": true
   },
   "source": [
    "super(type1, type2)"
   ]
  },
  {
   "cell_type": "markdown",
   "metadata": {
    "collapsed": true
   },
   "source": [
    "那么， super() 实际上做了啥呢？简单来说就是：提供一个 MRO 以及一个 MRO 中的类 C ， super() 将返回一个从 MRO 中 C 之后的类中查找方法的对象。\n",
    "\n",
    "也就是说，查找方式时不是像常规方法一样从所有的 MRO 类中查找，而是从 MRO 的 tail 中查找。"
   ]
  },
  {
   "cell_type": "raw",
   "metadata": {
    "collapsed": true
   },
   "source": [
    "For example:  有个 MRO:\n",
    "\n",
    "[A, B, C, D, E, object]\n",
    "\n",
    "下面的调用: :\n",
    "\n",
    "super(C, A).foo()\n",
    " \n",
    "super 只会从 C 之后查找，即: 只会在 D 或 E 或 object 中查找 foo 方法。"
   ]
  },
  {
   "cell_type": "markdown",
   "metadata": {
    "collapsed": true
   },
   "source": [
    "## 多继承中 super 的工作方式"
   ]
  },
  {
   "cell_type": "markdown",
   "metadata": {
    "collapsed": true
   },
   "source": [
    "下面我们来具体分析一下前面的例子:\n",
    "\n",
    "D 的 MRO 是: [D, B, C, A, object] 。 \n",
    "\n",
    "Note: 可以通过 D.mro() (Python 2 使用 D.__mro__ ) 来查看 D 的 MRO 信息）"
   ]
  },
  {
   "cell_type": "code",
   "execution_count": 13,
   "metadata": {
    "collapsed": false
   },
   "outputs": [
    {
     "name": "stdout",
     "output_type": "stream",
     "text": [
      "D.mro(): \n",
      "[<class '__main__.D'>, <class '__main__.B'>, <class '__main__.C'>, <class '__main__.A'>, <class 'object'>]\n",
      "\n",
      "self is <__main__.D object at 0x10469f438> @D.add\n",
      "self is <__main__.D object at 0x10469f438> @B.add\n",
      "self is <__main__.D object at 0x10469f438> @C.add\n",
      "self is <__main__.D object at 0x10469f438> @A.add\n",
      "19\n"
     ]
    }
   ],
   "source": [
    "class A:\n",
    "    def __init__(self):\n",
    "        self.n = 2\n",
    " \n",
    "    def add(self, m):\n",
    "        # 第四步\n",
    "        # 来自 D.add 中的 super\n",
    "        # self == d, self.n == d.n == 5\n",
    "        print('self is {0} @A.add'.format(self))\n",
    "        self.n += m\n",
    "        # d.n == 7\n",
    " \n",
    " \n",
    "class B(A):\n",
    "    def __init__(self):\n",
    "        self.n = 3\n",
    " \n",
    "    def add(self, m):\n",
    "        # 第二步\n",
    "        # 来自 D.add 中的 super\n",
    "        # self == d, self.n == d.n == 5\n",
    "        print('self is {0} @B.add'.format(self))\n",
    "        # 等价于 suepr(B, self).add(m)\n",
    "        # self 的 MRO 是 [D, B, C, A, object]\n",
    "        # 从 B 之后的 [C, A, object] 中查找 add 方法\n",
    "        super().add(m)\n",
    " \n",
    "        # 第六步\n",
    "        # d.n = 11\n",
    "        self.n += 3\n",
    "        # d.n = 14\n",
    " \n",
    "class C(A):\n",
    "    def __init__(self):\n",
    "        self.n = 4\n",
    " \n",
    "    def add(self, m):\n",
    "        # 第三步\n",
    "        # 来自 B.add 中的 super\n",
    "        # self == d, self.n == d.n == 5\n",
    "        print('self is {0} @C.add'.format(self))\n",
    "        # 等价于 suepr(C, self).add(m)\n",
    "        # self 的 MRO 是 [D, B, C, A, object]\n",
    "        # 从 C 之后的 [A, object] 中查找 add 方法\n",
    "        super().add(m)\n",
    " \n",
    "        # 第五步\n",
    "        # d.n = 7\n",
    "        self.n += 4\n",
    "        # d.n = 11\n",
    " \n",
    " \n",
    "class D(B, C):\n",
    "    def __init__(self):\n",
    "        self.n = 5\n",
    " \n",
    "    def add(self, m):\n",
    "        # 第一步\n",
    "        print('self is {0} @D.add'.format(self))\n",
    "        # 等价于 super(D, self).add(m)\n",
    "        # self 的 MRO 是 [D, B, C, A, object]\n",
    "        # 从 D 之后的 [B, C, A, object] 中查找 add 方法\n",
    "        super().add(m)\n",
    "        # 第七步\n",
    "        # d.n = 14\n",
    "        self.n += 5\n",
    "        # self.n = 19\n",
    "\n",
    "        \n",
    "print('D.mro(): \\n{}'.format(D.mro()))\n",
    "print()\n",
    "d = D()\n",
    "d.add(2)\n",
    "print(d.n)"
   ]
  },
  {
   "cell_type": "markdown",
   "metadata": {},
   "source": [
    "调用过程图如下:"
   ]
  },
  {
   "cell_type": "raw",
   "metadata": {},
   "source": [
    "D.mro() == [D, B, C, A, object]\n",
    "d = D()\n",
    "d.n == 5\n",
    "d.add(2)\n",
    " \n",
    "class D(B, C):          class B(A):            class C(A):             class A:\n",
    "    def add(self, m):       def add(self, m):      def add(self, m):       def add(self, m):\n",
    "        super().add(m)  1.--->  super().add(m) 2.--->  super().add(m)  3.--->  self.n += m\n",
    "        self.n += 5   <------6. self.n += 3    <----5. self.n += 4     <----4. <--|\n",
    "        (14+5=19)               (11+3=14)              (7+4=11)                (5+2=7)"
   ]
  }
 ],
 "metadata": {
  "kernelspec": {
   "display_name": "Python 3",
   "language": "python",
   "name": "python3"
  },
  "language_info": {
   "codemirror_mode": {
    "name": "ipython",
    "version": 3
   },
   "file_extension": ".py",
   "mimetype": "text/x-python",
   "name": "python",
   "nbconvert_exporter": "python",
   "pygments_lexer": "ipython3",
   "version": "3.5.2"
  }
 },
 "nbformat": 4,
 "nbformat_minor": 2
}
