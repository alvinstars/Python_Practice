{
 "cells": [
  {
   "cell_type": "markdown",
   "metadata": {},
   "source": [
    "# Python算法实战系列之队列 - queue\n",
    "https://blog.ansheng.me/article/python-algorithm-combat-series-queue/"
   ]
  },
  {
   "cell_type": "markdown",
   "metadata": {},
   "source": [
    "队列（queue），是先进先出（FIFO, First-In-First-Out）的线性表，在具体应用中通常用链表或者数组来实现，队列只允许在后端（称为rear）进行插入操作，在前端（称为front）进行删除操作，队列的操作方式和堆栈类似，唯一的区别在于队列只允许新数据在后端进行添加。"
   ]
  },
  {
   "cell_type": "markdown",
   "metadata": {},
   "source": [
    "## General Interface\n",
    "\n",
    "| 接口         | 描述             |\n",
    "|--------------|------------------|\n",
    "| add(x)       | 入队             |\n",
    "| delete()     | 出队             |\n",
    "| clear()      | 清空队列         |\n",
    "| isEmpty()    | 判断队列是否为空 |\n",
    "| isFull()     | 判断队列是否未满 |\n",
    "| length()     | 队列的当前长度   |\n",
    "| capability() | 队列的容量       |"
   ]
  },
  {
   "cell_type": "markdown",
   "metadata": {},
   "source": [
    "然而在Python中，可以使用collections模块下的deque函数，deque函数提供了队列所有的接口. collections.deque是双端队列，即左右两边都是可进可出的\n",
    "\n",
    "那么先让我门看看队列deque函数提供了那些API把：\n",
    "\n",
    "| 方法                          | 描述                                                 |\n",
    "|-------------------------------|------------------------------------------------------|\n",
    "| append(x)                     | 在队列的右边添加一个元素                             |\n",
    "| appendleft(x)                 | 在队列的左边添加一个元素                             |\n",
    "| clear()                       | 从队列中删除所有元素                                 |\n",
    "| copy()                        | 返回一个浅拷贝的副本                                 |\n",
    "| count(value)                  | 返回值在队列中出现的次数                             |\n",
    "| extend([x..])                 | 使用可迭代的元素扩展队列的右侧                       |\n",
    "| extendleft([x..])             | 使用可迭代的元素扩展队列的LEFT侧                       |\n",
    "| index(value, [start, [stop]]) | 返回值的第一个索引，如果值不存在，则引发ValueError。 |\n",
    "| insert(index, object)         | 在索引之前插入对象                                   |\n",
    "| maxlen                        | 获取队列的最大长度                                   |\n",
    "| pop()                         | 删除并返回最右侧的元素                               |\n",
    "| popleft()                     | 删除并返回最左侧的元素                               |\n",
    "| remove(value)                 | 删除查找到的第一个值                                 |\n",
    "| reverse()                     | 队列中的所有元素进行翻转                             |\n",
    "| rotate()                      | 向右旋转队列n步（默认n = 1），如果n为负，向左旋转。  |"
   ]
  },
  {
   "cell_type": "markdown",
   "metadata": {},
   "source": [
    "## Example 1: 二项式系数\n",
    "\n",
    "#### 题目\n",
    "\n",
    "编写程序，求二项式系数表中(杨辉三角)第K层系列数\n",
    "\n",
    "   1\n",
    "\n",
    "1  1\n",
    "\n",
    "1  2  1\n",
    "\n",
    "1 3  3  1\n",
    "\n",
    "......\n",
    "\n",
    "#### 思路\n",
    "\n",
    "把第K行的系数存储在队列中\n",
    "依次出队K层的系数（每行最后一个1不出队），并推算K+1层系数，添加到队尾，最后在队尾添加一个1，便变成了k+1行。"
   ]
  },
  {
   "cell_type": "code",
   "execution_count": 1,
   "metadata": {
    "collapsed": false
   },
   "outputs": [
    {
     "name": "stdout",
     "output_type": "stream",
     "text": [
      "[1, 3, 3, 1]\n"
     ]
    }
   ],
   "source": [
    "#!/use/bin/env python\n",
    "# _*_ coding:utf-8 _*_\n",
    "from collections import deque\n",
    "def yanghui(k):\n",
    "    \"\"\"\n",
    "    :param k: 杨辉三角中第几层\n",
    "    :return: 第K层的系数\n",
    "    \"\"\"\n",
    "    q = deque([1])  # 创建一个队列，默认从1开始\n",
    "    for i in range(k):  # 迭代要查找的层数\n",
    "        for _ in range(i):  # 循环需要出队多少次\n",
    "            q.append(q.popleft() + q[0])  # 第一个数加上队列中第二个数并赋值到队列末尾\n",
    "        q.append(1)  # 每次查找结束后都需要在队列最右边添加个1\n",
    "    return list(q)\n",
    "result = yanghui(3)\n",
    "print(result)"
   ]
  },
  {
   "cell_type": "markdown",
   "metadata": {},
   "source": [
    "## 划分无冲突子集\n",
    "\n",
    "#### 题目\n",
    "\n",
    "某动物园搬家，要运走N种动物，老虎与狮子放在一起会大家，大象与犀牛放在一个笼子会打架，野猪和野狗放在一个笼子里会打架，现在需要我们设计一个算法，使得装进同一个笼子的动物互相不打架。\n",
    "\n",
    "#### 思路\n",
    "\n",
    "把所有动物按次序入队\n",
    "创建一个笼子(集合)，出队一个动物，如果和笼子内动物无冲冲突则添加到该笼子，有冲突则添加到队尾，等待进入新笼子\n",
    "由于队列先进先出的特性，如果当前出队动物的index不大于前一个出队动物的index，说明当前队列中所有动物已经尝试过进入且进入不了当前笼子，此时创建信的笼子(集合)"
   ]
  },
  {
   "cell_type": "code",
   "execution_count": 2,
   "metadata": {
    "collapsed": false
   },
   "outputs": [
    {
     "name": "stdout",
     "output_type": "stream",
     "text": [
      "[[0, 2, 3, 7], [1, 6], [4, 5], [8]]\n"
     ]
    }
   ],
   "source": [
    "#!/use/bin/env python\n",
    "# _*_ coding:utf-8 _*_\n",
    "from collections import deque\n",
    "def division(m, n):\n",
    "    \"\"\"\n",
    "    :param m: 冲突关系矩阵\n",
    "    :param n: 几种动物\n",
    "    :return: 返回一个栈，栈内包含了所有的笼子\n",
    "    \"\"\"\n",
    "    res = []  # 创建一个栈\n",
    "    q = deque(range(n))  # 初始化队列，里面放着动物的序号\n",
    "    pre = n  # 前一个动物的下标\n",
    "    while q:\n",
    "        cur = q.popleft()  # 从队头出队一个动物\n",
    "        if pre >= cur:  # 是否需要创建笼子\n",
    "            res.append([])  # 创建一个笼子\n",
    "        # 当前的动物是否与笼子内的动物有冲突\n",
    "        for a in res[-1]:  # 迭代栈中最顶层的笼子\n",
    "            if m[cur][a]:  # 有冲突\n",
    "                q.append(cur)  # 重新放入队列的尾部\n",
    "                break\n",
    "        else:  # 当前动物和当前笼子中的所有动物没冲突\n",
    "            res[-1].append(cur)  # 当前动物放入最上面的笼子中\n",
    "        pre = cur  # 当前变成之前的\n",
    "    return res\n",
    "N = 9\n",
    "R = {  # 冲突对应关系表\n",
    "    (1, 4), (4, 8), (1, 8), (1, 7),\n",
    "    (8, 3), (1, 0), (0, 5), (1, 5),\n",
    "    (3, 4), (5, 6), (5, 2), (6, 2), (6, 4),\n",
    "}\n",
    "M = [[0] * N for _ in range(N)]  # 冲洗关系矩阵M，0代表不冲突\n",
    "for i, j in R:\n",
    "    M[i][j] = M[j][i] = 1  # 1代表冲突\n",
    "result = division(M, N)\n",
    "print(result)"
   ]
  },
  {
   "cell_type": "markdown",
   "metadata": {},
   "source": [
    "## 数字变换\n",
    "\n",
    "#### 题目\n",
    "\n",
    "对于一对正整数a,b,对a只能进行加1，减1，乘2操作，问最少对a进行几次操作能得到b？\n",
    "\n",
    "例如：\n",
    "\n",
    "a=3,b=11: 可以通过322-1，3次操作得到11；\n",
    "a=5,b=8：可以通过(5-1)*2，2次操作得到8；\n",
    "\n",
    "#### 思路\n",
    "\n",
    "本题用广度优先搜索，寻找a到b状态迁移最短路径，对于每个状态s，可以转换到撞到s+1,s-1,s*2:\n",
    "\n",
    "把初始化状态a入队；\n",
    "出队一个状态s，然后s+1,s-1,s*2入队；\n",
    "反复循环第二步骤，直到状态s为b；"
   ]
  },
  {
   "cell_type": "code",
   "execution_count": 3,
   "metadata": {
    "collapsed": false
   },
   "outputs": [
    {
     "name": "stdout",
     "output_type": "stream",
     "text": [
      "3\n"
     ]
    }
   ],
   "source": [
    "#!/use/bin/env python\n",
    "# _*_ coding:utf-8 _*_\n",
    "from collections import deque\n",
    "def atob(a, b):\n",
    "    \"\"\"\n",
    "    :param a: 开始的数字\n",
    "    :param b: 最终转换之后的数字\n",
    "    :return: 最小匹配的次数\n",
    "    \"\"\"\n",
    "    q = deque([(a, 0)])  # a=当前数字，0=操作的次数\n",
    "    checked = {a}  # 已经检查过的数据\n",
    "    while True:\n",
    "        s, c = q.popleft()\n",
    "        if s == b:\n",
    "            break\n",
    "        if s < b:  # 要计算的数小于计算之后的数字\n",
    "            if s + 1 not in checked:  # 如果要计算的数字+1不在已检查过的数据集合中\n",
    "                q.append((s + 1, c + 1))  # 要计算的数+1，转换次数+1\n",
    "                checked.add(s + 1)  # 把计算过的数添加到checked集合中\n",
    "            if s * 2 not in checked:\n",
    "                q.append((s * 2, c + 1))\n",
    "                checked.add(s * 2)\n",
    "        if s > 0:  # 要计算的数大于0\n",
    "            if s - 1 not in checked:\n",
    "                q.append((s - 1, c + 1))\n",
    "                checked.add(s - 1)\n",
    "    return q.popleft()[-1]\n",
    "result = atob(3, 11)\n",
    "print(result)"
   ]
  }
 ],
 "metadata": {
  "kernelspec": {
   "display_name": "Python 3",
   "language": "python",
   "name": "python3"
  },
  "language_info": {
   "codemirror_mode": {
    "name": "ipython",
    "version": 3
   },
   "file_extension": ".py",
   "mimetype": "text/x-python",
   "name": "python",
   "nbconvert_exporter": "python",
   "pygments_lexer": "ipython3",
   "version": "3.5.2"
  }
 },
 "nbformat": 4,
 "nbformat_minor": 2
}
