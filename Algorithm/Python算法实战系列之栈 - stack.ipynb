{
 "cells": [
  {
   "cell_type": "markdown",
   "metadata": {},
   "source": [
    "# Python算法实战系列之栈 - stack\n",
    "http://python.jobbole.com/87581/"
   ]
  },
  {
   "cell_type": "markdown",
   "metadata": {},
   "source": [
    "## Interface"
   ]
  },
  {
   "cell_type": "markdown",
   "metadata": {},
   "source": [
    "| 接口      | 描述                     |\n",
    "|-----------|--------------------------|\n",
    "| push()    | 入栈                     |\n",
    "| pop()     | 出栈                     |\n",
    "| isEmpty() | 判断是否为空栈           |\n",
    "| length()  | 获取栈的长度             |\n",
    "| getTop()  | 取栈顶的元素，元素不出栈 |"
   ]
  },
  {
   "cell_type": "markdown",
   "metadata": {},
   "source": [
    "### List in Python"
   ]
  },
  {
   "cell_type": "markdown",
   "metadata": {},
   "source": [
    "| 操作        | 描述               |\n",
    "|-------------|--------------------|\n",
    "| s = []      | 创建一个栈         |\n",
    "| s.append(x) | 往栈内添加一个元素 |\n",
    "| s.pop()     | 在栈内删除一个元素 |\n",
    "| not s       | 判断是否为空栈     |\n",
    "| len(s)      | 获取栈内元素的数量 |\n",
    "| s[-1]       | 获取栈顶的元素     |"
   ]
  },
  {
   "cell_type": "markdown",
   "metadata": {},
   "source": [
    "## Example 1: 括号匹配"
   ]
  },
  {
   "cell_type": "markdown",
   "metadata": {},
   "source": [
    "#### 题目\n",
    "\n",
    "假如表达式中允许包含三中括号()、[]、{}，其嵌套顺序是任意的，例如：\n",
    "\n",
    "正确的格式\n",
    "\n",
    "{()[()]},[{({})}]\n",
    "\n",
    "错误的格式\n",
    "\n",
    "[(]),[()),(()}\n",
    "\n",
    "编写一个函数，判断一个表达式字符串，括号匹配是否正确\n",
    "\n",
    "#### 思路\n",
    "* 创建一个空栈，用来存储尚未找到的左括号；\n",
    "* 便利字符串，遇到左括号则压栈，遇到右括号则出栈一个左括号进行匹配;\n",
    "* 在第二步骤过程中，如果空栈情况下遇到右括号，说明缺少左括号，不匹配；\n",
    "* 在第二步骤遍历结束时，栈不为空，说明缺少右括号，不匹配"
   ]
  },
  {
   "cell_type": "code",
   "execution_count": 1,
   "metadata": {
    "collapsed": false
   },
   "outputs": [
    {
     "name": "stdout",
     "output_type": "stream",
     "text": [
      "{ 123\n",
      "} 125\n",
      "[ 91\n",
      "] 93\n",
      "( 40\n",
      ") 41\n"
     ]
    }
   ],
   "source": [
    "a = '{}[]()'\n",
    "for x in a:\n",
    "    print(x, ord(x))"
   ]
  },
  {
   "cell_type": "code",
   "execution_count": 2,
   "metadata": {
    "collapsed": false
   },
   "outputs": [
    {
     "name": "stdout",
     "output_type": "stream",
     "text": [
      "True\n"
     ]
    }
   ],
   "source": [
    "# !/use/bin/env python\n",
    "# _*_ coding:utf-8 _*_\n",
    "LEFT = {'(', '[', '{'}  # 左括号\n",
    "RIGHT = {')', ']', '}'}  # 右括号\n",
    "def match(expr):\n",
    "    \"\"\"\n",
    "    :param expr:  传过来的字符串\n",
    "    :return:  返回是否是正确的\n",
    "    \"\"\"\n",
    "    stack = []  # 创建一个栈\n",
    "    for brackets in expr:  # 迭代传过来的所有字符串\n",
    "        if brackets in LEFT:  # 如果当前字符在左括号内\n",
    "            stack.append(brackets)  # 把当前左括号入栈\n",
    "        elif brackets in RIGHT:  # 如果是右括号\n",
    "            a = ord(brackets)\n",
    "            b = ord(stack[-1])\n",
    "            if not stack or not 1 <= ord(brackets) - ord(stack[-1]) <= 2:\n",
    "                # 如果当前栈为空，()]\n",
    "                # 如果右括号减去左括号的值不是小于等于2大于等于1\n",
    "                return False  # 返回False\n",
    "            stack.pop()  # 删除左括号\n",
    "#         print()\n",
    "    return not stack  # 如果栈内没有值则返回True，否则返回False\n",
    "\n",
    "\n",
    "result = match('[(){()}]')\n",
    "print(result)"
   ]
  },
  {
   "cell_type": "markdown",
   "metadata": {},
   "source": [
    "## Example 2: 迷宫问题"
   ]
  },
  {
   "cell_type": "markdown",
   "metadata": {},
   "source": [
    "#### 题目\n",
    "\n",
    "用一个二维数组表示一个简单的迷宫，用0表示通路，用1表示阻断，老鼠在每个点上可以移动相邻的东南西北四个点，设计一个算法，模拟老鼠走迷宫，找到从入口到出口的一条路径。\n",
    "\n",
    "出去的正确线路如图中的红线所示\n",
    "\n",
    "#### 思路\n",
    "\n",
    "* 用一个栈来记录老鼠从入口到出口的路径\n",
    "* 走到某点后，将该点左边压栈，并把该点值置为1，表示走过了；\n",
    "* 从临近的四个点中可到达的点中任意选取一个，走到该点；\n",
    "* 如果在到达某点后临近的4个点都不走，说明已经走入死胡同，此时退栈，退回一步尝试其他点；\n",
    "* 反复执行第二、三、四步骤直到找到出口；"
   ]
  },
  {
   "cell_type": "code",
   "execution_count": 3,
   "metadata": {
    "collapsed": false
   },
   "outputs": [
    {
     "name": "stdout",
     "output_type": "stream",
     "text": [
      "Initialization\n",
      "1 1 1 1 1 1 1 \n",
      "1 0 0 1 0 0 1 \n",
      "1 1 0 0 0 1 1 \n",
      "1 0 0 1 1 0 1 \n",
      "1 0 1 0 0 0 1 \n",
      "1 0 0 0 1 0 1 \n",
      "1 1 1 1 1 1 1 \n",
      "\n",
      "Valid Maze path marked as 3\n",
      "1 1 1 1 1 1 1 \n",
      "1 3 3 1 2 2 1 \n",
      "1 1 3 2 2 1 1 \n",
      "1 3 3 1 1 2 1 \n",
      "1 3 1 3 3 3 1 \n",
      "1 3 3 3 1 3 1 \n",
      "1 1 1 1 1 1 1 \n",
      "\n"
     ]
    }
   ],
   "source": [
    "#!/use/bin/env python\n",
    "# _*_ coding:utf-8 _*_\n",
    "def initMaze():\n",
    "    \"\"\"\n",
    "    :return: 初始化迷宫\n",
    "    \"\"\"\n",
    "    maze = [[0] * 7 for _ in range(5 + 2)]  # 用列表解析创建一个7*7的二维数组，为了确保迷宫四周都是墙\n",
    "    walls = [  # 记录了墙的位置\n",
    "        (1, 3),\n",
    "        (2, 1), (2, 5),\n",
    "        (3, 3), (3, 4),\n",
    "        (4, 2),  # (4, 3),  # 如果把(4, 3)点也设置为墙，那么整个迷宫是走不出去的，所以会返回一个空列表\n",
    "        (5, 4)\n",
    "    ]\n",
    "    for i in range(7):  # 把迷宫的四周设置成墙\n",
    "        maze[i][0] = maze[i][-1] = 1\n",
    "        maze[0][i] = maze[-1][i] = 1\n",
    "    for i, j in walls:  # 把所有墙的点设置为1\n",
    "        maze[i][j] = 1\n",
    "    return maze\n",
    "\n",
    "def printMaze(maze):\n",
    "    for x in maze:\n",
    "        for y in x:\n",
    "            print(y, end=' ')\n",
    "        print()\n",
    "    print()\n",
    "\n",
    "\n",
    "\"\"\"\n",
    "[1, 1, 1, 1, 1, 1, 1]\n",
    "[1, 0, 0, 1, 0, 0, 1]\n",
    "[1, 1, 0, 0, 0, 1, 1]\n",
    "[1, 0, 0, 1, 1, 0, 1]\n",
    "[1, 0, 1, 0, 0, 0, 1]\n",
    "[1, 0, 0, 0, 1, 0, 1]\n",
    "[1, 1, 1, 1, 1, 1, 1]\n",
    "\"\"\"\n",
    "def path(maze, start, end):\n",
    "    \"\"\"\n",
    "    :param maze: 迷宫\n",
    "    :param start: 起始点\n",
    "    :param end: 结束点\n",
    "    :return: 行走的每个点\n",
    "    \"\"\"\n",
    "    i, j = start  # 分解起始点的坐标\n",
    "    ei, ej = end  # 分解结束点的左边\n",
    "    stack = [(i, j)]  # 创建一个栈，并让老鼠站到起始点的位置\n",
    "    maze[i][j] = 2  # 走过的路置为2\n",
    "    while stack:  # 栈不为空的时候继续走，否则退出\n",
    "        i, j = stack[-1]  # 获取当前老鼠所站的位置点\n",
    "        if (i, j) == (ei, ej): break  # 如果老鼠找到了出口\n",
    "        for di, dj in [(0, -1), (0, 1), (-1, 0), (1, 0)]:  # 左右上下\n",
    "            if maze[i + di][j + dj] == 0:  # 如果当前点可走\n",
    "                maze[i + di][j + dj] = 2  # 把当前点置为2\n",
    "                stack.append((i + di, j + dj))  # 把当前的位置添加到栈里面\n",
    "                break\n",
    "        else:  # 如果所有的点都不可走\n",
    "            stack.pop()  # 退回上一步\n",
    "#         printMaze(Maze)\n",
    "#         print()\n",
    "    return stack  # 如果迷宫不能走则返回空栈\\\n",
    "\n",
    "Maze = initMaze()  # 初始化迷宫\n",
    "\n",
    "print('Initialization')\n",
    "printMaze(Maze)\n",
    "\n",
    "result = path(maze=Maze, start=(1, 1), end=(5, 5))  # 老鼠开始走迷宫\n",
    "\n",
    "# remark all the valid trace. The Path point will be set to 3\n",
    "for i , j in result:\n",
    "    Maze[i][j] = 3\n",
    "\n",
    "print('Valid Maze path marked as 3')\n",
    "printMaze(Maze)\n",
    "\n",
    "# [(1, 1), (1, 2), (2, 2), (3, 2), (3, 1), (4, 1), (5, 1), (5, 2), (5, 3), (4, 3), (4, 4), (4, 5), (5, 5)]"
   ]
  },
  {
   "cell_type": "markdown",
   "metadata": {},
   "source": [
    "## Example 3: 后缀表达式求值"
   ]
  },
  {
   "cell_type": "markdown",
   "metadata": {},
   "source": [
    "#### 题目\n",
    "\n",
    "计算一个表达式时，编译器通常使用后缀表达式，这种表达式不需要括号：\n",
    "\n",
    "| 中缀表达式                | 后缀表达式        |\n",
    "|---------------------------|-------------------|\n",
    "| 2 + 3 * 4                 | 2 3 4 * +         |\n",
    "| ( 1 + 2 ) * ( 6 / 3 ) + 2 | 1 2 + 6 3 / * 2 + |\n",
    "| 18 / ( 3 * ( 1 + 2 ) )    | 18 3 1 2 + * /    |\n",
    "\n",
    "编写程序实现后缀表达式求值函数。\n",
    "\n",
    "#### 思路\n",
    "* 建立一个栈来存储待计算的操作数；\n",
    "* 遍历字符串，遇到操作数则压入栈中，遇到操作符号则出栈操作数(n次)，进行相应的计算，计算结果是新的操作数压回栈中，等待计算\n",
    "* 按上述过程，遍历完整个表达式，栈中只剩下最终结果；"
   ]
  },
  {
   "cell_type": "code",
   "execution_count": 4,
   "metadata": {
    "collapsed": false
   },
   "outputs": [
    {
     "name": "stdout",
     "output_type": "stream",
     "text": [
      "2.0\n"
     ]
    }
   ],
   "source": [
    "#!/use/bin/env python\n",
    "# _*_ coding:utf-8 _*_\n",
    "operators = {  # 运算符操作表\n",
    "    '+': lambda op1, op2: op1 + op2,\n",
    "    '-': lambda op1, op2: op1 - op2,\n",
    "    '*': lambda op1, op2: op1 * op2,\n",
    "    '/': lambda op1, op2: op1 / op2,\n",
    "}\n",
    "def evalPostfix(e):\n",
    "    \"\"\"\n",
    "    :param e: 后缀表达式\n",
    "    :return: 正常情况下栈内的第一个元素就是计算好之后的值\n",
    "    \"\"\"\n",
    "    tokens = e.split()  # 把传过来的后缀表达式切分成列表\n",
    "    stack = []\n",
    "    for token in tokens:  # 迭代列表中的元素\n",
    "        if token.isdigit():  # 如果当前元素是数字\n",
    "            stack.append(int(token))  # 就追加到栈里边\n",
    "        elif token in operators.keys():  # 如果当前元素是操作符\n",
    "            f = operators[token]  # 获取运算符操作表中对应的lambda表达式\n",
    "            op2 = stack.pop()  # 根据先进后出的原则，先让第二个元素出栈\n",
    "            op1 = stack.pop()  # 在让第一个元素出栈\n",
    "            stack.append(f(op1, op2))  # 把计算的结果在放入到栈内\n",
    "#         print()\n",
    "    return stack.pop()  # 返回栈内的第一个元素\n",
    "\n",
    "# result = evalPostfix('2 3 4 * +')\n",
    "# result = evalPostfix('1 2 + 6 3 / * 2 +')\n",
    "result = evalPostfix('18 3 1 2 + * /')\n",
    "\n",
    "print(result)"
   ]
  },
  {
   "cell_type": "markdown",
   "metadata": {},
   "source": [
    "## Example 4: 背包问题"
   ]
  },
  {
   "cell_type": "markdown",
   "metadata": {},
   "source": [
    "题目\n",
    "\n",
    "有一个背包能装10kg的物品，现在有6件物品分别为：\n",
    "\n",
    "| 物品名称 | 重量 |\n",
    "|----------|------|\n",
    "| 物品0    | 1kg  |\n",
    "| 物品1    | 8kg  |\n",
    "| 物品2    | 4kg  |\n",
    "| 物品3    | 3kg  |\n",
    "| 物品4    | 5kg  |\n",
    "| 物品5    | 2kg  |\n",
    "\n",
    "编写找出所有能将背包装满的解，如物品1+物品5。"
   ]
  },
  {
   "cell_type": "code",
   "execution_count": 5,
   "metadata": {
    "collapsed": false
   },
   "outputs": [
    {
     "name": "stdout",
     "output_type": "stream",
     "text": [
      "[0, 2, 3, 5]\n",
      "[0, 2, 4]\n",
      "[1, 5]\n",
      "[3, 4, 5]\n"
     ]
    },
    {
     "data": {
      "text/plain": [
       "'\\n[0, 2, 3, 5]\\n[0, 2, 4]\\n[1, 5]\\n[3, 4, 5]\\n'"
      ]
     },
     "execution_count": 5,
     "metadata": {},
     "output_type": "execute_result"
    }
   ],
   "source": [
    "#!/use/bin/env python\n",
    "# _*_ coding:utf-8 _*_\n",
    "def knapsack(t, w):\n",
    "    \"\"\"\n",
    "    :param t: 背包总容量\n",
    "    :param w: 物品重量列表\n",
    "    :return:\n",
    "    \"\"\"\n",
    "    n = len(w)  # 可选的物品数量\n",
    "    stack = []  # 创建一个栈\n",
    "    k = 0  # 当前所选择的物品游标\n",
    "    while stack or k < n:  # 栈不为空或者k<n\n",
    "        while t > 0 and k < n:  # 还有剩余空间并且有物品可装\n",
    "            if t >= w[k]:  # 剩余空间大于等于当前物品重量\n",
    "                stack.append(k)  # 把物品装备背包\n",
    "                t -= w[k]  # 背包空间减少\n",
    "            k += 1  # 继续向后找\n",
    "        if t == 0:  # 找到了解\n",
    "            print(stack)\n",
    "        # 回退过程\n",
    "        k = stack.pop()  # 把最后一个物品拿出来\n",
    "        t += w[k]  # 背包总容量加上w[k]\n",
    "        k += 1  # 装入下一个物品\n",
    "        \n",
    "knapsack(10, [1, 8, 4, 3, 5, 2])\n",
    "\"\"\"\n",
    "[0, 2, 3, 5]\n",
    "[0, 2, 4]\n",
    "[1, 5]\n",
    "[3, 4, 5]\n",
    "\"\"\""
   ]
  }
 ],
 "metadata": {
  "kernelspec": {
   "display_name": "Python 3",
   "language": "python",
   "name": "python3"
  },
  "language_info": {
   "codemirror_mode": {
    "name": "ipython",
    "version": 3
   },
   "file_extension": ".py",
   "mimetype": "text/x-python",
   "name": "python",
   "nbconvert_exporter": "python",
   "pygments_lexer": "ipython3",
   "version": "3.5.2"
  }
 },
 "nbformat": 4,
 "nbformat_minor": 2
}
