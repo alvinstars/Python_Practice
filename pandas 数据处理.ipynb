{
 "cells": [
  {
   "cell_type": "markdown",
   "metadata": {},
   "source": [
    "# pandas 数据处理"
   ]
  },
  {
   "cell_type": "markdown",
   "metadata": {},
   "source": [
    "pandas是基于numpy包扩展而来的，因而numpy的绝大多数方法在pandas中都能适用。\n",
    "\n",
    "pandas中我们要熟悉两个数据结构Series 和DataFrame"
   ]
  },
  {
   "cell_type": "markdown",
   "metadata": {},
   "source": [
    "## Series\n",
    "类似于数组的对象，它有一组数据和与之相关的标签组成。"
   ]
  },
  {
   "cell_type": "code",
   "execution_count": 1,
   "metadata": {
    "collapsed": false
   },
   "outputs": [
    {
     "name": "stdout",
     "output_type": "stream",
     "text": [
      "0    2\n",
      "1    5\n",
      "2    8\n",
      "3    9\n",
      "dtype: int64\n"
     ]
    }
   ],
   "source": [
    "import pandas as pd\n",
    " \n",
    "object=pd.Series([2,5,8,9])\n",
    " \n",
    "print(object)"
   ]
  },
  {
   "cell_type": "markdown",
   "metadata": {},
   "source": [
    "我们可以用values和index分别进行引用"
   ]
  },
  {
   "cell_type": "code",
   "execution_count": 2,
   "metadata": {
    "collapsed": false
   },
   "outputs": [
    {
     "name": "stdout",
     "output_type": "stream",
     "text": [
      "[2 5 8 9]\n",
      "RangeIndex(start=0, stop=4, step=1)\n"
     ]
    }
   ],
   "source": [
    "print(object.values)\n",
    "print(object.index)"
   ]
  },
  {
   "cell_type": "markdown",
   "metadata": {},
   "source": [
    "还可以按照自己的意愿构建标签"
   ]
  },
  {
   "cell_type": "code",
   "execution_count": 3,
   "metadata": {
    "collapsed": false
   },
   "outputs": [
    {
     "name": "stdout",
     "output_type": "stream",
     "text": [
      "a    2\n",
      "b    5\n",
      "c    8\n",
      "d    9\n",
      "dtype: int64\n"
     ]
    }
   ],
   "source": [
    "object1=pd.Series([2,5,8,9],index=['a','b','c','d'])\n",
    " \n",
    "print(object1)"
   ]
  },
  {
   "cell_type": "markdown",
   "metadata": {},
   "source": [
    "对序列进行运算"
   ]
  },
  {
   "cell_type": "code",
   "execution_count": 4,
   "metadata": {
    "collapsed": false
   },
   "outputs": [
    {
     "name": "stdout",
     "output_type": "stream",
     "text": [
      "2    8\n",
      "3    9\n",
      "dtype: int64\n"
     ]
    }
   ],
   "source": [
    "print(object[object>5])"
   ]
  },
  {
   "cell_type": "markdown",
   "metadata": {},
   "source": [
    "可以把Series看成一个字典，使用in进行判断.\n",
    "\n",
    "值是不能直接被索引到的"
   ]
  },
  {
   "cell_type": "code",
   "execution_count": 5,
   "metadata": {
    "collapsed": false
   },
   "outputs": [
    {
     "name": "stdout",
     "output_type": "stream",
     "text": [
      "True\n",
      "True\n"
     ]
    }
   ],
   "source": [
    "print('a' in object1)\n",
    "print(0 in object)"
   ]
  },
  {
   "cell_type": "markdown",
   "metadata": {},
   "source": [
    "Series中的一些方法，\n",
    "\n",
    "isnull或者notnull可以用于判断数据中缺失值情况\n",
    "\n",
    "name或者index.name可以对数据进行重命名"
   ]
  },
  {
   "cell_type": "markdown",
   "metadata": {},
   "source": [
    "## DataFrame\n",
    "数据框，也是一种数据结构，和R中的数据框类似"
   ]
  },
  {
   "cell_type": "code",
   "execution_count": 6,
   "metadata": {
    "collapsed": false
   },
   "outputs": [
    {
     "name": "stdout",
     "output_type": "stream",
     "text": [
      "   income  year\n",
      "0    3000  2000\n",
      "1    3500  2001\n",
      "2    4500  2002\n",
      "3    6000  2003\n"
     ]
    }
   ],
   "source": [
    "data={'year':[2000,2001,2002,2003],\n",
    "          'income':[3000,3500,4500,6000]}\n",
    " \n",
    "data=pd.DataFrame(data)\n",
    " \n",
    "print(data)"
   ]
  },
  {
   "cell_type": "markdown",
   "metadata": {},
   "source": [
    "新增加列outcome在data中没有，则用na值代替"
   ]
  },
  {
   "cell_type": "code",
   "execution_count": 7,
   "metadata": {
    "collapsed": false
   },
   "outputs": [
    {
     "name": "stdout",
     "output_type": "stream",
     "text": [
      "   year  income outcome\n",
      "a  2000    3000     NaN\n",
      "b  2001    3500     NaN\n",
      "c  2002    4500     NaN\n",
      "d  2003    6000     NaN\n"
     ]
    }
   ],
   "source": [
    "data1 ={'year':[2000,2001,2002,2003],\n",
    "          'income':[3000,3500,4500,6000]}\n",
    "\n",
    "data2=pd.DataFrame(data1,\n",
    "                   columns=['year','income','outcome'],\n",
    "                   index=['a','b','c','d']\n",
    "                  )\n",
    "print(data2)"
   ]
  },
  {
   "cell_type": "markdown",
   "metadata": {},
   "source": [
    "### 索引的几种方式"
   ]
  },
  {
   "cell_type": "code",
   "execution_count": 8,
   "metadata": {
    "collapsed": false
   },
   "outputs": [
    {
     "name": "stdout",
     "output_type": "stream",
     "text": [
      "a    2000\n",
      "b    2001\n",
      "c    2002\n",
      "d    2003\n",
      "Name: year, dtype: int64\n"
     ]
    }
   ],
   "source": [
    "print(data2['year'])"
   ]
  },
  {
   "cell_type": "code",
   "execution_count": 9,
   "metadata": {
    "collapsed": false
   },
   "outputs": [
    {
     "name": "stdout",
     "output_type": "stream",
     "text": [
      "a    2000\n",
      "b    2001\n",
      "c    2002\n",
      "d    2003\n",
      "Name: year, dtype: int64\n"
     ]
    }
   ],
   "source": [
    "print(data2.year)"
   ]
  },
  {
   "cell_type": "markdown",
   "metadata": {},
   "source": [
    "对行进行索引，则是另外一种形式"
   ]
  },
  {
   "cell_type": "code",
   "execution_count": 10,
   "metadata": {
    "collapsed": false
   },
   "outputs": [
    {
     "name": "stdout",
     "output_type": "stream",
     "text": [
      "year       2000\n",
      "income     3000\n",
      "outcome     NaN\n",
      "Name: a, dtype: object\n"
     ]
    }
   ],
   "source": [
    "print(data2.ix['a'])"
   ]
  },
  {
   "cell_type": "markdown",
   "metadata": {},
   "source": [
    "切片"
   ]
  },
  {
   "cell_type": "code",
   "execution_count": 11,
   "metadata": {
    "collapsed": false
   },
   "outputs": [
    {
     "name": "stdout",
     "output_type": "stream",
     "text": [
      "   year  income outcome\n",
      "b  2001    3500     NaN\n",
      "c  2002    4500     NaN\n"
     ]
    }
   ],
   "source": [
    "print(data2[1:3])"
   ]
  },
  {
   "cell_type": "markdown",
   "metadata": {},
   "source": [
    "增加和删除列"
   ]
  },
  {
   "cell_type": "code",
   "execution_count": 12,
   "metadata": {
    "collapsed": false
   },
   "outputs": [
    {
     "name": "stdout",
     "output_type": "stream",
     "text": [
      "   year  income outcome  money\n",
      "a  2000    3000     NaN      0\n",
      "b  2001    3500     NaN      1\n",
      "c  2002    4500     NaN      2\n",
      "d  2003    6000     NaN      3\n"
     ]
    }
   ],
   "source": [
    "import numpy as np\n",
    "data2['money']=np.arange(4)\n",
    "print(data2)"
   ]
  },
  {
   "cell_type": "code",
   "execution_count": 13,
   "metadata": {
    "collapsed": false
   },
   "outputs": [
    {
     "name": "stdout",
     "output_type": "stream",
     "text": [
      "   year  income  money\n",
      "a  2000    3000      0\n",
      "b  2001    3500      1\n",
      "c  2002    4500      2\n",
      "d  2003    6000      3\n"
     ]
    }
   ],
   "source": [
    "del data2['outcome']\n",
    "print(data2)"
   ]
  },
  {
   "cell_type": "markdown",
   "metadata": {},
   "source": [
    "reindex函数可以重新构建索引"
   ]
  },
  {
   "cell_type": "code",
   "execution_count": 14,
   "metadata": {
    "collapsed": false
   },
   "outputs": [
    {
     "name": "stdout",
     "output_type": "stream",
     "text": [
      "     year  income outcome\n",
      "a  2000.0  3000.0     NaN\n",
      "b  2001.0  3500.0     NaN\n",
      "c  2002.0  4500.0     NaN\n",
      "d  2003.0  6000.0     NaN\n",
      "e     NaN     NaN     NaN\n"
     ]
    }
   ],
   "source": [
    "data_1 = {'year':[2000,2001,2002,2003],\n",
    "          'income':[3000,3500,4500,6000]}\n",
    "\n",
    "data_2 = pd.DataFrame(data_1,columns=['year','income','outcome'],\n",
    "index=['a','b','c','d'])\n",
    " \n",
    "data_3 =data_2.reindex(['a','b','c','d','e'])\n",
    "print(data_3)"
   ]
  },
  {
   "cell_type": "code",
   "execution_count": 15,
   "metadata": {
    "collapsed": false
   },
   "outputs": [
    {
     "name": "stdout",
     "output_type": "stream",
     "text": [
      "   year  income outcome\n",
      "a  2000    3000     NaN\n",
      "b  2001    3500     NaN\n",
      "c  2002    4500     NaN\n",
      "d  2003    6000     NaN\n",
      "e  2003    6000     NaN\n"
     ]
    }
   ],
   "source": [
    "data_3=data_2.reindex(['a','b','c','d','e'],method='ffill')\n",
    "print(data_3)"
   ]
  },
  {
   "cell_type": "markdown",
   "metadata": {},
   "source": [
    "索引删除以及过滤等相关方法"
   ]
  },
  {
   "cell_type": "code",
   "execution_count": 16,
   "metadata": {
    "collapsed": false
   },
   "outputs": [
    {
     "name": "stdout",
     "output_type": "stream",
     "text": [
      "   year  income outcome\n",
      "b  2001    3500     NaN\n",
      "c  2002    4500     NaN\n",
      "d  2003    6000     NaN\n"
     ]
    }
   ],
   "source": [
    "print(data_2.drop(['a']))"
   ]
  },
  {
   "cell_type": "code",
   "execution_count": 17,
   "metadata": {
    "collapsed": false
   },
   "outputs": [
    {
     "name": "stdout",
     "output_type": "stream",
     "text": [
      "   year  income outcome\n",
      "c  2002    4500     NaN\n",
      "d  2003    6000     NaN\n"
     ]
    }
   ],
   "source": [
    "print(data_2[data_2['year']>2001])"
   ]
  },
  {
   "cell_type": "code",
   "execution_count": 18,
   "metadata": {
    "collapsed": false
   },
   "outputs": [
    {
     "name": "stdout",
     "output_type": "stream",
     "text": [
      "   year  income\n",
      "a  2000    3000\n",
      "b  2001    3500\n"
     ]
    }
   ],
   "source": [
    "print(data_2.ix[['a','b'],['year','income']])"
   ]
  },
  {
   "cell_type": "code",
   "execution_count": 19,
   "metadata": {
    "collapsed": false
   },
   "outputs": [
    {
     "name": "stdout",
     "output_type": "stream",
     "text": [
      "   year  income\n",
      "b  2001    3500\n",
      "c  2002    4500\n",
      "d  2003    6000\n"
     ]
    }
   ],
   "source": [
    "print(data_2.ix[data_2.year>2000,:2])"
   ]
  },
  {
   "cell_type": "markdown",
   "metadata": {},
   "source": [
    "### dataframe的算法运算"
   ]
  },
  {
   "cell_type": "code",
   "execution_count": 20,
   "metadata": {
    "collapsed": false
   },
   "outputs": [
    {
     "name": "stdout",
     "output_type": "stream",
     "text": [
      "\n",
      "data1\n",
      "    year  income  outcome\n",
      "a  2000    3000        1\n",
      "b  2001    3500        2\n",
      "c  2002    4500        3\n",
      "d  2003    6000        4\n",
      "\n",
      "data2\n",
      "    year  income outcome\n",
      "a  2000    3000     NaN\n",
      "b  2001    3500     NaN\n",
      "c  2002    4500     NaN\n",
      "d  2003    6000     NaN\n",
      "\n",
      "data_reindex\n",
      "      year   income outcome\n",
      "a  4000.0   6000.0       1\n",
      "b  4002.0   7000.0       2\n",
      "c  4004.0   9000.0       3\n",
      "d  4006.0  12000.0       4\n",
      "e     NaN      NaN     NaN\n"
     ]
    }
   ],
   "source": [
    "data={'year':[2000,2001,2002,2003],\n",
    "'income':[3000,3500,4500,6000]}\n",
    " \n",
    "data1=pd.DataFrame(data,columns=['year','income','outcome'],\n",
    "index=['a','b','c','d'])\n",
    " \n",
    "data2=pd.DataFrame(data,columns=['year','income','outcome'],\n",
    "index=['a','b','c','d'])\n",
    " \n",
    "data1['outcome']=range(1,5)\n",
    " \n",
    "print('\\ndata1\\n',data1)\n",
    "\n",
    "print('\\ndata2\\n',data2)\n",
    "\n",
    "data2=data2.reindex(['a','b','c','d','e'])\n",
    " \n",
    "print('\\ndata_reindex\\n',data1.add(data2,fill_value=0))"
   ]
  },
  {
   "cell_type": "markdown",
   "metadata": {},
   "source": [
    "对dataframe进行排序"
   ]
  },
  {
   "cell_type": "code",
   "execution_count": 21,
   "metadata": {
    "collapsed": false
   },
   "outputs": [
    {
     "name": "stdout",
     "output_type": "stream",
     "text": [
      "   one  four  two  three  five\n",
      "c    0     1    2      3     4\n",
      "a    5     6    7      8     9\n",
      "b   10    11   12     13    14\n"
     ]
    }
   ],
   "source": [
    "data=pd.DataFrame(np.arange(15).reshape((3,5)),\n",
    "                  index=['c','a','b'], \n",
    "                  columns=['one','four','two','three','five'])\n",
    " \n",
    "print(data)"
   ]
  },
  {
   "cell_type": "code",
   "execution_count": 22,
   "metadata": {
    "collapsed": false
   },
   "outputs": [
    {
     "name": "stdout",
     "output_type": "stream",
     "text": [
      "   one  four  two  three  five\n",
      "a    5     6    7      8     9\n",
      "b   10    11   12     13    14\n",
      "c    0     1    2      3     4\n"
     ]
    }
   ],
   "source": [
    "print(data.sort_index())"
   ]
  },
  {
   "cell_type": "code",
   "execution_count": 23,
   "metadata": {
    "collapsed": false
   },
   "outputs": [
    {
     "name": "stdout",
     "output_type": "stream",
     "text": [
      "   five  four  one  three  two\n",
      "c     4     1    0      3    2\n",
      "a     9     6    5      8    7\n",
      "b    14    11   10     13   12\n"
     ]
    }
   ],
   "source": [
    "print(data.sort_index(axis=1))"
   ]
  },
  {
   "cell_type": "code",
   "execution_count": 24,
   "metadata": {
    "collapsed": false
   },
   "outputs": [
    {
     "name": "stdout",
     "output_type": "stream",
     "text": [
      "   one  four  two  three  five\n",
      "c    0     1    2      3     4\n",
      "a    5     6    7      8     9\n",
      "b   10    11   12     13    14\n"
     ]
    }
   ],
   "source": [
    "print(data.sort_values(by='one'))"
   ]
  },
  {
   "cell_type": "code",
   "execution_count": 25,
   "metadata": {
    "collapsed": false
   },
   "outputs": [
    {
     "name": "stdout",
     "output_type": "stream",
     "text": [
      "   one  four  two  three  five\n",
      "b   10    11   12     13    14\n",
      "a    5     6    7      8     9\n",
      "c    0     1    2      3     4\n"
     ]
    }
   ],
   "source": [
    "print(data.sort_values(by='one',ascending=False))"
   ]
  },
  {
   "cell_type": "markdown",
   "metadata": {},
   "source": [
    "汇总以及统计描述"
   ]
  },
  {
   "cell_type": "code",
   "execution_count": 26,
   "metadata": {
    "collapsed": false
   },
   "outputs": [
    {
     "name": "stdout",
     "output_type": "stream",
     "text": [
      "        one  four   two  three  five\n",
      "count   3.0   3.0   3.0    3.0   3.0\n",
      "mean    5.0   6.0   7.0    8.0   9.0\n",
      "std     5.0   5.0   5.0    5.0   5.0\n",
      "min     0.0   1.0   2.0    3.0   4.0\n",
      "25%     2.5   3.5   4.5    5.5   6.5\n",
      "50%     5.0   6.0   7.0    8.0   9.0\n",
      "75%     7.5   8.5   9.5   10.5  11.5\n",
      "max    10.0  11.0  12.0   13.0  14.0\n"
     ]
    }
   ],
   "source": [
    "data=pd.DataFrame(np.arange(15).reshape((3,5)),\n",
    "                  index=['c','a','b'], \n",
    "                  columns=['one','four','two','three','five'])\n",
    " \n",
    "print(data.describe())"
   ]
  },
  {
   "cell_type": "code",
   "execution_count": 27,
   "metadata": {
    "collapsed": false
   },
   "outputs": [
    {
     "name": "stdout",
     "output_type": "stream",
     "text": [
      "one      15\n",
      "four     18\n",
      "two      21\n",
      "three    24\n",
      "five     27\n",
      "dtype: int64\n"
     ]
    }
   ],
   "source": [
    "print(data.sum())"
   ]
  },
  {
   "cell_type": "code",
   "execution_count": 28,
   "metadata": {
    "collapsed": false
   },
   "outputs": [
    {
     "name": "stdout",
     "output_type": "stream",
     "text": [
      "c    10\n",
      "a    35\n",
      "b    60\n",
      "dtype: int64\n"
     ]
    }
   ],
   "source": [
    "print(data.sum(axis=1))"
   ]
  },
  {
   "cell_type": "code",
   "execution_count": 29,
   "metadata": {
    "collapsed": false
   },
   "outputs": [
    {
     "name": "stdout",
     "output_type": "stream",
     "text": [
      "        one      four       two     three      five\n",
      "c  0.997724  0.787519  0.544104  0.735576  0.638625\n",
      "a  0.600537  0.968203  0.445935  0.881803  0.501845\n",
      "b  0.958477  0.201321  0.831380  0.628254  0.598649\n",
      "c  0.506096  0.759721  0.132219  0.304490  0.630988\n"
     ]
    }
   ],
   "source": [
    "data=pd.DataFrame(np.random.random(20).reshape((4,5)),index=['c','a','b','c'],\n",
    "columns=['one','four','two','three','five'])\n",
    " \n",
    "print(data)"
   ]
  },
  {
   "cell_type": "code",
   "execution_count": 30,
   "metadata": {
    "collapsed": false
   },
   "outputs": [
    {
     "name": "stdout",
     "output_type": "stream",
     "text": [
      "0.366611001385\n"
     ]
    }
   ],
   "source": [
    "#相关系数\n",
    "print(data.one.corr(data.three))"
   ]
  },
  {
   "cell_type": "code",
   "execution_count": 31,
   "metadata": {
    "collapsed": false
   },
   "outputs": [
    {
     "name": "stdout",
     "output_type": "stream",
     "text": [
      "0.022358112986\n"
     ]
    }
   ],
   "source": [
    "#协方差\n",
    "print(data.one.cov(data.three))"
   ]
  },
  {
   "cell_type": "code",
   "execution_count": 32,
   "metadata": {
    "collapsed": false
   },
   "outputs": [
    {
     "name": "stdout",
     "output_type": "stream",
     "text": [
      "one      1.000000\n",
      "four    -0.547833\n",
      "two      0.829598\n",
      "three    0.366611\n",
      "five     0.359399\n",
      "dtype: float64\n"
     ]
    }
   ],
   "source": [
    "#one和所有列的相关系数\n",
    "print(data.corrwith(data.one))"
   ]
  },
  {
   "cell_type": "code",
   "execution_count": 33,
   "metadata": {
    "collapsed": false
   },
   "outputs": [
    {
     "name": "stdout",
     "output_type": "stream",
     "text": [
      "['a' 'b' 'c' 'd']\n"
     ]
    }
   ],
   "source": [
    "data=pd.Series(['a','a','b','b','b','c','d','d'])\n",
    " \n",
    "print(data.unique())"
   ]
  },
  {
   "cell_type": "code",
   "execution_count": 34,
   "metadata": {
    "collapsed": false
   },
   "outputs": [
    {
     "name": "stdout",
     "output_type": "stream",
     "text": [
      "0    False\n",
      "1    False\n",
      "2     True\n",
      "3     True\n",
      "4     True\n",
      "5    False\n",
      "6    False\n",
      "7    False\n",
      "dtype: bool\n"
     ]
    }
   ],
   "source": [
    "print(data.isin(['b']))"
   ]
  },
  {
   "cell_type": "code",
   "execution_count": 35,
   "metadata": {
    "collapsed": false
   },
   "outputs": [
    {
     "name": "stdout",
     "output_type": "stream",
     "text": [
      "b    3\n",
      "d    2\n",
      "a    2\n",
      "c    1\n",
      "dtype: int64\n"
     ]
    }
   ],
   "source": [
    "print(pd.value_counts(data.values,sort=True))"
   ]
  },
  {
   "cell_type": "markdown",
   "metadata": {},
   "source": [
    "#### 缺失值处理"
   ]
  },
  {
   "cell_type": "code",
   "execution_count": 36,
   "metadata": {
    "collapsed": false
   },
   "outputs": [
    {
     "name": "stdout",
     "output_type": "stream",
     "text": [
      "0    False\n",
      "1    False\n",
      "2    False\n",
      "3     True\n",
      "4    False\n",
      "5    False\n",
      "6     True\n",
      "7    False\n",
      "dtype: bool\n"
     ]
    }
   ],
   "source": [
    "data=pd.Series(['a','a','b',np.nan,'b','c',np.nan,'d'])\n",
    " \n",
    "print(data.isnull())"
   ]
  },
  {
   "cell_type": "code",
   "execution_count": 37,
   "metadata": {
    "collapsed": false
   },
   "outputs": [
    {
     "name": "stdout",
     "output_type": "stream",
     "text": [
      "0    a\n",
      "1    a\n",
      "2    b\n",
      "4    b\n",
      "5    c\n",
      "7    d\n",
      "dtype: object\n"
     ]
    }
   ],
   "source": [
    "print(data.dropna())"
   ]
  },
  {
   "cell_type": "code",
   "execution_count": 38,
   "metadata": {
    "collapsed": false
   },
   "outputs": [
    {
     "name": "stdout",
     "output_type": "stream",
     "text": [
      "0    a\n",
      "1    a\n",
      "2    b\n",
      "3    b\n",
      "4    b\n",
      "5    c\n",
      "6    c\n",
      "7    d\n",
      "dtype: object\n"
     ]
    }
   ],
   "source": [
    "print(data.ffill())"
   ]
  },
  {
   "cell_type": "code",
   "execution_count": 39,
   "metadata": {
    "collapsed": false
   },
   "outputs": [
    {
     "name": "stdout",
     "output_type": "stream",
     "text": [
      "0    a\n",
      "1    a\n",
      "2    b\n",
      "3    0\n",
      "4    b\n",
      "5    c\n",
      "6    0\n",
      "7    d\n",
      "dtype: object\n"
     ]
    }
   ],
   "source": [
    " print(data.fillna(0))"
   ]
  },
  {
   "cell_type": "markdown",
   "metadata": {},
   "source": [
    "### 层次化索引"
   ]
  },
  {
   "cell_type": "markdown",
   "metadata": {},
   "source": [
    "可以对数据进行多维度的索引"
   ]
  },
  {
   "cell_type": "code",
   "execution_count": 40,
   "metadata": {
    "collapsed": false
   },
   "outputs": [
    {
     "name": "stdout",
     "output_type": "stream",
     "text": [
      "a  1   -1.370134\n",
      "   2   -0.392633\n",
      "   3    0.448226\n",
      "b  1   -2.638579\n",
      "   2   -1.074331\n",
      "   3    0.174993\n",
      "c  1    1.691425\n",
      "   2   -0.046041\n",
      "d  2   -1.329235\n",
      "   3   -0.796645\n",
      "dtype: float64\n"
     ]
    }
   ],
   "source": [
    "data = pd.Series(np.random.randn(10), \n",
    "                 index=[['a', 'a', 'a', 'b', 'b', 'b', 'c', 'c', 'd', 'd'], \n",
    "                        [1, 2, 3, 1, 2, 3, 1, 2, 2, 3]])\n",
    " \n",
    "print(data)"
   ]
  },
  {
   "cell_type": "code",
   "execution_count": 41,
   "metadata": {
    "collapsed": false
   },
   "outputs": [
    {
     "name": "stdout",
     "output_type": "stream",
     "text": [
      "MultiIndex(levels=[['a', 'b', 'c', 'd'], [1, 2, 3]],\n",
      "           labels=[[0, 0, 0, 1, 1, 1, 2, 2, 3, 3], [0, 1, 2, 0, 1, 2, 0, 1, 1, 2]])\n"
     ]
    }
   ],
   "source": [
    "print(data.index)"
   ]
  },
  {
   "cell_type": "code",
   "execution_count": 42,
   "metadata": {
    "collapsed": false
   },
   "outputs": [
    {
     "name": "stdout",
     "output_type": "stream",
     "text": [
      "1    1.691425\n",
      "2   -0.046041\n",
      "dtype: float64\n"
     ]
    }
   ],
   "source": [
    "print(data['c'])"
   ]
  },
  {
   "cell_type": "code",
   "execution_count": 43,
   "metadata": {
    "collapsed": false
   },
   "outputs": [
    {
     "name": "stdout",
     "output_type": "stream",
     "text": [
      "a    0.448226\n",
      "b    0.174993\n",
      "d   -0.796645\n",
      "dtype: float64\n"
     ]
    }
   ],
   "source": [
    "print(data[:,3])"
   ]
  },
  {
   "cell_type": "code",
   "execution_count": 44,
   "metadata": {
    "collapsed": false
   },
   "outputs": [
    {
     "name": "stdout",
     "output_type": "stream",
     "text": [
      "          1         2         3\n",
      "a -1.370134 -0.392633  0.448226\n",
      "b -2.638579 -1.074331  0.174993\n",
      "c  1.691425 -0.046041       NaN\n",
      "d       NaN -1.329235 -0.796645\n"
     ]
    }
   ],
   "source": [
    "#把数据转换成为一个dataframe\n",
    "print(data.unstack())"
   ]
  },
  {
   "cell_type": "code",
   "execution_count": 45,
   "metadata": {
    "collapsed": false
   },
   "outputs": [
    {
     "name": "stdout",
     "output_type": "stream",
     "text": [
      "a  1   -1.370134\n",
      "   2   -0.392633\n",
      "   3    0.448226\n",
      "b  1   -2.638579\n",
      "   2   -1.074331\n",
      "   3    0.174993\n",
      "c  1    1.691425\n",
      "   2   -0.046041\n",
      "d  2   -1.329235\n",
      "   3   -0.796645\n",
      "dtype: float64\n"
     ]
    }
   ],
   "source": [
    "print(data.unstack().stack())"
   ]
  }
 ],
 "metadata": {
  "kernelspec": {
   "display_name": "Python 3",
   "language": "python",
   "name": "python3"
  },
  "language_info": {
   "codemirror_mode": {
    "name": "ipython",
    "version": 3
   },
   "file_extension": ".py",
   "mimetype": "text/x-python",
   "name": "python",
   "nbconvert_exporter": "python",
   "pygments_lexer": "ipython3",
   "version": "3.5.2"
  }
 },
 "nbformat": 4,
 "nbformat_minor": 2
}
