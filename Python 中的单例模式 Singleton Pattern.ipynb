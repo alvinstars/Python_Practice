{
 "cells": [
  {
   "cell_type": "markdown",
   "metadata": {},
   "source": [
    "# Python 中的单例模式 Singleton Pattern\n",
    "http://python.jobbole.com/87294/"
   ]
  },
  {
   "cell_type": "markdown",
   "metadata": {},
   "source": [
    "## 单例模式\n",
    "\n",
    "单例模式（Singleton Pattern）是一种常用的软件设计模式，该模式的主要目的是确保某一个类只有一个实例存在。当你希望在整个系统中，某个类只能出现一个实例时，单例对象就能派上用场。\n",
    "\n",
    "比如，某个服务器程序的配置信息存放在一个文件中，客户端通过一个 AppConfig 的类来读取配置文件的信息。如果在程序运行期间，有很多地方都需要使用配置文件的内容，也就是说，很多地方都需要创建 AppConfig 对象的实例，这就导致系统中存在多个 AppConfig 的实例对象，而这样会严重浪费内存资源，尤其是在配置文件内容很多的情况下。事实上，类似 AppConfig 这样的类，我们希望在程序运行期间只存在一个实例对象。\n",
    "\n",
    "在 Python 中，我们可以用多种方法来实现单例模式：\n",
    "\n",
    "* 使用模块\n",
    "* 使用 __new__\n",
    "* 使用装饰器（decorator）\n",
    "* 使用元类（metaclass）"
   ]
  },
  {
   "cell_type": "markdown",
   "metadata": {},
   "source": [
    "## 使用模块\n",
    "\n",
    "其实，Python 的模块就是天然的单例模式，因为模块在第一次导入时，会生成 .pyc 文件，当第二次导入时，就会直接加载 .pyc 文件，而不会再次执行模块代码。因此，我们只需把相关的函数和数据定义在一个模块中，就可以获得一个单例对象了。如果我们真的想要一个单例类，可以考虑这样做："
   ]
  },
  {
   "cell_type": "code",
   "execution_count": 1,
   "metadata": {
    "collapsed": true
   },
   "outputs": [],
   "source": [
    "# mysingleton.py\n",
    "class My_Singleton(object):\n",
    "    def foo(self):\n",
    "        pass\n",
    " \n",
    "my_singleton = My_Singleton()"
   ]
  },
  {
   "cell_type": "markdown",
   "metadata": {},
   "source": [
    "将上面的代码保存在文件 mysingleton.py 中，然后这样使用：\n",
    "\n",
    "from mysingleton import my_singleton\n",
    " \n",
    "my_singleton.foo()"
   ]
  },
  {
   "cell_type": "markdown",
   "metadata": {},
   "source": [
    "## 使用 __new__\n",
    "\n",
    "为了使类只能出现一个实例，我们可以使用 __new__ 来控制实例的创建过程"
   ]
  },
  {
   "cell_type": "code",
   "execution_count": 2,
   "metadata": {
    "collapsed": false
   },
   "outputs": [],
   "source": [
    "class Singleton(object):\n",
    "    _instance = None\n",
    "    def __new__(cls, *args, **kw):\n",
    "        print('cls._instance: ',cls._instance)\n",
    "        if not cls._instance:\n",
    "            cls._instance = super(Singleton, cls).__new__(cls, *args, **kw) \n",
    "            print('Newly created cls._instance: ',cls._instance)\n",
    "        return cls._instance  \n",
    " \n",
    "class MyClass(Singleton):  \n",
    "    a = 1"
   ]
  },
  {
   "cell_type": "markdown",
   "metadata": {},
   "source": [
    "在上面的代码中，我们将类的实例和一个类变量 _instance 关联起来，如果 cls._instance 为 None 则创建实例，否则直接返回 cls._instance。"
   ]
  },
  {
   "cell_type": "code",
   "execution_count": 3,
   "metadata": {
    "collapsed": false
   },
   "outputs": [
    {
     "name": "stdout",
     "output_type": "stream",
     "text": [
      "cls._instance:  None\n",
      "Newly created cls._instance:  <__main__.MyClass object at 0x10474e5c0>\n"
     ]
    }
   ],
   "source": [
    "one = MyClass()"
   ]
  },
  {
   "cell_type": "code",
   "execution_count": 4,
   "metadata": {
    "collapsed": false
   },
   "outputs": [
    {
     "data": {
      "text/plain": [
       "4369737152"
      ]
     },
     "execution_count": 4,
     "metadata": {},
     "output_type": "execute_result"
    }
   ],
   "source": [
    "id(one)"
   ]
  },
  {
   "cell_type": "code",
   "execution_count": 5,
   "metadata": {
    "collapsed": false
   },
   "outputs": [
    {
     "name": "stdout",
     "output_type": "stream",
     "text": [
      "cls._instance:  <__main__.MyClass object at 0x10474e5c0>\n"
     ]
    }
   ],
   "source": [
    "two = MyClass()"
   ]
  },
  {
   "cell_type": "code",
   "execution_count": 6,
   "metadata": {
    "collapsed": false
   },
   "outputs": [
    {
     "data": {
      "text/plain": [
       "4369737152"
      ]
     },
     "execution_count": 6,
     "metadata": {},
     "output_type": "execute_result"
    }
   ],
   "source": [
    "id(two)"
   ]
  },
  {
   "cell_type": "code",
   "execution_count": 7,
   "metadata": {
    "collapsed": false
   },
   "outputs": [
    {
     "data": {
      "text/plain": [
       "True"
      ]
     },
     "execution_count": 7,
     "metadata": {},
     "output_type": "execute_result"
    }
   ],
   "source": [
    "one == two"
   ]
  },
  {
   "cell_type": "code",
   "execution_count": 8,
   "metadata": {
    "collapsed": false
   },
   "outputs": [
    {
     "data": {
      "text/plain": [
       "True"
      ]
     },
     "execution_count": 8,
     "metadata": {},
     "output_type": "execute_result"
    }
   ],
   "source": [
    "one is two"
   ]
  },
  {
   "cell_type": "markdown",
   "metadata": {},
   "source": [
    "## 使用装饰器\n",
    "\n",
    "我们知道，装饰器（decorator）可以动态地修改一个类或函数的功能。这里，我们也可以使用装饰器来装饰某个类，使其只能生成一个实例，代码如下："
   ]
  },
  {
   "cell_type": "code",
   "execution_count": 9,
   "metadata": {
    "collapsed": true
   },
   "outputs": [],
   "source": [
    "from functools import wraps\n",
    " \n",
    "def singleton_deco(cls):\n",
    "    instances = {}\n",
    "    @wraps(cls)\n",
    "    def getinstance(*args, **kw):\n",
    "        print('instances: ',instances)\n",
    "        if cls not in instances:\n",
    "            instances[cls] = cls(*args, **kw)\n",
    "        print('Returning instances[cls]: ',instances[cls])\n",
    "        return instances[cls]\n",
    "    return getinstance\n",
    " \n",
    "@singleton_deco\n",
    "class MyClass_deco(object):\n",
    "    a = 1\n",
    "\n",
    "@singleton_deco\n",
    "class MyClassA_deco(object):\n",
    "    b = 1"
   ]
  },
  {
   "cell_type": "markdown",
   "metadata": {},
   "source": [
    "在上面，我们定义了一个装饰器 singleton，它返回了一个内部函数 getinstance，该函数会判断某个类是否在字典 instances 中，如果不存在，则会将 cls 作为 key，cls(*args, **kw) 作为 value 存到 instances 中，否则，直接返回 instances[cls]。\n",
    "\n"
   ]
  },
  {
   "cell_type": "code",
   "execution_count": 10,
   "metadata": {
    "collapsed": false
   },
   "outputs": [
    {
     "name": "stdout",
     "output_type": "stream",
     "text": [
      "instances:  {}\n",
      "Returning instances[cls]:  <__main__.MyClass_deco object at 0x104735f60>\n"
     ]
    },
    {
     "data": {
      "text/plain": [
       "4369637216"
      ]
     },
     "execution_count": 10,
     "metadata": {},
     "output_type": "execute_result"
    }
   ],
   "source": [
    "one_d = MyClass_deco()\n",
    "id(one_d)"
   ]
  },
  {
   "cell_type": "code",
   "execution_count": 11,
   "metadata": {
    "collapsed": false
   },
   "outputs": [
    {
     "name": "stdout",
     "output_type": "stream",
     "text": [
      "instances:  {<class '__main__.MyClass_deco'>: <__main__.MyClass_deco object at 0x104735f60>}\n",
      "Returning instances[cls]:  <__main__.MyClass_deco object at 0x104735f60>\n"
     ]
    },
    {
     "data": {
      "text/plain": [
       "4369637216"
      ]
     },
     "execution_count": 11,
     "metadata": {},
     "output_type": "execute_result"
    }
   ],
   "source": [
    "two_d = MyClass_deco()\n",
    "id(two_d)"
   ]
  },
  {
   "cell_type": "code",
   "execution_count": 12,
   "metadata": {
    "collapsed": false
   },
   "outputs": [
    {
     "name": "stdout",
     "output_type": "stream",
     "text": [
      "instances:  {<class '__main__.MyClass_deco'>: <__main__.MyClass_deco object at 0x104735f60>}\n",
      "Returning instances[cls]:  <__main__.MyClass_deco object at 0x104735f60>\n"
     ]
    },
    {
     "data": {
      "text/plain": [
       "4369637216"
      ]
     },
     "execution_count": 12,
     "metadata": {},
     "output_type": "execute_result"
    }
   ],
   "source": [
    "three_d = MyClass_deco('b')\n",
    "id(three_d)"
   ]
  },
  {
   "cell_type": "code",
   "execution_count": 13,
   "metadata": {
    "collapsed": false
   },
   "outputs": [
    {
     "name": "stdout",
     "output_type": "stream",
     "text": [
      "instances:  {}\n",
      "Returning instances[cls]:  <__main__.MyClassA_deco object at 0x1047356d8>\n"
     ]
    },
    {
     "data": {
      "text/plain": [
       "4369635032"
      ]
     },
     "execution_count": 13,
     "metadata": {},
     "output_type": "execute_result"
    }
   ],
   "source": [
    "four_e = MyClassA_deco()\n",
    "id(four_e)"
   ]
  },
  {
   "cell_type": "code",
   "execution_count": 14,
   "metadata": {
    "collapsed": false
   },
   "outputs": [
    {
     "name": "stdout",
     "output_type": "stream",
     "text": [
      "instances:  {<class '__main__.MyClassA_deco'>: <__main__.MyClassA_deco object at 0x1047356d8>}\n",
      "Returning instances[cls]:  <__main__.MyClassA_deco object at 0x1047356d8>\n"
     ]
    },
    {
     "data": {
      "text/plain": [
       "4369635032"
      ]
     },
     "execution_count": 14,
     "metadata": {},
     "output_type": "execute_result"
    }
   ],
   "source": [
    "five_e = MyClassA_deco()\n",
    "id(five_e)"
   ]
  },
  {
   "cell_type": "code",
   "execution_count": 15,
   "metadata": {
    "collapsed": false
   },
   "outputs": [
    {
     "name": "stdout",
     "output_type": "stream",
     "text": [
      "instances:  {<class '__main__.MyClass_deco'>: <__main__.MyClass_deco object at 0x104735f60>}\n",
      "Returning instances[cls]:  <__main__.MyClass_deco object at 0x104735f60>\n"
     ]
    },
    {
     "data": {
      "text/plain": [
       "4369637216"
      ]
     },
     "execution_count": 15,
     "metadata": {},
     "output_type": "execute_result"
    }
   ],
   "source": [
    "six_d = MyClass_deco('a')\n",
    "id(six_d)"
   ]
  },
  {
   "cell_type": "markdown",
   "metadata": {},
   "source": [
    "## 使用 metaclass\n",
    "\n",
    "元类（metaclass）可以控制类的创建过程，它主要做三件事：\n",
    "\n",
    "* 拦截类的创建\n",
    "* 修改类的定义\n",
    "* 返回修改后的类"
   ]
  },
  {
   "cell_type": "code",
   "execution_count": 16,
   "metadata": {
    "collapsed": true
   },
   "outputs": [],
   "source": [
    "class Singleton(type):\n",
    "    _instances = {}\n",
    "    def __call__(cls, *args, **kwargs):\n",
    "        if cls not in cls._instances:\n",
    "            cls._instances[cls] = super(Singleton, cls).__call__(*args, **kwargs)\n",
    "        return cls._instances[cls]\n",
    " \n",
    "## Python2\n",
    "# class MyClass(object):\n",
    "#     __metaclass__ = Singleton\n",
    " \n",
    "# Python3\n",
    "class Foo(metaclass=Singleton):\n",
    "   pass"
   ]
  },
  {
   "cell_type": "code",
   "execution_count": 17,
   "metadata": {
    "collapsed": false
   },
   "outputs": [
    {
     "data": {
      "text/plain": [
       "4369798200"
      ]
     },
     "execution_count": 17,
     "metadata": {},
     "output_type": "execute_result"
    }
   ],
   "source": [
    "a = Foo()\n",
    "id(a)"
   ]
  },
  {
   "cell_type": "code",
   "execution_count": 18,
   "metadata": {
    "collapsed": false
   },
   "outputs": [
    {
     "data": {
      "text/plain": [
       "4369798200"
      ]
     },
     "execution_count": 18,
     "metadata": {},
     "output_type": "execute_result"
    }
   ],
   "source": [
    "b = Foo()\n",
    "id(b)"
   ]
  },
  {
   "cell_type": "code",
   "execution_count": 19,
   "metadata": {
    "collapsed": false
   },
   "outputs": [
    {
     "data": {
      "text/plain": [
       "True"
      ]
     },
     "execution_count": 19,
     "metadata": {},
     "output_type": "execute_result"
    }
   ],
   "source": [
    "a is b"
   ]
  }
 ],
 "metadata": {
  "kernelspec": {
   "display_name": "Python 3",
   "language": "python",
   "name": "python3"
  },
  "language_info": {
   "codemirror_mode": {
    "name": "ipython",
    "version": 3
   },
   "file_extension": ".py",
   "mimetype": "text/x-python",
   "name": "python",
   "nbconvert_exporter": "python",
   "pygments_lexer": "ipython3",
   "version": "3.5.2"
  }
 },
 "nbformat": 4,
 "nbformat_minor": 2
}
