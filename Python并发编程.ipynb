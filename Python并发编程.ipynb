{
 "cells": [
  {
   "cell_type": "markdown",
   "metadata": {},
   "source": [
    "# 使用Python进行并发编程\n",
    "http://python.jobbole.com/81255"
   ]
  },
  {
   "cell_type": "markdown",
   "metadata": {},
   "source": [
    "## 并发方式"
   ]
  },
  {
   "cell_type": "markdown",
   "metadata": {},
   "source": [
    "### 线程（Thread）\n",
    "\n",
    "多线程几乎是每一个程序猿在使用每一种语言时都会首先想到用于解决并发的工具（JS程序员请回避），使用多线程可以有效的利用CPU资源（Python例外）。然而多线程所带来的程序的复杂度也不可避免，尤其是对竞争资源的同步问题。\n",
    "\n",
    "然而在python中由于使用了全局解释锁（GIL）的原因，代码并不能同时在多核上并发的运行，也就是说，Python的多线程不能并发，很多人会发现使用多线程来改进自己的Python代码后，程序的运行效率却下降了，这是多么蛋疼的一件事呀！如果想了解更多细节，推荐阅读[这篇文章](https://www.jeffknupp.com/blog/2012/03/31/pythons-hardest-problem/)\n",
    "\n",
    "实际上使用多线程的编程模型是很困难的，程序员很容易犯错，这并不是程序员的错误，因为并行思维是反人类的，我们大多数人的思维是串行（精神分裂不讨论），而且冯诺依曼设计的计算机架构也是以顺序执行为基础的。所以如果你总是不能把你的多线程程序搞定，恭喜你，你是个思维正常的程序猿：）\n",
    "\n",
    "Python提供两组线程的接口，一组是thread模块，提供基础的，低等级（Low Level）接口，使用Function作为线程的运行体。还有一组是threading模块，提供更容易使用的基于对象的接口（类似于Java），可以继承Thread对象来实现线程，还提供了其它一些线程相关的对象，例如Timer，Lock"
   ]
  },
  {
   "cell_type": "code",
   "execution_count": 31,
   "metadata": {
    "collapsed": false
   },
   "outputs": [
    {
     "name": "stdout",
     "output_type": "stream",
     "text": [
      "Worker"
     ]
    },
    {
     "data": {
      "text/plain": [
       "123145526325248"
      ]
     },
     "execution_count": 31,
     "metadata": {},
     "output_type": "execute_result"
    },
    {
     "name": "stdout",
     "output_type": "stream",
     "text": [
      "\n"
     ]
    }
   ],
   "source": [
    "# 使用thread模块的例子\n",
    "# thread module has been renamed _thread in Python 3.\n",
    "\n",
    "import _thread\n",
    "def worker():\n",
    "    \"\"\"thread worker function\"\"\"\n",
    "    print('Worker')\n",
    "    \n",
    "_thread.start_new_thread(worker,())\n",
    "\n",
    "# ?_thread.start_new_thread\n",
    "# The thread exits when the function returns; the return value is ignored. "
   ]
  },
  {
   "cell_type": "markdown",
   "metadata": {},
   "source": [
    "The 'threading' module provides a more convenient interface."
   ]
  },
  {
   "cell_type": "code",
   "execution_count": 16,
   "metadata": {
    "collapsed": false
   },
   "outputs": [
    {
     "name": "stdout",
     "output_type": "stream",
     "text": [
      "Worker\n"
     ]
    }
   ],
   "source": [
    "# 使用threading模块的例子\n",
    "import threading\n",
    "def worker():\n",
    "    \"\"\"thread worker function\"\"\"\n",
    "    print('Worker')\n",
    "t = threading.Thread(target=worker)\n",
    "t.start()"
   ]
  },
  {
   "cell_type": "markdown",
   "metadata": {},
   "source": [
    "### 进程 （Process）\n",
    "\n",
    "由于前文提到的全局解释锁的问题，Python下比较好的并行方式是使用多进程，这样可以非常有效的使用CPU资源，并实现真正意义上的并发。当然，进程的开销比线程要大，也就是说如果你要创建数量惊人的并发进程的话，需要考虑一下你的机器是不是有一颗强大的心。"
   ]
  },
  {
   "cell_type": "markdown",
   "metadata": {},
   "source": [
    "Python的mutliprocess模块和threading具有类似的接口。"
   ]
  },
  {
   "cell_type": "code",
   "execution_count": 34,
   "metadata": {
    "collapsed": false
   },
   "outputs": [
    {
     "name": "stdout",
     "output_type": "stream",
     "text": [
      "Worker\n"
     ]
    }
   ],
   "source": [
    "from multiprocessing import Process\n",
    " \n",
    "def worker():\n",
    "    \"\"\"thread worker function\"\"\"\n",
    "    print('Worker') \n",
    "p = Process(target=worker)\n",
    "p.start()\n",
    "p.join()"
   ]
  },
  {
   "cell_type": "markdown",
   "metadata": {},
   "source": [
    "由于线程共享相同的地址空间和内存，所以线程之间的通信是非常容易的，然而进程之间的通信就要复杂一些了。常见的进程间通信有，管道，消息队列，Socket接口（TCP/IP）等等。\n",
    "\n",
    "Python的mutliprocess模块提供了封装好的管道和队列，可以方便的在进程间传递消息。\n",
    "\n",
    "Python进程间的同步使用锁，这一点和线程是一样的。\n",
    "\n",
    "另外，Python还提供了进程池Pool对象，可以方便的管理和控制线程。"
   ]
  },
  {
   "cell_type": "markdown",
   "metadata": {},
   "source": [
    "#### 远程分布式主机 （Distributed Node）"
   ]
  },
  {
   "cell_type": "markdown",
   "metadata": {},
   "source": [
    "远程主机间的进程间通信有几种常见的方式\n",
    "\n",
    "* TCP／IP\n",
    "TCP／IP是所有远程通信的基础，然而API比较低级别，使用起来比较繁琐，所以一般不会考虑\n",
    "\n",
    "* 远程方法调用 Remote Function Call\n",
    "RPC是早期的远程进程间通信的手段。Python下有一个开源的实现RPyC\n",
    "\n",
    "* 远程对象 Remote Object\n",
    "远程对象是更高级别的封装，程序可以想操作本地对象一样去操作一个远程对象在本地的代理。远程对象最广为使用的规范CORBA，CORBA最大的好处是可以在不同语言和平台中进行通信。当让不用的语言和平台还有一些各自的远程对象实现，例如Java的RMI，MS的DCOM\n",
    "\n",
    "* Python的开源实现，有许多对远程对象的支持\n",
    "    * Dopy\n",
    "    * Fnorb （CORBA）\n",
    "    * ICE\n",
    "    * omniORB （CORBA）\n",
    "    * Pyro\n",
    "    * YAMI\n",
    "\n",
    "* 消息队列 Message Queue\n",
    "比起RPC或者远程对象，消息是一种更为灵活的通信手段，常见的支持Python接口的消息机制有\n",
    "    * RabbitMQ\n",
    "    * ZeroMQ\n",
    "    * Kafka\n",
    "    * AWS SQS ＋ BOTO"
   ]
  },
  {
   "cell_type": "markdown",
   "metadata": {},
   "source": [
    "在远程主机上执行并发和本地的多进程并没有非常大的差异，都需要解决进程间通信的问题。当然对远程进程的管理和协调比起本地要复杂。\n",
    "\n",
    "Python下有许多开源的框架来支持分布式的并发，提供有效的管理手段包括：\n",
    "\n",
    "* Celery\n",
    "Celery是一个非常成熟的Python分布式框架，可以在分布式的系统中，异步的执行任务，并提供有效的管理和调度功能\n",
    "\n",
    "* SCOOP\n",
    "SCOOP （Scalable COncurrent Operations in Python）提供简单易用的分布式调用接口，使用Future接口来进行并发。\n",
    "\n",
    "* Dispy\n",
    "相比起Celery和SCOOP，Dispy提供更为轻量级的分布式并行服务\n",
    "\n",
    "* PP\n",
    "PP （Parallel Python）是另外一个轻量级的Python并行服务\n",
    "\n",
    "* Asyncoro\n",
    "Asyncoro是另一个利用Generator实现分布式并发的Python框架，\n",
    "\n"
   ]
  },
  {
   "cell_type": "markdown",
   "metadata": {},
   "source": [
    "#### 伪线程 （Pseudo－Thread）"
   ]
  },
  {
   "cell_type": "markdown",
   "metadata": {},
   "source": [
    "还有一种并发手段并不常见，我们可以称之为伪线程，就是看上去像是线程，使用的接口类似线程接口，但是实际使用非线程的方式，对应的线程开销也不存的。"
   ]
  },
  {
   "cell_type": "markdown",
   "metadata": {},
   "source": [
    "##### greenlet\n",
    "greenlet提供轻量级的coroutines来支持进程内的并发。\n",
    "\n",
    "greenlet是Stackless的一个副产品，使用tasklet来支持一中被称之为微线程（mirco－thread）的技术，这里是一个使用greenlet的伪线程的例子"
   ]
  },
  {
   "cell_type": "code",
   "execution_count": 44,
   "metadata": {
    "collapsed": false
   },
   "outputs": [
    {
     "name": "stdout",
     "output_type": "stream",
     "text": [
      "12\n",
      "56\n",
      "34\n"
     ]
    }
   ],
   "source": [
    "from greenlet import greenlet\n",
    " \n",
    "def test1():\n",
    "    print(12) \n",
    "    gr2.switch()\n",
    "    print(34) \n",
    "     \n",
    "def test2():\n",
    "    print(56) \n",
    "    gr1.switch()\n",
    "    print(78) \n",
    "     \n",
    "gr1 = greenlet(test1)\n",
    "gr2 = greenlet(test2)\n",
    "gr1.switch()"
   ]
  },
  {
   "cell_type": "markdown",
   "metadata": {},
   "source": [
    "伪线程gr1 switch会打印12，然后调用gr2 switch得到56，然后switch回到gr1，打印34，然后伪线程gr1结束，程序退出，所以78永远不会被打印。通过这个例子我们可以看出，使用伪线程，我们可以有效的控制程序的执行流程，但是伪线程并不存在真正意义上的并发。"
   ]
  },
  {
   "cell_type": "markdown",
   "metadata": {},
   "source": [
    "eventlet，gevent和concurence都是基于greenlet提供并发的。"
   ]
  },
  {
   "cell_type": "markdown",
   "metadata": {},
   "source": [
    "##### eventlet\n",
    "eventlet是一个提供网络调用并发的Python库，使用者可以以非阻塞的方式来调用阻塞的IO操作。"
   ]
  },
  {
   "cell_type": "code",
   "execution_count": 55,
   "metadata": {
    "collapsed": false
   },
   "outputs": [
    {
     "name": "stdout",
     "output_type": "stream",
     "text": [
      "got body 10271\n",
      "got body 1270\n",
      "got body 47393\n"
     ]
    }
   ],
   "source": [
    "import eventlet\n",
    "\n",
    "# Python3\n",
    "from eventlet.green.urllib import request\n",
    "# Python2\n",
    "# from eventlet.green import urllib2 as request\n",
    " \n",
    "urls = ['http://www.google.com', 'http://www.example.com', 'http://www.python.org']\n",
    " \n",
    "def fetch(url):\n",
    "    return request.urlopen(url).read()\n",
    " \n",
    "pool = eventlet.GreenPool()\n",
    " \n",
    "for body in pool.imap(fetch, urls):\n",
    "    print(\"got body\", len(body))"
   ]
  },
  {
   "cell_type": "markdown",
   "metadata": {},
   "source": [
    "eventlet为了支持generator的操作对urllib2做了修改，接口和urllib2是一致的。这里的GreenPool和Python的Pool接口一致。\n"
   ]
  },
  {
   "cell_type": "markdown",
   "metadata": {},
   "source": [
    "##### gevent\n",
    "gevent和eventlet类似"
   ]
  },
  {
   "cell_type": "code",
   "execution_count": 57,
   "metadata": {
    "collapsed": false
   },
   "outputs": [
    {
     "name": "stdout",
     "output_type": "stream",
     "text": [
      "['172.217.7.4', '93.184.216.34', '151.101.0.223']\n"
     ]
    }
   ],
   "source": [
    "import gevent\n",
    "from gevent import socket\n",
    "urls = ['www.google.com', 'www.example.com', 'www.python.org']\n",
    "jobs = [gevent.spawn(socket.gethostbyname, url) for url in urls]\n",
    "gevent.joinall(jobs, timeout=2)\n",
    " \n",
    "print([job.value for job in jobs])"
   ]
  },
  {
   "cell_type": "markdown",
   "metadata": {},
   "source": [
    "##### concurence\n",
    "concurence是另外一个利用greenlet提供网络并发的开源库，我没有用过，大家可以自己尝试一下。"
   ]
  },
  {
   "cell_type": "markdown",
   "metadata": {},
   "source": [
    "## 实战运用\n",
    "\n",
    "通常需要用到并发的场合有两种，一种是计算密集型，也就是说你的程序需要大量的CPU资源;另一种是IO密集型，程序可能有大量的读写操作，包括读写文件，收发网络请求等等。"
   ]
  },
  {
   "cell_type": "markdown",
   "metadata": {},
   "source": [
    "### 计算密集型\n",
    "\n",
    "对应计算密集型的应用，我们选用著名的蒙特卡洛算法来计算PI值。基本原理如下\n",
    "\n",
    "\n",
    "\n",
    "蒙特卡洛算法利用统计学原理来模拟计算圆周率，在一个正方形中，一个随机的点落在1/4圆的区域（红色点）的概率与其面积成正比。也就该概率 p ＝ Pi ＊ R＊R ／4  ： R＊ R ， 其中R是正方形的边长，圆的半径。也就是说该概率是圆周率的1/4, 利用这个结论，只要我们模拟出点落在四分之一圆上的概率就可以知道圆周率了，为了得到这个概率，我们可以通过大量的实验，也就是生成大量的点，看看这个点在哪个区域，然后统计出结果。"
   ]
  },
  {
   "cell_type": "code",
   "execution_count": 58,
   "metadata": {
    "collapsed": true
   },
   "outputs": [],
   "source": [
    "# 基本算法如下：\n",
    "from math import hypot\n",
    "from random import random\n",
    " \n",
    "def test(tries):\n",
    "    return sum(hypot(random(), random()) < 1 for _ in range(tries))"
   ]
  },
  {
   "cell_type": "markdown",
   "metadata": {},
   "source": [
    "这里test方法做了n（tries）次试验，返回落在四分之一圆中的点的个数。判断方法是检查该点到圆心的距离，如果小于R则是在圆上。\n",
    "通过大量的并发，我们可以快速的运行多次试验，试验的次数越多，结果越接近真实的圆周率。"
   ]
  },
  {
   "cell_type": "code",
   "execution_count": 59,
   "metadata": {
    "collapsed": true
   },
   "outputs": [],
   "source": [
    "?hypot"
   ]
  },
  {
   "cell_type": "code",
   "execution_count": 60,
   "metadata": {
    "collapsed": true
   },
   "outputs": [],
   "source": [
    "?random()"
   ]
  },
  {
   "cell_type": "markdown",
   "metadata": {},
   "source": [
    "##### 非并发\n",
    "我们先在单线程性能如何"
   ]
  },
  {
   "cell_type": "code",
   "execution_count": 62,
   "metadata": {
    "collapsed": false
   },
   "outputs": [
    {
     "name": "stdout",
     "output_type": "stream",
     "text": [
      "time spend  6.945528030395508\n",
      "3.1409586666666667\n"
     ]
    }
   ],
   "source": [
    "from math import hypot\n",
    "from random import random\n",
    "import eventlet\n",
    "import time\n",
    " \n",
    "def test(tries):\n",
    "    return sum(hypot(random(), random()) < 1 for _ in range(tries))\n",
    " \n",
    "def calcPi(nbFutures, tries):\n",
    "    ts = time.time()\n",
    "    result = map(test, [tries] * nbFutures)    \n",
    "    ret = 4. * sum(result) / float(nbFutures * tries)\n",
    "    span = time.time() - ts\n",
    "    print(\"time spend \", span)\n",
    "    return ret\n",
    " \n",
    "print(calcPi(3000,4000))"
   ]
  },
  {
   "cell_type": "markdown",
   "metadata": {},
   "source": [
    "##### 多线程 thread\n",
    "为了使用线程池，我们用multiprocessing的dummy包，它是对多线程的一个封装。注意这里代码虽然一个字的没有提到线程，但它千真万确是多线程。\n",
    "\n",
    "通过测试我们开（jing）心（ya）的发现，果然不出所料，当线程池为1是，它的运行结果和没有并发时一样，当我们把线程池数字设置为5时，耗时几乎是没有并发的2倍，我的测试数据从5秒到9秒。所以对于计算密集型的任务，还是放弃多线程吧。"
   ]
  },
  {
   "cell_type": "code",
   "execution_count": 64,
   "metadata": {
    "collapsed": false
   },
   "outputs": [
    {
     "name": "stdout",
     "output_type": "stream",
     "text": [
      "time spend  6.800668001174927\n",
      "pi = 3.141747\n"
     ]
    }
   ],
   "source": [
    "from multiprocessing.dummy import Pool\n",
    " \n",
    "from math import hypot\n",
    "from random import random\n",
    "import time\n",
    " \n",
    "def test(tries):\n",
    "    return sum(hypot(random(), random()) < 1 for _ in range(tries))\n",
    " \n",
    "def calcPi(nbFutures, tries):\n",
    "    ts = time.time()\n",
    "    p = Pool(1)\n",
    "    result = p.map(test, [tries] * nbFutures)\n",
    "    ret = 4. * sum(result) / float(nbFutures * tries)\n",
    "    span = time.time() - ts\n",
    "    print(\"time spend \", span)\n",
    "    return ret\n",
    " \n",
    "if __name__ == '__main__':\n",
    "    p = Pool()\n",
    "    print(\"pi = {}\".format(calcPi(3000, 4000)))"
   ]
  },
  {
   "cell_type": "markdown",
   "metadata": {},
   "source": [
    "##### 多进程 multiprocess\n",
    "理论上对于计算密集型的任务，使用多进程并发比较合适，在以下的例子中，进程池的规模设置为5，修改进程池的大小可以看到对结果的影响，当进程池设置为1时，和多线程的结果所需的时间类似，因为这时候并不存在并发；当设置为2时，响应时间有了明显的改进，是之前没有并发的一半；然而继续扩大进程池对性能影响并不大，甚至有所下降"
   ]
  },
  {
   "cell_type": "code",
   "execution_count": 66,
   "metadata": {
    "collapsed": false
   },
   "outputs": [
    {
     "name": "stdout",
     "output_type": "stream",
     "text": [
      "time spend  3.541930913925171\n",
      "pi = 3.141356\n"
     ]
    }
   ],
   "source": [
    "from multiprocessing import Pool\n",
    " \n",
    "from math import hypot\n",
    "from random import random\n",
    "import time\n",
    " \n",
    "def test(tries):\n",
    "    return sum(hypot(random(), random()) < 1 for _ in range(tries))\n",
    " \n",
    "def calcPi(nbFutures, tries):\n",
    "    ts = time.time()\n",
    "    p = Pool(5)\n",
    "    result = p.map(test, [tries] * nbFutures)\n",
    "    ret = 4. * sum(result) / float(nbFutures * tries)\n",
    "    span = time.time() - ts\n",
    "    print(\"time spend \", span)\n",
    "    return ret\n",
    " \n",
    "if __name__ == '__main__':\n",
    "    print(\"pi = {}\".format(calcPi(3000, 4000)))"
   ]
  },
  {
   "cell_type": "markdown",
   "metadata": {},
   "source": [
    "##### gevent （伪线程）\n",
    "不论是gevent还是eventlet，因为不存在实际的并发，响应时间和没有并发区别不大，这个和测试结果一致。"
   ]
  },
  {
   "cell_type": "code",
   "execution_count": 69,
   "metadata": {
    "collapsed": false
   },
   "outputs": [
    {
     "name": "stdout",
     "output_type": "stream",
     "text": [
      "time spend  6.9058449268341064\n",
      "3.141490666666667\n"
     ]
    }
   ],
   "source": [
    "import gevent\n",
    "from math import hypot\n",
    "from random import random\n",
    "import time\n",
    " \n",
    "def test(tries):\n",
    "    return sum(hypot(random(), random()) < 1 for _ in range(tries))\n",
    " \n",
    "def calcPi(nbFutures, tries):\n",
    "    ts = time.time()\n",
    "    jobs = [gevent.spawn(test, t) for t in [tries] * nbFutures]\n",
    "    gevent.joinall(jobs, timeout=2)\n",
    "    ret = 4. * sum([job.value for job in jobs]) / float(nbFutures * tries)\n",
    "    span = time.time() - ts\n",
    "    print(\"time spend \", span)\n",
    "    return ret\n",
    " \n",
    "print(calcPi(3000,4000))"
   ]
  },
  {
   "cell_type": "markdown",
   "metadata": {},
   "source": [
    "##### eventlet （伪线程）"
   ]
  },
  {
   "cell_type": "code",
   "execution_count": 70,
   "metadata": {
    "collapsed": false
   },
   "outputs": [
    {
     "name": "stdout",
     "output_type": "stream",
     "text": [
      "time spend  7.500765085220337\n",
      "3.1420316666666666\n"
     ]
    }
   ],
   "source": [
    "from math import hypot\n",
    "from random import random\n",
    "import eventlet\n",
    "import time\n",
    " \n",
    "def test(tries):\n",
    "    return sum(hypot(random(), random()) < 1 for _ in range(tries))\n",
    " \n",
    "def calcPi(nbFutures, tries):\n",
    "    ts = time.time()\n",
    "    pool = eventlet.GreenPool()\n",
    "    result = pool.imap(test, [tries] * nbFutures)\n",
    "     \n",
    "    ret = 4. * sum(result) / float(nbFutures * tries)\n",
    "    span = time.time() - ts\n",
    "    print(\"time spend \", span)\n",
    "    return ret\n",
    " \n",
    "print(calcPi(3000,4000)) "
   ]
  },
  {
   "cell_type": "markdown",
   "metadata": {},
   "source": [
    "### IO密集型\n",
    "\n",
    "IO密集型的任务是另一种常见的用例，例如网络WEB服务器就是一个例子，每秒钟能处理多少个请求时WEB服务器的重要指标。"
   ]
  },
  {
   "cell_type": "code",
   "execution_count": 81,
   "metadata": {
    "collapsed": false
   },
   "outputs": [
    {
     "name": "stdout",
     "output_type": "stream",
     "text": [
      "time spend  5.0067901611328125e-06\n"
     ]
    }
   ],
   "source": [
    "from math import hypot\n",
    "import time\n",
    " \n",
    "urls = ['http://www.google.com', 'http://www.example.com', 'http://www.python.org']\n",
    " \n",
    "def test(url):\n",
    "    return urllib2.urlopen(url).read()\n",
    " \n",
    "def testIO(nbFutures):\n",
    "    ts = time.time()\n",
    "    map(test, urls * nbFutures)\n",
    " \n",
    "    span = time.time() - ts\n",
    "    print(\"time spend \", span) \n",
    " \n",
    "testIO(10)"
   ]
  },
  {
   "cell_type": "markdown",
   "metadata": {},
   "source": [
    "通过测试我们可以发现，对于IO密集型的任务，使用多线程，或者是多进程都可以有效的提高程序的效率，而使用伪线程性能提升非常显著，eventlet比没有并发的情况下，响应时间从9秒提高到0.03秒。同时eventlet／gevent提供了非阻塞的异步调用模式，非常方便。这里推荐使用线程或者伪线程，因为在响应时间类似的情况下，线程和伪线程消耗的资源更少。"
   ]
  }
 ],
 "metadata": {
  "kernelspec": {
   "display_name": "Python 3",
   "language": "python",
   "name": "python3"
  },
  "language_info": {
   "codemirror_mode": {
    "name": "ipython",
    "version": 3
   },
   "file_extension": ".py",
   "mimetype": "text/x-python",
   "name": "python",
   "nbconvert_exporter": "python",
   "pygments_lexer": "ipython3",
   "version": "3.5.2"
  }
 },
 "nbformat": 4,
 "nbformat_minor": 2
}
