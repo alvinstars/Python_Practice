{
 "cells": [
  {
   "cell_type": "markdown",
   "metadata": {},
   "source": [
    "# 详解Python的装饰器\n",
    "http://python.jobbole.com/86717"
   ]
  },
  {
   "cell_type": "markdown",
   "metadata": {},
   "source": [
    "## 为什么需要装饰器\n",
    "\n",
    "我们假设你的程序实现了say_hello()和say_goodbye()两个函数。\n",
    "\n"
   ]
  },
  {
   "cell_type": "code",
   "execution_count": 4,
   "metadata": {
    "collapsed": false
   },
   "outputs": [
    {
     "name": "stdout",
     "output_type": "stream",
     "text": [
      "hello\n",
      "goodbye!\n"
     ]
    }
   ],
   "source": [
    "def say_hello():\n",
    "    print(\"hello\")\n",
    "    \n",
    "def say_goodbye():\n",
    "    print(\"goodbye!\")\n",
    "    \n",
    "if __name__ == '__main__':\n",
    "    say_hello()\n",
    "    say_goodbye()    "
   ]
  },
  {
   "cell_type": "raw",
   "metadata": {},
   "source": [
    "要求调用每个方法前都要记录进入函数的名称，比如\n",
    "\n",
    "[DEBUG]: Enter say_hello()\n",
    "Hello!\n",
    "[DEBUG]: Enter say_goodbye()\n",
    "Goodbye!"
   ]
  },
  {
   "cell_type": "code",
   "execution_count": 6,
   "metadata": {
    "collapsed": false
   },
   "outputs": [
    {
     "name": "stdout",
     "output_type": "stream",
     "text": [
      "[DEBUG]: enter say_hello()\n",
      "hello!\n",
      "[DEBUG]: enter say_goodbye()\n",
      "goodbye!\n"
     ]
    }
   ],
   "source": [
    "def debug():\n",
    "    import inspect\n",
    "    caller_name = inspect.stack()[1][3]\n",
    "    print(\"[DEBUG]: enter {}()\".format(caller_name))   \n",
    " \n",
    "def say_hello():\n",
    "    debug()\n",
    "    print(\"hello!\")\n",
    " \n",
    "def say_goodbye():\n",
    "    debug()\n",
    "    print(\"goodbye!\")\n",
    " \n",
    "if __name__ == '__main__':\n",
    "    say_hello()\n",
    "    say_goodbye()"
   ]
  },
  {
   "cell_type": "raw",
   "metadata": {},
   "source": [
    "但是每个业务函数里都要调用一下debug()函数，是不是很难受？万一老板说say相关的函数不用debug，do相关的才需要呢？\n",
    "\n",
    "那么装饰器这时候应该登场了。\n",
    "\n",
    "装饰器本质上是一个Python函数，它可以让其他函数在不需要做任何代码变动的前提下增加额外功能，装饰器的返回值也是一个函数对象。它经常用于有切面需求的场景，比如：插入日志、性能测试、事务处理、缓存、权限校验等场景。装饰器是解决这类问题的绝佳设计，有了装饰器，我们就可以抽离出大量与函数功能本身无关的雷同代码并继续重用。\n",
    "\n",
    "概括的讲，装饰器的作用就是为已经存在的函数或对象添加额外的功能。"
   ]
  },
  {
   "cell_type": "markdown",
   "metadata": {},
   "source": [
    "### 1.0 早期版本 （不传参)"
   ]
  },
  {
   "cell_type": "code",
   "execution_count": 19,
   "metadata": {
    "collapsed": false
   },
   "outputs": [
    {
     "name": "stdout",
     "output_type": "stream",
     "text": [
      "[DEBUG]: enter say_hello()\n",
      "hello!\n"
     ]
    }
   ],
   "source": [
    "def debug(func):\n",
    "    def wrapper():\n",
    "        print(\"[DEBUG]: enter {}()\".format(func.__name__))\n",
    "        return func()\n",
    "    return wrapper\n",
    " \n",
    "def say_hello():\n",
    "    print(\"hello!\")\n",
    " \n",
    "say_hello = debug(say_hello)# 添加功能并保持原函数名不变\n",
    "say_hello()"
   ]
  },
  {
   "cell_type": "raw",
   "metadata": {},
   "source": [
    "是有一个问题，如果被装饰的函数需要传入参数，那么这个装饰器就坏了。因为返回的函数并不能接受参数，你可以指定装饰器函数wrapper接受和原函数一样的参数"
   ]
  },
  {
   "cell_type": "markdown",
   "metadata": {},
   "source": [
    "### 2.0 早期版本（传参）"
   ]
  },
  {
   "cell_type": "code",
   "execution_count": 26,
   "metadata": {
    "collapsed": false
   },
   "outputs": [
    {
     "name": "stdout",
     "output_type": "stream",
     "text": [
      "[DEBUG]: enter say()\n",
      "hello say something!\n"
     ]
    }
   ],
   "source": [
    "def debug(func):\n",
    "    def wrapper(something):  # 指定一毛一样的参数\n",
    "        print(\"[DEBUG]: enter {}()\".format(func.__name__))\n",
    "        return func(something)\n",
    "    return wrapper  # 返回包装过函数\n",
    " \n",
    "@ debug\n",
    "def say(something):\n",
    "    print(\"hello {}!\".format(something))\n",
    "\n",
    "say('say something')"
   ]
  },
  {
   "cell_type": "markdown",
   "metadata": {},
   "source": [
    "### 2.5 早期版本（传任意参）\n",
    "Python提供了可变参数*args和关键字参数**kwargs，有了这两个参数，装饰器就可以用于任意目标函数了。"
   ]
  },
  {
   "cell_type": "code",
   "execution_count": 32,
   "metadata": {
    "collapsed": false
   },
   "outputs": [
    {
     "name": "stdout",
     "output_type": "stream",
     "text": [
      "[DEBUG]: enter say()\n",
      "Prepare and say...\n",
      "hello something!\n"
     ]
    }
   ],
   "source": [
    "def debug(func):\n",
    "    def wrapper(*args, **kwargs):  # 指定宇宙无敌参数\n",
    "        print(\"[DEBUG]: enter {}()\".format(func.__name__))\n",
    "        print('Prepare and say...',)\n",
    "        return func(*args, **kwargs)\n",
    "    return wrapper  # 返回\n",
    " \n",
    "@ debug\n",
    "def say(something):\n",
    "    print(\"hello {}!\".format(something))\n",
    "    \n",
    "say('something')"
   ]
  },
  {
   "cell_type": "markdown",
   "metadata": {},
   "source": [
    "### 3.0 高级版本 (传参)\n",
    "\n",
    "假设我们前文的装饰器需要完成的功能不仅仅是能在进入某个函数后打出log信息，而且还需指定log的级别，那么装饰器就会是这样的。"
   ]
  },
  {
   "cell_type": "code",
   "execution_count": 37,
   "metadata": {
    "collapsed": false
   },
   "outputs": [
    {
     "name": "stdout",
     "output_type": "stream",
     "text": [
      "[INFO]: enter function say()\n",
      "say hello!\n",
      "[DEBUG]: enter function do()\n",
      "do my work...\n"
     ]
    }
   ],
   "source": [
    "def logging(level):\n",
    "    def wrapper(func):\n",
    "        def inner_wrapper(*args, **kwargs):\n",
    "            print(\"[{level}]: enter function {func}()\".format(\n",
    "                level=level,\n",
    "                func=func.__name__))\n",
    "            return func(*args, **kwargs)\n",
    "        return inner_wrapper\n",
    "    return wrapper\n",
    " \n",
    "@logging(level='INFO')\n",
    "def say(something):\n",
    "    print(\"say {}!\".format(something))\n",
    " \n",
    "# 如果没有使用@语法，等同于\n",
    "# say = logging(level='INFO')(say)\n",
    " \n",
    "@logging(level='DEBUG')\n",
    "def do(something):\n",
    "    print('do {}...'.format(something))\n",
    " \n",
    "if __name__ == '__main__':\n",
    "    say('hello')\n",
    "    do(\"my work\")"
   ]
  },
  {
   "cell_type": "markdown",
   "metadata": {},
   "source": [
    "你可以这么理解，当带参数的装饰器被打在某个函数上时，比如@logging(level='DEBUG')，它其实是一个函数，会马上被执行，只要这个它返回的结果是一个装饰器时，那就没问题。"
   ]
  },
  {
   "cell_type": "markdown",
   "metadata": {},
   "source": [
    "### 基于类实现的装饰器\n",
    "\n",
    "装饰器函数其实是这样一个接口约束，它必须接受一个callable对象作为参数，然后返回一个callable对象。\n",
    "\n",
    "在Python中一般callable对象都是函数，但也有例外。只要某个对象重载了__call__()方法，那么这个对象就是callable的。"
   ]
  },
  {
   "cell_type": "code",
   "execution_count": 39,
   "metadata": {
    "collapsed": false
   },
   "outputs": [
    {
     "name": "stdout",
     "output_type": "stream",
     "text": [
      "call me!\n"
     ]
    }
   ],
   "source": [
    "class Test():\n",
    "    def __call__(self):\n",
    "        print('call me!')\n",
    " \n",
    "t = Test()\n",
    "t()  # call me"
   ]
  },
  {
   "cell_type": "markdown",
   "metadata": {},
   "source": [
    "像__call__这样前后都带下划线的方法在Python中被称为内置方法，有时候也被称为魔法方法。重载这些魔法方法一般会改变对象的内部行为。\n",
    "\n",
    "上面这个例子就让一个类对象拥有了被调用的行为\n",
    "\n",
    "回到装饰器上的概念上来，装饰器要求接受一个callable对象，并返回一个callable对象（不太严谨，详见后文）。那么用类来实现也是也可以的。我们可以让类的构造函数__init__()接受一个函数，然后重载__call__()并返回一个函数，也可以达到装饰器函数的效果。"
   ]
  },
  {
   "cell_type": "code",
   "execution_count": 44,
   "metadata": {
    "collapsed": false
   },
   "outputs": [
    {
     "name": "stdout",
     "output_type": "stream",
     "text": [
      "[DEBUG]: enter function say()\n",
      "say Hello Alvin!\n"
     ]
    }
   ],
   "source": [
    "class logging(object):\n",
    "    def __init__(self, func):\n",
    "        self.func = func\n",
    " \n",
    "    def __call__(self, *args, **kwargs):\n",
    "        print(\"[DEBUG]: enter function {func}()\".format(\n",
    "            func=self.func.__name__))\n",
    "        return self.func(*args, **kwargs)\n",
    "    \n",
    "@logging\n",
    "def say(something):\n",
    "    print(\"say {}!\".format(something))\n",
    "    \n",
    "if __name__=='__main__':\n",
    "    say('Hello Alvin')"
   ]
  },
  {
   "cell_type": "markdown",
   "metadata": {},
   "source": [
    "### 带参数的类装饰器\n",
    "\n",
    "如果需要通过类形式实现带参数的装饰器，那么会比前面的例子稍微复杂一点。那么在构造函数里接受的就不是一个函数，而是传入的参数。通过类把这些参数保存起来。然后在重载__call__方法是就需要接受一个函数并返回一个函数。"
   ]
  },
  {
   "cell_type": "code",
   "execution_count": 47,
   "metadata": {
    "collapsed": false
   },
   "outputs": [
    {
     "name": "stdout",
     "output_type": "stream",
     "text": [
      "[INFO]: enter function say()\n",
      "say Hello Alvin!\n"
     ]
    }
   ],
   "source": [
    "class logging(object):\n",
    "    def __init__(self, level='INFO'):\n",
    "        self.level = level\n",
    "        \n",
    "    def __call__(self, func): # 接受函数\n",
    "        def wrapper(*args, **kwargs):\n",
    "            print(\"[{level}]: enter function {func}()\".format(\n",
    "                level=self.level,\n",
    "                func=func.__name__))\n",
    "            func(*args, **kwargs)\n",
    "        return wrapper  #返回函数\n",
    " \n",
    "@logging(level='INFO')\n",
    "def say(something):\n",
    "    print(\"say {}!\".format(something))\n",
    "    \n",
    "if __name__=='__main__':\n",
    "    say('Hello Alvin')"
   ]
  },
  {
   "cell_type": "markdown",
   "metadata": {},
   "source": [
    "### 内置的装饰器\n",
    "\n",
    "内置的装饰器和普通的装饰器原理是一样的，只不过返回的不是函数，而是类对象，所以更难理解一些。"
   ]
  },
  {
   "cell_type": "markdown",
   "metadata": {},
   "source": [
    "#### @property\n",
    "在了解这个装饰器前，你需要知道在不使用装饰器怎么写一个属性。"
   ]
  },
  {
   "cell_type": "code",
   "execution_count": 49,
   "metadata": {
    "collapsed": true
   },
   "outputs": [],
   "source": [
    "def getx(self):\n",
    "    return self._x\n",
    " \n",
    "def setx(self, value):\n",
    "    self._x = value\n",
    "    \n",
    "def delx(self):\n",
    "    del self._x\n",
    " \n",
    "# create a property\n",
    "x = property(getx, setx, delx, \"I am doc for x property\")"
   ]
  },
  {
   "cell_type": "raw",
   "metadata": {},
   "source": [
    "以上就是一个Python属性的标准写法，其实和Java挺像的，但是太罗嗦。有了@语法糖，能达到一样的效果但看起来更简单。\n",
    "\n",
    "@property\n",
    "def x(self): ...\n",
    " \n",
    "# 等同于\n",
    " \n",
    "def x(self): ...\n",
    "x = property(x)\n",
    "\n",
    "属性有三个装饰器：setter, getter, deleter ，都是在property()的基础上做了一些封装，因为setter和deleter是property()的第二和第三个参数，不能直接套用@语法。getter装饰器和不带getter的属性装饰器效果是一样的，估计只是为了凑数，本身没有任何存在的意义。经过@property装饰过的函数返回的不再是一个函数，而是一个property对象。"
   ]
  },
  {
   "cell_type": "code",
   "execution_count": 50,
   "metadata": {
    "collapsed": false
   },
   "outputs": [
    {
     "data": {
      "text/plain": [
       "<property at 0x1047d0cc8>"
      ]
     },
     "execution_count": 50,
     "metadata": {},
     "output_type": "execute_result"
    }
   ],
   "source": [
    "property()"
   ]
  },
  {
   "cell_type": "markdown",
   "metadata": {},
   "source": [
    "#### @staticmethod，@classmethod\n",
    "\n",
    "有了@property装饰器的了解，这两个装饰器的原理是差不多的。\n",
    "\n",
    "@staticmethod返回的是一个staticmethod类对象\n",
    "\n",
    "@classmethod返回的是一个classmethod类对象\n",
    "\n",
    "他们都是调用的是各自的__init__()构造函数"
   ]
  },
  {
   "cell_type": "code",
   "execution_count": 51,
   "metadata": {
    "collapsed": true
   },
   "outputs": [],
   "source": [
    "class classmethod(object):\n",
    "    \"\"\"\n",
    "    classmethod(function) -> method\n",
    "    \"\"\"    \n",
    "    def __init__(self, function): # for @classmethod decorator\n",
    "        pass\n",
    "    # ...\n",
    "class staticmethod(object):\n",
    "    \"\"\"\n",
    "    staticmethod(function) -> method\n",
    "    \"\"\"\n",
    "    def __init__(self, function): # for @staticmethod decorator\n",
    "        pass\n",
    "    # ..."
   ]
  },
  {
   "cell_type": "code",
   "execution_count": 52,
   "metadata": {
    "collapsed": true
   },
   "outputs": [],
   "source": [
    "# 装饰器的@语法就等同调用了这两个类的构造函数。\n",
    "\n",
    "class Foo(object):\n",
    " \n",
    "    @staticmethod\n",
    "    def bar():\n",
    "        pass\n",
    "    \n",
    "    # 等同于 bar = staticmethod(bar)"
   ]
  },
  {
   "cell_type": "raw",
   "metadata": {},
   "source": [
    "上文提到的装饰器接口定义可以更加明确一些，装饰器必须接受一个callable对象，其实它并不关心你返回什么，可以是另外一个callable对象（大部分情况），也可以是其他类对象，比如property。"
   ]
  },
  {
   "cell_type": "markdown",
   "metadata": {},
   "source": [
    "## 装饰器里的那些坑\n",
    "\n"
   ]
  },
  {
   "cell_type": "markdown",
   "metadata": {},
   "source": [
    "### 位置错误的代码  (Note: need to review)"
   ]
  },
  {
   "cell_type": "code",
   "execution_count": 79,
   "metadata": {
    "collapsed": false
   },
   "outputs": [
    {
     "name": "stdout",
     "output_type": "stream",
     "text": [
      "begin outer function.\n",
      "end of outer function\n",
      "begin of inner wrapper function.\n",
      "end of inner wrapper function.\n",
      "<b>Hello Toby!</b>\n",
      "None\n",
      "<b>Hello Alvin!</b>\n",
      "None\n",
      "<b>Hello Andrew!</b>\n",
      "None\n"
     ]
    }
   ],
   "source": [
    "def html_tags(tag_name):\n",
    "    print ('begin outer function.')\n",
    "    def wrapper_(func):\n",
    "        print (\"begin of inner wrapper function.\")\n",
    "        def wrapper(*args, **kwargs):\n",
    "            content = func(*args, **kwargs)\n",
    "            print (\"<{tag}>{content}</{tag}>\".format(tag=tag_name, content=content))\n",
    "#             return func(*args, **kwargs)\n",
    "        print ('end of inner wrapper function.')\n",
    "        return wrapper\n",
    "    print('end of outer function')\n",
    "    return wrapper_\n",
    " \n",
    "@html_tags('b')\n",
    "def hello(name='Toby'):\n",
    "    return 'Hello {}!'.format(name)\n",
    " \n",
    "print(hello())\n",
    "print(hello('Alvin'))\n",
    "print(hello('Andrew'))"
   ]
  },
  {
   "cell_type": "code",
   "execution_count": 71,
   "metadata": {
    "collapsed": true
   },
   "outputs": [],
   "source": [
    "# template code\n",
    "def logging(level):\n",
    "    def wrapper(func):\n",
    "        def inner_wrapper(*args, **kwargs):\n",
    "            print(\"[{level}]: enter function {func}()\".format(\n",
    "                level=level,\n",
    "                func=func.__name__))\n",
    "            return func(*args, **kwargs)\n",
    "        return inner_wrapper\n",
    "    return wrapper"
   ]
  },
  {
   "cell_type": "code",
   "execution_count": 78,
   "metadata": {
    "collapsed": false
   },
   "outputs": [
    {
     "name": "stdout",
     "output_type": "stream",
     "text": [
      "begin outer function.\n",
      "end of outer function\n",
      "begin of inner wrapper function.\n",
      "end of inner wrapper function.\n",
      "<b>Hello Toby!</b>\n",
      "Hello Toby!\n",
      "<b>Hello Alvin!</b>\n",
      "Hello Alvin!\n",
      "<b>Hello Andrew!</b>\n",
      "Hello Andrew!\n"
     ]
    }
   ],
   "source": [
    "def html_tags(tag_name):\n",
    "    print ('begin outer function.')\n",
    "    def wrapper_(func):\n",
    "        print (\"begin of inner wrapper function.\")\n",
    "        def wrapper(*args, **kwargs):\n",
    "            content = func(*args, **kwargs)\n",
    "            print (\"<{tag}>{content}</{tag}>\".format(tag=tag_name, content=content))\n",
    "            return func(*args, **kwargs)\n",
    "        print ('end of inner wrapper function.')\n",
    "        return wrapper\n",
    "    print('end of outer function')\n",
    "    return wrapper_\n",
    " \n",
    "@html_tags('b')\n",
    "def hello(name='Toby'):\n",
    "    return 'Hello {}!'.format(name)\n",
    "\n",
    " \n",
    "print(hello())\n",
    "print(hello('Alvin'))\n",
    "print(hello('Andrew'))"
   ]
  },
  {
   "cell_type": "markdown",
   "metadata": {},
   "source": [
    "### 错误的函数签名和文档\n",
    "\n",
    "装饰器装饰过的函数看上去名字没变，其实已经变了。"
   ]
  },
  {
   "cell_type": "code",
   "execution_count": 125,
   "metadata": {
    "collapsed": false
   },
   "outputs": [
    {
     "name": "stdout",
     "output_type": "stream",
     "text": [
      "wrapper  -  print log before a function.\n"
     ]
    }
   ],
   "source": [
    "def logging(func):\n",
    "    def wrapper(*args, **kwargs):\n",
    "        \"\"\"print log before a function.\"\"\"\n",
    "        print( \"[DEBUG]: enter {}()\".format(func.__name__))\n",
    "        return func(*args, **kwargs)\n",
    "    return wrapper\n",
    " \n",
    "@logging\n",
    "def say(something):\n",
    "    \"\"\"say something\"\"\"\n",
    "    print (\"say {}!\".format(something))\n",
    " \n",
    "print( say.__name__, ' - ', say.__doc__)  # wrapper"
   ]
  },
  {
   "cell_type": "code",
   "execution_count": 126,
   "metadata": {
    "collapsed": true
   },
   "outputs": [],
   "source": [
    "#只要你想想装饰器的语法糖@代替的东西就明白了。@等同于这样的写法。\n",
    "say = logging(say)"
   ]
  },
  {
   "cell_type": "raw",
   "metadata": {},
   "source": [
    "使用标准库里的functools.wraps，可以基本解决这个问题"
   ]
  },
  {
   "cell_type": "code",
   "execution_count": 127,
   "metadata": {
    "collapsed": false
   },
   "outputs": [
    {
     "name": "stdout",
     "output_type": "stream",
     "text": [
      "say  -  say something\n"
     ]
    }
   ],
   "source": [
    "from functools import wraps\n",
    " \n",
    "def logging(func):\n",
    "    @wraps(func)\n",
    "    def wrapper(*args, **kwargs):\n",
    "        \"\"\"print log before a function.\"\"\"\n",
    "        print(\"[DEBUG]: enter {}()\".format(func.__name__)) \n",
    "        return func(*args, **kwargs)\n",
    "    return wrapper\n",
    " \n",
    "@logging\n",
    "def say(something):\n",
    "    \"\"\"say something\"\"\"\n",
    "    print(\"say {}!\".format(something))\n",
    " \n",
    "print( say.__name__, ' - ', say.__doc__)"
   ]
  },
  {
   "cell_type": "raw",
   "metadata": {},
   "source": [
    "Note:\n",
    "In Python 2, 函数的签名和源码还是拿不到的。\n",
    "It has been improved in Python 3. See the code below"
   ]
  },
  {
   "cell_type": "code",
   "execution_count": 128,
   "metadata": {
    "collapsed": false,
    "scrolled": false
   },
   "outputs": [
    {
     "name": "stdout",
     "output_type": "stream",
     "text": [
      "(something)\n",
      "\n",
      "@logging\n",
      "def say(something):\n",
      "    \"\"\"say something\"\"\"\n",
      "    print(\"say {}!\".format(something))\n",
      "\n"
     ]
    }
   ],
   "source": [
    "import inspect\n",
    "# print(inspect.getargspec(say))  # deprecated in python 3\n",
    "print(inspect.signature(say)) \n",
    "print()\n",
    "print(inspect.getsource(say)) "
   ]
  },
  {
   "cell_type": "markdown",
   "metadata": {},
   "source": [
    "## 小结\n",
    "\n",
    "Python的装饰器和Java的注解（Annotation）并不是同一回事，和C#中的特性（Attribute）也不一样，完全是两个概念。\n",
    "\n",
    "装饰器的理念是对原函数、对象的加强，相当于重新封装，所以一般装饰器函数都被命名为wrapper()，意义在于包装。函数只有在被调用时才会发挥其作用。比如@logging装饰器可以在函数执行时额外输出日志，@cache装饰过的函数可以缓存计算结果等等。\n",
    "\n",
    "而注解和特性则是对目标函数或对象添加一些属性，相当于将其分类。这些属性可以通过反射拿到，在程序运行时对不同的特性函数或对象加以干预。比如带有Setup的函数就当成准备步骤执行，或者找到所有带有TestMethod的函数依次执行等等。"
   ]
  }
 ],
 "metadata": {
  "kernelspec": {
   "display_name": "Python 3",
   "language": "python",
   "name": "python3"
  },
  "language_info": {
   "codemirror_mode": {
    "name": "ipython",
    "version": 3
   },
   "file_extension": ".py",
   "mimetype": "text/x-python",
   "name": "python",
   "nbconvert_exporter": "python",
   "pygments_lexer": "ipython3",
   "version": "3.5.2"
  }
 },
 "nbformat": 4,
 "nbformat_minor": 2
}
